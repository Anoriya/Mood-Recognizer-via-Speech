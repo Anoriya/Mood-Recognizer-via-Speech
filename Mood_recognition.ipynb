{
 "cells": [
  {
   "cell_type": "code",
   "execution_count": 2,
   "metadata": {
    "pycharm": {
     "is_executing": false
    }
   },
   "outputs": [],
   "source": [
    "import librosa\n",
    "import librosa.display\n",
    "import numpy as np\n",
    "import matplotlib.pyplot as plt\n",
    "import tensorflow as tf\n",
    "from matplotlib.pyplot import specgram\n",
    "import keras\n",
    "from keras.preprocessing import sequence\n",
    "from keras.models import Sequential\n",
    "from keras.layers import Dense, Embedding\n",
    "from keras.layers import LSTM\n",
    "from keras.preprocessing.text import Tokenizer\n",
    "from keras.preprocessing.sequence import pad_sequences\n",
    "from keras.utils import to_categorical\n",
    "from keras.layers import Input, Flatten, Dropout, Activation\n",
    "from keras.layers import Conv2D, MaxPooling2D, AveragePooling1D\n",
    "from keras.models import Model\n",
    "from keras.callbacks import ModelCheckpoint\n",
    "from sklearn.metrics import confusion_matrix\n",
    "from keras import regularizers\n",
    "import os\n",
    "import pandas as pd"
   ]
  },
  {
   "cell_type": "code",
   "execution_count": 3,
   "metadata": {
    "pycharm": {
     "is_executing": true
    }
   },
   "outputs": [
    {
     "data": {
      "text/plain": [
       "list"
      ]
     },
     "execution_count": 3,
     "metadata": {},
     "output_type": "execute_result"
    }
   ],
   "source": [
    "from sklearn.model_selection import train_test_split\n",
    "mylist= os.listdir('C:\\\\Users\\Kalelt\\'has\\Desktop\\Stage\\Sound Data\\Raw Data')\n",
    "type(mylist)"
   ]
  },
  {
   "cell_type": "code",
   "execution_count": 4,
   "metadata": {
    "pycharm": {
     "is_executing": true
    }
   },
   "outputs": [
    {
     "data": {
      "text/plain": [
       "2932"
      ]
     },
     "execution_count": 4,
     "metadata": {},
     "output_type": "execute_result"
    }
   ],
   "source": [
    "len(mylist)"
   ]
  },
  {
   "cell_type": "code",
   "execution_count": 5,
   "metadata": {
    "pycharm": {
     "is_executing": true
    }
   },
   "outputs": [],
   "source": [
    "feeling_list=[]\n",
    "for item in mylist:\n",
    "    if item[6:-16]=='03':\n",
    "        feeling_list.append('happy')\n",
    "    elif item[6:-16]=='04':\n",
    "        feeling_list.append('sad')\n",
    "    elif item[6:-16]=='05':\n",
    "        feeling_list.append('angry')\n",
    "    elif item[6:-16]=='06':\n",
    "        feeling_list.append('fearful')\n",
    "    elif item[6:-16]=='07':\n",
    "        feeling_list.append('disgust')\n",
    "    elif item[6:-16]=='08':\n",
    "        feeling_list.append('surprised')\n",
    "    elif item[6:-16]=='01':\n",
    "        feeling_list.append('neutral')\n",
    "    elif item[:1]=='a':\n",
    "        feeling_list.append('angry')\n",
    "    elif item[:1]=='f':\n",
    "        feeling_list.append('fearful')\n",
    "    elif item[:1]=='h':\n",
    "        feeling_list.append('happy')\n",
    "    elif item[:1]=='n':\n",
    "        feeling_list.append('neutral')\n",
    "    elif item[:1]=='d':\n",
    "        feeling_list.append('disgust')\n",
    "    elif item[:2]=='su':\n",
    "        feeling_list.append('surprised')\n",
    "    elif item[:2]=='sa':\n",
    "        feeling_list.append('sad')"
   ]
  },
  {
   "cell_type": "code",
   "execution_count": 6,
   "metadata": {
    "pycharm": {
     "is_executing": true
    }
   },
   "outputs": [
    {
     "data": {
      "text/plain": [
       "2556"
      ]
     },
     "execution_count": 6,
     "metadata": {},
     "output_type": "execute_result"
    }
   ],
   "source": [
    "labels = pd.DataFrame(feeling_list)\n",
    "labels = labels.rename(columns={0: 'label'})\n",
    "len(labels)"
   ]
  },
  {
   "cell_type": "code",
   "execution_count": 7,
   "metadata": {
    "pycharm": {
     "is_executing": true
    }
   },
   "outputs": [],
   "source": [
    "import seaborn as sns\n",
    "# Plotting the emotion distribution\n",
    "\n",
    "def plot_emotion_dist(dist, color_code='#C2185B', title=\"Plot\"):\n",
    "    \"\"\"\n",
    "    To plot the data distributioin by class.\n",
    "    Arg:\n",
    "      dist: pandas series of label count. \n",
    "    \"\"\"\n",
    "    tmp_df = pd.DataFrame()\n",
    "    tmp_df['Emotion'] = list(dist.keys())\n",
    "    tmp_df['Count'] = list(dist)\n",
    "    fig, ax = plt.subplots(figsize=(14, 7))\n",
    "    ax = sns.barplot(x=\"Emotion\", y='Count', color=color_code, data=tmp_df)\n",
    "    ax.set_title(title)\n",
    "    ax.set_xticklabels(ax.get_xticklabels(),rotation=45)"
   ]
  },
  {
   "cell_type": "code",
   "execution_count": 8,
   "metadata": {
    "pycharm": {
     "is_executing": true
    }
   },
   "outputs": [
    {
     "name": "stdout",
     "output_type": "stream",
     "text": [
      "fearful      436\n",
      "angry        436\n",
      "happy        436\n",
      "sad          436\n",
      "neutral      308\n",
      "surprised    252\n",
      "disgust      252\n",
      "Name: label, dtype: int64\n"
     ]
    },
    {
     "data": {
      "image/png": "[encoded data removed]",
      "text/plain": [
       "<Figure size 1008x504 with 1 Axes>"
      ]
     },
     "metadata": {
      "needs_background": "light"
     },
     "output_type": "display_data"
    }
   ],
   "source": [
    "plot = labels.label.value_counts()\n",
    "print(plot)\n",
    "plot_emotion_dist(plot, \"#2962FF\", \"Emotion Distribution\")"
   ]
  },
  {
   "cell_type": "code",
   "execution_count": 9,
   "metadata": {},
   "outputs": [
    {
     "data": {
      "text/plain": [
       "0         neutral\n",
       "1         neutral\n",
       "2         neutral\n",
       "3         neutral\n",
       "4         neutral\n",
       "          ...    \n",
       "2551    surprised\n",
       "2552    surprised\n",
       "2553    surprised\n",
       "2554    surprised\n",
       "2555    surprised\n",
       "Name: label, Length: 2556, dtype: object"
      ]
     },
     "execution_count": 9,
     "metadata": {},
     "output_type": "execute_result"
    }
   ],
   "source": [
    "labels.label"
   ]
  },
  {
   "cell_type": "code",
   "execution_count": 10,
   "metadata": {
    "pycharm": {
     "is_executing": true
    }
   },
   "outputs": [],
   "source": [
    "#Prepare the dict\n",
    "my_dict = {}\n",
    "i=0\n",
    "for i in range(216):\n",
    "    my_dict[i] = []"
   ]
  },
  {
   "cell_type": "code",
   "execution_count": 11,
   "metadata": {
    "pycharm": {
     "is_executing": true
    }
   },
   "outputs": [],
   "source": [
    "for index,y in enumerate(mylist):\n",
    "    if mylist[index][6:-16]!='02':\n",
    "        X, sample_rate = librosa.load('C:\\\\Users\\Kalelt\\'has\\Desktop\\Stage\\Sound Data\\Raw Data\\\\'+y, res_type='kaiser_fast',duration=2.5,sr=22050*2,offset=0.5)\n",
    "        sample_rate = np.array(sample_rate)\n",
    "        mfccs = librosa.feature.mfcc(y=X,sr=sample_rate,n_mfcc=12).T\n",
    "        for i in range(len(mfccs)):\n",
    "            my_dict[i].append(mfccs[i])"
   ]
  },
  {
   "cell_type": "code",
   "execution_count": 12,
   "metadata": {
    "pycharm": {
     "is_executing": true
    }
   },
   "outputs": [],
   "source": [
    "df = pd.DataFrame.from_dict(my_dict, orient='index').T"
   ]
  },
  {
   "cell_type": "code",
   "execution_count": 13,
   "metadata": {
    "pycharm": {
     "is_executing": true
    }
   },
   "outputs": [],
   "source": [
    "xd = df\n",
    "for i in range(len(df)):\n",
    "    for j in range(216):\n",
    "        if xd.iloc[i,j] is None:\n",
    "            xd.iloc[i,j] = np.zeros(12)"
   ]
  },
  {
   "cell_type": "code",
   "execution_count": 14,
   "metadata": {
    "pycharm": {
     "is_executing": true
    }
   },
   "outputs": [
    {
     "data": {
      "text/html": [
       "<div>\n",
       "<style scoped>\n",
       "    .dataframe tbody tr th:only-of-type {\n",
       "        vertical-align: middle;\n",
       "    }\n",
       "\n",
       "    .dataframe tbody tr th {\n",
       "        vertical-align: top;\n",
       "    }\n",
       "\n",
       "    .dataframe thead th {\n",
       "        text-align: right;\n",
       "    }\n",
       "</style>\n",
       "<table border=\"1\" class=\"dataframe\">\n",
       "  <thead>\n",
       "    <tr style=\"text-align: right;\">\n",
       "      <th></th>\n",
       "      <th>0</th>\n",
       "      <th>1</th>\n",
       "      <th>2</th>\n",
       "      <th>3</th>\n",
       "      <th>4</th>\n",
       "      <th>5</th>\n",
       "      <th>6</th>\n",
       "      <th>7</th>\n",
       "      <th>8</th>\n",
       "      <th>9</th>\n",
       "      <th>...</th>\n",
       "      <th>207</th>\n",
       "      <th>208</th>\n",
       "      <th>209</th>\n",
       "      <th>210</th>\n",
       "      <th>211</th>\n",
       "      <th>212</th>\n",
       "      <th>213</th>\n",
       "      <th>214</th>\n",
       "      <th>215</th>\n",
       "      <th>label</th>\n",
       "    </tr>\n",
       "  </thead>\n",
       "  <tbody>\n",
       "    <tr>\n",
       "      <th>0</th>\n",
       "      <td>[-855.4126, 0.0, 0.0, 0.0, 0.0, 0.0, 0.0, 0.0,...</td>\n",
       "      <td>[-855.4126, 0.0, 0.0, 0.0, 0.0, 0.0, 0.0, 0.0,...</td>\n",
       "      <td>[-855.4126, 0.0, 0.0, 0.0, 0.0, 0.0, 0.0, 0.0,...</td>\n",
       "      <td>[-855.4126, 0.0, 0.0, 0.0, 0.0, 0.0, 0.0, 0.0,...</td>\n",
       "      <td>[-855.4126, 0.0, 0.0, 0.0, 0.0, 0.0, 0.0, 0.0,...</td>\n",
       "      <td>[-855.4126, 0.0, 0.0, 0.0, 0.0, 0.0, 0.0, 0.0,...</td>\n",
       "      <td>[-855.4126, 0.0, 0.0, 0.0, 0.0, 0.0, 0.0, 0.0,...</td>\n",
       "      <td>[-855.4126, 0.0, 0.0, 0.0, 0.0, 0.0, 0.0, 0.0,...</td>\n",
       "      <td>[-855.4126, 0.0, 0.0, 0.0, 0.0, 0.0, 0.0, 0.0,...</td>\n",
       "      <td>[-855.4126, 0.0, 0.0, 0.0, 0.0, 0.0, 0.0, 0.0,...</td>\n",
       "      <td>...</td>\n",
       "      <td>[-852.7659, 3.7398262, 3.7303648, 3.7146397, 3...</td>\n",
       "      <td>[-854.7548, 0.9293566, 0.9270228, 0.9231334, 0...</td>\n",
       "      <td>[-855.0615, 0.49615216, 0.49515492, 0.49349436...</td>\n",
       "      <td>[-854.1553, 1.7768778, 1.7735907, 1.7681226, 1...</td>\n",
       "      <td>[-854.2701, 1.6132803, 1.6062467, 1.5947204, 1...</td>\n",
       "      <td>[-854.79333, 0.8751819, 0.8735771, 0.87091243,...</td>\n",
       "      <td>[-853.399, 2.8447864, 2.8360765, 2.8216248, 2....</td>\n",
       "      <td>[-854.20074, 1.7127061, 1.7094843, 1.7041247, ...</td>\n",
       "      <td>[-853.0279, 3.359327, 3.3201904, 3.2559023, 3....</td>\n",
       "      <td>neutral</td>\n",
       "    </tr>\n",
       "    <tr>\n",
       "      <th>1</th>\n",
       "      <td>[-821.7846, 0.0, 0.0, 0.0, 0.0, 0.0, 0.0, 0.0,...</td>\n",
       "      <td>[-821.7846, 0.0, 0.0, 0.0, 0.0, 0.0, 0.0, 0.0,...</td>\n",
       "      <td>[-821.7846, 0.0, 0.0, 0.0, 0.0, 0.0, 0.0, 0.0,...</td>\n",
       "      <td>[-821.7846, 0.0, 0.0, 0.0, 0.0, 0.0, 0.0, 0.0,...</td>\n",
       "      <td>[-821.7846, 0.0, 0.0, 0.0, 0.0, 0.0, 0.0, 0.0,...</td>\n",
       "      <td>[-821.13354, -0.45227766, -0.4762841, 0.919759...</td>\n",
       "      <td>[-812.50635, -1.3923113, -2.837748, 10.556901,...</td>\n",
       "      <td>[-812.2545, 0.47208667, -1.3423647, 9.645514, ...</td>\n",
       "      <td>[-820.55914, 0.5437228, 0.2414756, 1.0925915, ...</td>\n",
       "      <td>[-821.62164, -0.108744904, -0.12704813, 0.2273...</td>\n",
       "      <td>...</td>\n",
       "      <td>[-804.8696, 23.238768, 21.388206, 18.740921, 1...</td>\n",
       "      <td>[-802.52905, 25.882265, 22.24023, 17.351395, 1...</td>\n",
       "      <td>[-802.88104, 25.116793, 20.99273, 15.970868, 1...</td>\n",
       "      <td>[-805.04504, 22.240238, 18.569805, 14.087547, ...</td>\n",
       "      <td>[-804.15796, 22.135447, 15.313034, 7.9197245, ...</td>\n",
       "      <td>[-804.4919, 22.181942, 16.381016, 9.514078, 4....</td>\n",
       "      <td>[-805.3632, 21.638456, 17.417744, 11.918913, 6...</td>\n",
       "      <td>[-803.8157, 24.056448, 20.318403, 15.074839, 9...</td>\n",
       "      <td>[-810.08716, 15.698001, 13.357195, 10.0368, 6....</td>\n",
       "      <td>neutral</td>\n",
       "    </tr>\n",
       "    <tr>\n",
       "      <th>2</th>\n",
       "      <td>[-783.3624, 0.0, 0.0, 0.0, 0.0, 0.0, 0.0, 0.0,...</td>\n",
       "      <td>[-783.3624, 0.0, 0.0, 0.0, 0.0, 0.0, 0.0, 0.0,...</td>\n",
       "      <td>[-783.3624, 0.0, 0.0, 0.0, 0.0, 0.0, 0.0, 0.0,...</td>\n",
       "      <td>[-783.3624, 0.0, 0.0, 0.0, 0.0, 0.0, 0.0, 0.0,...</td>\n",
       "      <td>[-783.3624, 0.0, 0.0, 0.0, 0.0, 0.0, 0.0, 0.0,...</td>\n",
       "      <td>[-783.3624, 0.0, 0.0, 0.0, 0.0, 0.0, 0.0, 0.0,...</td>\n",
       "      <td>[-783.3624, 0.0, 0.0, 0.0, 0.0, 0.0, 0.0, 0.0,...</td>\n",
       "      <td>[-783.3624, 0.0, 0.0, 0.0, 0.0, 0.0, 0.0, 0.0,...</td>\n",
       "      <td>[-783.3624, 0.0, 0.0, 0.0, 0.0, 0.0, 0.0, 0.0,...</td>\n",
       "      <td>[-783.3624, 0.0, 0.0, 0.0, 0.0, 0.0, 0.0, 0.0,...</td>\n",
       "      <td>...</td>\n",
       "      <td>[-768.4601, 19.58313, 16.457134, 14.096729, 13...</td>\n",
       "      <td>[-766.63574, 22.676502, 20.294708, 17.63641, 1...</td>\n",
       "      <td>[-761.7448, 29.168606, 25.644545, 21.469763, 1...</td>\n",
       "      <td>[-763.19244, 27.045345, 23.24071, 18.607624, 1...</td>\n",
       "      <td>[-770.62866, 17.464836, 15.928329, 13.6533165,...</td>\n",
       "      <td>[-772.97015, 14.067352, 12.330967, 9.887375, 7...</td>\n",
       "      <td>[-766.97754, 21.83543, 18.301792, 13.719212, 9...</td>\n",
       "      <td>[-764.3447, 25.480705, 21.830109, 17.265268, 1...</td>\n",
       "      <td>[-765.27563, 24.268303, 21.179089, 17.718077, ...</td>\n",
       "      <td>neutral</td>\n",
       "    </tr>\n",
       "    <tr>\n",
       "      <th>3</th>\n",
       "      <td>[-864.34515, 0.0, 0.0, 0.0, 0.0, 0.0, 0.0, 0.0...</td>\n",
       "      <td>[-864.34515, 0.0, 0.0, 0.0, 0.0, 0.0, 0.0, 0.0...</td>\n",
       "      <td>[-864.34515, 0.0, 0.0, 0.0, 0.0, 0.0, 0.0, 0.0...</td>\n",
       "      <td>[-864.34515, 0.0, 0.0, 0.0, 0.0, 0.0, 0.0, 0.0...</td>\n",
       "      <td>[-864.34515, 0.0, 0.0, 0.0, 0.0, 0.0, 0.0, 0.0...</td>\n",
       "      <td>[-864.34515, 0.0, 0.0, 0.0, 0.0, 0.0, 0.0, 0.0...</td>\n",
       "      <td>[-860.83636, -4.710763, 3.9831913, -2.8565996,...</td>\n",
       "      <td>[-856.79315, -10.1305, 8.542254, -6.089765, 3....</td>\n",
       "      <td>[-860.0415, -5.7772565, 4.8832717, -3.4995217,...</td>\n",
       "      <td>[-864.34515, 0.0, 0.0, 0.0, 0.0, 0.0, 0.0, 0.0...</td>\n",
       "      <td>...</td>\n",
       "      <td>[-853.5374, 14.629644, 12.938563, 10.728258, 8...</td>\n",
       "      <td>[-856.2662, 10.81254, 9.174643, 6.937224, 4.44...</td>\n",
       "      <td>[-860.00793, 5.4010243, 3.4921875, 1.1485866, ...</td>\n",
       "      <td>[-861.66724, 3.5617552, 3.0976498, 2.7365787, ...</td>\n",
       "      <td>[-857.03516, 8.817564, 5.746298, 3.6268888, 2....</td>\n",
       "      <td>[-855.90045, 11.213295, 9.260658, 6.647816, 3....</td>\n",
       "      <td>[-855.6426, 11.319319, 8.957191, 6.4642467, 4....</td>\n",
       "      <td>[-860.6173, 5.0931444, 4.592247, 3.8604326, 3....</td>\n",
       "      <td>[-864.34515, 0.0, 0.0, 0.0, 0.0, 0.0, 0.0, 0.0...</td>\n",
       "      <td>neutral</td>\n",
       "    </tr>\n",
       "    <tr>\n",
       "      <th>4</th>\n",
       "      <td>[-864.3776, 8.127356, 7.884954, 7.6639547, 7.5...</td>\n",
       "      <td>[-864.946, 7.3574443, 7.204069, 7.1013308, 7.0...</td>\n",
       "      <td>[-868.55853, 2.3213463, 2.3170085, 2.3097866, ...</td>\n",
       "      <td>[-869.71155, 0.6920187, 0.69145864, 0.6905184,...</td>\n",
       "      <td>[-865.8574, 6.081609, 5.965397, 5.9163666, 5.9...</td>\n",
       "      <td>[-864.7549, 7.320035, 6.6085896, 6.365541, 6.8...</td>\n",
       "      <td>[-866.9905, 4.5374575, 4.529083, 4.515147, 4.4...</td>\n",
       "      <td>[-867.3611, 4.0134726, 4.0053864, 3.991928, 3....</td>\n",
       "      <td>[-865.1668, 7.0757146, 6.984665, 6.9181204, 6....</td>\n",
       "      <td>[-863.0326, 9.387402, 7.8706837, 6.969913, 7.2...</td>\n",
       "      <td>...</td>\n",
       "      <td>[-837.63605, 41.153885, 29.524885, 17.727272, ...</td>\n",
       "      <td>[-832.2829, 46.128418, 29.561947, 15.728878, 1...</td>\n",
       "      <td>[-835.6623, 42.727295, 28.810658, 16.206654, 1...</td>\n",
       "      <td>[-845.30383, 32.340084, 25.161396, 16.834219, ...</td>\n",
       "      <td>[-849.93097, 26.564222, 21.212013, 14.778395, ...</td>\n",
       "      <td>[-846.4228, 30.24308, 22.44601, 15.062183, 11....</td>\n",
       "      <td>[-847.0545, 29.797184, 22.969273, 16.333324, 1...</td>\n",
       "      <td>[-858.9753, 14.669733, 11.819754, 8.911891, 6....</td>\n",
       "      <td>[-867.5775, 3.6292028, 3.400793, 3.0636692, 2....</td>\n",
       "      <td>neutral</td>\n",
       "    </tr>\n",
       "  </tbody>\n",
       "</table>\n",
       "<p>5 rows × 217 columns</p>\n",
       "</div>"
      ],
      "text/plain": [
       "                                                   0  \\\n",
       "0  [-855.4126, 0.0, 0.0, 0.0, 0.0, 0.0, 0.0, 0.0,...   \n",
       "1  [-821.7846, 0.0, 0.0, 0.0, 0.0, 0.0, 0.0, 0.0,...   \n",
       "2  [-783.3624, 0.0, 0.0, 0.0, 0.0, 0.0, 0.0, 0.0,...   \n",
       "3  [-864.34515, 0.0, 0.0, 0.0, 0.0, 0.0, 0.0, 0.0...   \n",
       "4  [-864.3776, 8.127356, 7.884954, 7.6639547, 7.5...   \n",
       "\n",
       "                                                   1  \\\n",
       "0  [-855.4126, 0.0, 0.0, 0.0, 0.0, 0.0, 0.0, 0.0,...   \n",
       "1  [-821.7846, 0.0, 0.0, 0.0, 0.0, 0.0, 0.0, 0.0,...   \n",
       "2  [-783.3624, 0.0, 0.0, 0.0, 0.0, 0.0, 0.0, 0.0,...   \n",
       "3  [-864.34515, 0.0, 0.0, 0.0, 0.0, 0.0, 0.0, 0.0...   \n",
       "4  [-864.946, 7.3574443, 7.204069, 7.1013308, 7.0...   \n",
       "\n",
       "                                                   2  \\\n",
       "0  [-855.4126, 0.0, 0.0, 0.0, 0.0, 0.0, 0.0, 0.0,...   \n",
       "1  [-821.7846, 0.0, 0.0, 0.0, 0.0, 0.0, 0.0, 0.0,...   \n",
       "2  [-783.3624, 0.0, 0.0, 0.0, 0.0, 0.0, 0.0, 0.0,...   \n",
       "3  [-864.34515, 0.0, 0.0, 0.0, 0.0, 0.0, 0.0, 0.0...   \n",
       "4  [-868.55853, 2.3213463, 2.3170085, 2.3097866, ...   \n",
       "\n",
       "                                                   3  \\\n",
       "0  [-855.4126, 0.0, 0.0, 0.0, 0.0, 0.0, 0.0, 0.0,...   \n",
       "1  [-821.7846, 0.0, 0.0, 0.0, 0.0, 0.0, 0.0, 0.0,...   \n",
       "2  [-783.3624, 0.0, 0.0, 0.0, 0.0, 0.0, 0.0, 0.0,...   \n",
       "3  [-864.34515, 0.0, 0.0, 0.0, 0.0, 0.0, 0.0, 0.0...   \n",
       "4  [-869.71155, 0.6920187, 0.69145864, 0.6905184,...   \n",
       "\n",
       "                                                   4  \\\n",
       "0  [-855.4126, 0.0, 0.0, 0.0, 0.0, 0.0, 0.0, 0.0,...   \n",
       "1  [-821.7846, 0.0, 0.0, 0.0, 0.0, 0.0, 0.0, 0.0,...   \n",
       "2  [-783.3624, 0.0, 0.0, 0.0, 0.0, 0.0, 0.0, 0.0,...   \n",
       "3  [-864.34515, 0.0, 0.0, 0.0, 0.0, 0.0, 0.0, 0.0...   \n",
       "4  [-865.8574, 6.081609, 5.965397, 5.9163666, 5.9...   \n",
       "\n",
       "                                                   5  \\\n",
       "0  [-855.4126, 0.0, 0.0, 0.0, 0.0, 0.0, 0.0, 0.0,...   \n",
       "1  [-821.13354, -0.45227766, -0.4762841, 0.919759...   \n",
       "2  [-783.3624, 0.0, 0.0, 0.0, 0.0, 0.0, 0.0, 0.0,...   \n",
       "3  [-864.34515, 0.0, 0.0, 0.0, 0.0, 0.0, 0.0, 0.0...   \n",
       "4  [-864.7549, 7.320035, 6.6085896, 6.365541, 6.8...   \n",
       "\n",
       "                                                   6  \\\n",
       "0  [-855.4126, 0.0, 0.0, 0.0, 0.0, 0.0, 0.0, 0.0,...   \n",
       "1  [-812.50635, -1.3923113, -2.837748, 10.556901,...   \n",
       "2  [-783.3624, 0.0, 0.0, 0.0, 0.0, 0.0, 0.0, 0.0,...   \n",
       "3  [-860.83636, -4.710763, 3.9831913, -2.8565996,...   \n",
       "4  [-866.9905, 4.5374575, 4.529083, 4.515147, 4.4...   \n",
       "\n",
       "                                                   7  \\\n",
       "0  [-855.4126, 0.0, 0.0, 0.0, 0.0, 0.0, 0.0, 0.0,...   \n",
       "1  [-812.2545, 0.47208667, -1.3423647, 9.645514, ...   \n",
       "2  [-783.3624, 0.0, 0.0, 0.0, 0.0, 0.0, 0.0, 0.0,...   \n",
       "3  [-856.79315, -10.1305, 8.542254, -6.089765, 3....   \n",
       "4  [-867.3611, 4.0134726, 4.0053864, 3.991928, 3....   \n",
       "\n",
       "                                                   8  \\\n",
       "0  [-855.4126, 0.0, 0.0, 0.0, 0.0, 0.0, 0.0, 0.0,...   \n",
       "1  [-820.55914, 0.5437228, 0.2414756, 1.0925915, ...   \n",
       "2  [-783.3624, 0.0, 0.0, 0.0, 0.0, 0.0, 0.0, 0.0,...   \n",
       "3  [-860.0415, -5.7772565, 4.8832717, -3.4995217,...   \n",
       "4  [-865.1668, 7.0757146, 6.984665, 6.9181204, 6....   \n",
       "\n",
       "                                                   9  ...  \\\n",
       "0  [-855.4126, 0.0, 0.0, 0.0, 0.0, 0.0, 0.0, 0.0,...  ...   \n",
       "1  [-821.62164, -0.108744904, -0.12704813, 0.2273...  ...   \n",
       "2  [-783.3624, 0.0, 0.0, 0.0, 0.0, 0.0, 0.0, 0.0,...  ...   \n",
       "3  [-864.34515, 0.0, 0.0, 0.0, 0.0, 0.0, 0.0, 0.0...  ...   \n",
       "4  [-863.0326, 9.387402, 7.8706837, 6.969913, 7.2...  ...   \n",
       "\n",
       "                                                 207  \\\n",
       "0  [-852.7659, 3.7398262, 3.7303648, 3.7146397, 3...   \n",
       "1  [-804.8696, 23.238768, 21.388206, 18.740921, 1...   \n",
       "2  [-768.4601, 19.58313, 16.457134, 14.096729, 13...   \n",
       "3  [-853.5374, 14.629644, 12.938563, 10.728258, 8...   \n",
       "4  [-837.63605, 41.153885, 29.524885, 17.727272, ...   \n",
       "\n",
       "                                                 208  \\\n",
       "0  [-854.7548, 0.9293566, 0.9270228, 0.9231334, 0...   \n",
       "1  [-802.52905, 25.882265, 22.24023, 17.351395, 1...   \n",
       "2  [-766.63574, 22.676502, 20.294708, 17.63641, 1...   \n",
       "3  [-856.2662, 10.81254, 9.174643, 6.937224, 4.44...   \n",
       "4  [-832.2829, 46.128418, 29.561947, 15.728878, 1...   \n",
       "\n",
       "                                                 209  \\\n",
       "0  [-855.0615, 0.49615216, 0.49515492, 0.49349436...   \n",
       "1  [-802.88104, 25.116793, 20.99273, 15.970868, 1...   \n",
       "2  [-761.7448, 29.168606, 25.644545, 21.469763, 1...   \n",
       "3  [-860.00793, 5.4010243, 3.4921875, 1.1485866, ...   \n",
       "4  [-835.6623, 42.727295, 28.810658, 16.206654, 1...   \n",
       "\n",
       "                                                 210  \\\n",
       "0  [-854.1553, 1.7768778, 1.7735907, 1.7681226, 1...   \n",
       "1  [-805.04504, 22.240238, 18.569805, 14.087547, ...   \n",
       "2  [-763.19244, 27.045345, 23.24071, 18.607624, 1...   \n",
       "3  [-861.66724, 3.5617552, 3.0976498, 2.7365787, ...   \n",
       "4  [-845.30383, 32.340084, 25.161396, 16.834219, ...   \n",
       "\n",
       "                                                 211  \\\n",
       "0  [-854.2701, 1.6132803, 1.6062467, 1.5947204, 1...   \n",
       "1  [-804.15796, 22.135447, 15.313034, 7.9197245, ...   \n",
       "2  [-770.62866, 17.464836, 15.928329, 13.6533165,...   \n",
       "3  [-857.03516, 8.817564, 5.746298, 3.6268888, 2....   \n",
       "4  [-849.93097, 26.564222, 21.212013, 14.778395, ...   \n",
       "\n",
       "                                                 212  \\\n",
       "0  [-854.79333, 0.8751819, 0.8735771, 0.87091243,...   \n",
       "1  [-804.4919, 22.181942, 16.381016, 9.514078, 4....   \n",
       "2  [-772.97015, 14.067352, 12.330967, 9.887375, 7...   \n",
       "3  [-855.90045, 11.213295, 9.260658, 6.647816, 3....   \n",
       "4  [-846.4228, 30.24308, 22.44601, 15.062183, 11....   \n",
       "\n",
       "                                                 213  \\\n",
       "0  [-853.399, 2.8447864, 2.8360765, 2.8216248, 2....   \n",
       "1  [-805.3632, 21.638456, 17.417744, 11.918913, 6...   \n",
       "2  [-766.97754, 21.83543, 18.301792, 13.719212, 9...   \n",
       "3  [-855.6426, 11.319319, 8.957191, 6.4642467, 4....   \n",
       "4  [-847.0545, 29.797184, 22.969273, 16.333324, 1...   \n",
       "\n",
       "                                                 214  \\\n",
       "0  [-854.20074, 1.7127061, 1.7094843, 1.7041247, ...   \n",
       "1  [-803.8157, 24.056448, 20.318403, 15.074839, 9...   \n",
       "2  [-764.3447, 25.480705, 21.830109, 17.265268, 1...   \n",
       "3  [-860.6173, 5.0931444, 4.592247, 3.8604326, 3....   \n",
       "4  [-858.9753, 14.669733, 11.819754, 8.911891, 6....   \n",
       "\n",
       "                                                 215    label  \n",
       "0  [-853.0279, 3.359327, 3.3201904, 3.2559023, 3....  neutral  \n",
       "1  [-810.08716, 15.698001, 13.357195, 10.0368, 6....  neutral  \n",
       "2  [-765.27563, 24.268303, 21.179089, 17.718077, ...  neutral  \n",
       "3  [-864.34515, 0.0, 0.0, 0.0, 0.0, 0.0, 0.0, 0.0...  neutral  \n",
       "4  [-867.5775, 3.6292028, 3.400793, 3.0636692, 2....  neutral  \n",
       "\n",
       "[5 rows x 217 columns]"
      ]
     },
     "execution_count": 14,
     "metadata": {},
     "output_type": "execute_result"
    }
   ],
   "source": [
    "newdf = pd.concat([xd,labels], axis=1)\n",
    "newdf[:5]"
   ]
  },
  {
   "cell_type": "code",
   "execution_count": 15,
   "metadata": {
    "pycharm": {
     "is_executing": true
    },
    "scrolled": true
   },
   "outputs": [
    {
     "data": {
      "text/html": [
       "<div>\n",
       "<style scoped>\n",
       "    .dataframe tbody tr th:only-of-type {\n",
       "        vertical-align: middle;\n",
       "    }\n",
       "\n",
       "    .dataframe tbody tr th {\n",
       "        vertical-align: top;\n",
       "    }\n",
       "\n",
       "    .dataframe thead th {\n",
       "        text-align: right;\n",
       "    }\n",
       "</style>\n",
       "<table border=\"1\" class=\"dataframe\">\n",
       "  <thead>\n",
       "    <tr style=\"text-align: right;\">\n",
       "      <th></th>\n",
       "      <th>0</th>\n",
       "      <th>1</th>\n",
       "      <th>2</th>\n",
       "      <th>3</th>\n",
       "      <th>4</th>\n",
       "      <th>5</th>\n",
       "      <th>6</th>\n",
       "      <th>7</th>\n",
       "      <th>8</th>\n",
       "      <th>9</th>\n",
       "      <th>...</th>\n",
       "      <th>207</th>\n",
       "      <th>208</th>\n",
       "      <th>209</th>\n",
       "      <th>210</th>\n",
       "      <th>211</th>\n",
       "      <th>212</th>\n",
       "      <th>213</th>\n",
       "      <th>214</th>\n",
       "      <th>215</th>\n",
       "      <th>label</th>\n",
       "    </tr>\n",
       "  </thead>\n",
       "  <tbody>\n",
       "    <tr>\n",
       "      <th>1287</th>\n",
       "      <td>[-730.6614, 7.27658, 6.32057, 5.869996, 6.2712...</td>\n",
       "      <td>[-730.91394, 7.069623, 6.432932, 6.182434, 6.4...</td>\n",
       "      <td>[-729.89056, 8.293904, 7.240379, 6.8426037, 7....</td>\n",
       "      <td>[-732.5046, 4.8585863, 4.302132, 4.1093955, 4....</td>\n",
       "      <td>[-731.8414, 6.085843, 6.0477552, 5.9856224, 5....</td>\n",
       "      <td>[-729.9222, 8.7527895, 8.616952, 8.475161, 8.3...</td>\n",
       "      <td>[-730.8093, 7.0156155, 6.012932, 5.6654806, 6....</td>\n",
       "      <td>[-732.24756, 5.2254934, 4.646596, 4.3948708, 4...</td>\n",
       "      <td>[-731.8629, 6.0595665, 6.0342617, 5.993132, 5....</td>\n",
       "      <td>[-731.63153, 6.39003, 6.374017, 6.3476753, 6.3...</td>\n",
       "      <td>...</td>\n",
       "      <td>[-550.4473, 154.53638, 23.200706, 7.340659, 23...</td>\n",
       "      <td>[-573.3334, 149.43582, 31.323439, 3.4124632, 2...</td>\n",
       "      <td>[-586.1192, 147.5198, 41.185867, 6.563717, 21....</td>\n",
       "      <td>[-601.7108, 135.3082, 44.117733, 12.5911255, 2...</td>\n",
       "      <td>[-508.40555, 99.52403, -0.2326054, 44.967785, ...</td>\n",
       "      <td>[-438.8909, 79.82012, -10.484863, 57.2603, -6....</td>\n",
       "      <td>[-489.4351, 147.95505, 14.894755, 32.80531, -2...</td>\n",
       "      <td>[-471.38766, 177.34694, 24.070812, 27.210762, ...</td>\n",
       "      <td>[-448.81436, 197.5411, 32.545963, 23.976833, -...</td>\n",
       "      <td>neutral</td>\n",
       "    </tr>\n",
       "    <tr>\n",
       "      <th>902</th>\n",
       "      <td>[-804.8187, 17.074728, 9.353317, 2.0188625, -1...</td>\n",
       "      <td>[-804.2134, 18.276344, 11.391193, 4.842391, 1....</td>\n",
       "      <td>[-807.37335, 15.024531, 10.888043, 6.8311415, ...</td>\n",
       "      <td>[-812.0434, 9.5413685, 8.069494, 6.6557326, 6....</td>\n",
       "      <td>[-812.2676, 9.596158, 9.007286, 8.436794, 8.20...</td>\n",
       "      <td>[-811.56177, 10.470103, 9.573171, 8.6714, 8.25...</td>\n",
       "      <td>[-815.3576, 5.465538, 5.4394655, 5.3962803, 5....</td>\n",
       "      <td>[-818.76086, 0.6611062, 0.66025835, 0.6588439,...</td>\n",
       "      <td>[-816.13715, 4.368142, 4.357095, 4.338731, 4.3...</td>\n",
       "      <td>[-812.80774, 9.064838, 9.018309, 8.941251, 8.8...</td>\n",
       "      <td>...</td>\n",
       "      <td>[-678.74255, 79.10971, -25.862888, 10.309597, ...</td>\n",
       "      <td>[-675.20306, 78.28085, -27.871647, 14.45318, 2...</td>\n",
       "      <td>[-677.53094, 75.729515, -29.564022, 12.030697,...</td>\n",
       "      <td>[-685.1149, 72.61395, -28.109024, 12.170946, 2...</td>\n",
       "      <td>[-691.0193, 68.8262, -28.487041, 13.710904, 25...</td>\n",
       "      <td>[-691.3341, 73.30032, -27.068842, 9.37998, 23....</td>\n",
       "      <td>[-692.02014, 77.28889, -24.456625, 8.646581, 2...</td>\n",
       "      <td>[-689.4305, 79.078156, -26.929874, 4.3789067, ...</td>\n",
       "      <td>[-690.0891, 80.59848, -22.34399, 8.488106, 28....</td>\n",
       "      <td>disgust</td>\n",
       "    </tr>\n",
       "    <tr>\n",
       "      <th>2530</th>\n",
       "      <td>[-429.5303, 17.616058, 16.953964, 15.977152, 1...</td>\n",
       "      <td>[-427.9433, 19.719688, 18.641863, 16.997135, 1...</td>\n",
       "      <td>[-427.93158, 19.679285, 18.436302, 16.535519, ...</td>\n",
       "      <td>[-428.66147, 18.638752, 17.378862, 15.473867, ...</td>\n",
       "      <td>[-427.9033, 19.724503, 18.494932, 16.60894, 14...</td>\n",
       "      <td>[-397.0281, 61.992542, 56.72152, 48.56993, 38....</td>\n",
       "      <td>[-357.5796, 105.545975, 80.40743, 62.291046, 4...</td>\n",
       "      <td>[-325.49008, 133.06018, 82.23761, 56.85208, 36...</td>\n",
       "      <td>[-294.8338, 152.38301, 70.78482, 46.422783, 27...</td>\n",
       "      <td>[-276.09256, 165.2569, 66.866425, 43.87828, 24...</td>\n",
       "      <td>...</td>\n",
       "      <td>[0.0, 0.0, 0.0, 0.0, 0.0, 0.0, 0.0, 0.0, 0.0, ...</td>\n",
       "      <td>[0.0, 0.0, 0.0, 0.0, 0.0, 0.0, 0.0, 0.0, 0.0, ...</td>\n",
       "      <td>[0.0, 0.0, 0.0, 0.0, 0.0, 0.0, 0.0, 0.0, 0.0, ...</td>\n",
       "      <td>[0.0, 0.0, 0.0, 0.0, 0.0, 0.0, 0.0, 0.0, 0.0, ...</td>\n",
       "      <td>[0.0, 0.0, 0.0, 0.0, 0.0, 0.0, 0.0, 0.0, 0.0, ...</td>\n",
       "      <td>[0.0, 0.0, 0.0, 0.0, 0.0, 0.0, 0.0, 0.0, 0.0, ...</td>\n",
       "      <td>[0.0, 0.0, 0.0, 0.0, 0.0, 0.0, 0.0, 0.0, 0.0, ...</td>\n",
       "      <td>[0.0, 0.0, 0.0, 0.0, 0.0, 0.0, 0.0, 0.0, 0.0, ...</td>\n",
       "      <td>[0.0, 0.0, 0.0, 0.0, 0.0, 0.0, 0.0, 0.0, 0.0, ...</td>\n",
       "      <td>surprised</td>\n",
       "    </tr>\n",
       "    <tr>\n",
       "      <th>1827</th>\n",
       "      <td>[-720.0059, 0.3423565, 0.34221566, 0.34197733,...</td>\n",
       "      <td>[-717.57947, 3.7728705, 3.7695456, 3.7640092, ...</td>\n",
       "      <td>[-714.82, 6.9389057, 5.45809, 4.6367292, 5.043...</td>\n",
       "      <td>[-714.48083, 7.4673467, 5.974621, 4.8109303, 4...</td>\n",
       "      <td>[-717.45874, 3.5767486, 2.7730303, 2.122686, 1...</td>\n",
       "      <td>[-712.5449, 8.713757, 4.3995028, 2.0575814, 3....</td>\n",
       "      <td>[-705.56354, 15.993516, 6.3967414, 0.68587506,...</td>\n",
       "      <td>[-703.46515, 15.933811, 1.6229641, -4.55645, -...</td>\n",
       "      <td>[-695.4198, 22.039621, -0.62632823, -8.4299, -...</td>\n",
       "      <td>[-689.5782, 25.197815, -5.1331224, -12.382488,...</td>\n",
       "      <td>...</td>\n",
       "      <td>[-307.9801, 214.92484, -54.787846, -39.995117,...</td>\n",
       "      <td>[-300.7164, 215.4837, -57.863007, -41.693516, ...</td>\n",
       "      <td>[-300.35025, 217.5409, -57.21474, -42.92625, -...</td>\n",
       "      <td>[-306.08398, 220.23218, -55.42051, -47.392014,...</td>\n",
       "      <td>[-308.1607, 220.39844, -55.494057, -53.413, -2...</td>\n",
       "      <td>[-305.86203, 218.56007, -58.705307, -60.732727...</td>\n",
       "      <td>[-319.94656, 90.84253, -94.48926, 7.829197, -4...</td>\n",
       "      <td>[-283.1034, 135.07729, -64.02342, 33.434006, -...</td>\n",
       "      <td>[-237.47972, 151.56424, -47.6994, 33.576466, -...</td>\n",
       "      <td>angry</td>\n",
       "    </tr>\n",
       "    <tr>\n",
       "      <th>1300</th>\n",
       "      <td>[-856.54926, 0.0, 0.0, 0.0, 0.0, 0.0, 0.0, 0.0...</td>\n",
       "      <td>[-856.54926, 0.0, 0.0, 0.0, 0.0, 0.0, 0.0, 0.0...</td>\n",
       "      <td>[-856.54926, 0.0, 0.0, 0.0, 0.0, 0.0, 0.0, 0.0...</td>\n",
       "      <td>[-856.54926, 0.0, 0.0, 0.0, 0.0, 0.0, 0.0, 0.0...</td>\n",
       "      <td>[-856.54926, 0.0, 0.0, 0.0, 0.0, 0.0, 0.0, 0.0...</td>\n",
       "      <td>[-856.54926, 0.0, 0.0, 0.0, 0.0, 0.0, 0.0, 0.0...</td>\n",
       "      <td>[-856.54926, 0.0, 0.0, 0.0, 0.0, 0.0, 0.0, 0.0...</td>\n",
       "      <td>[-856.54926, 0.0, 0.0, 0.0, 0.0, 0.0, 0.0, 0.0...</td>\n",
       "      <td>[-856.54926, 0.0, 0.0, 0.0, 0.0, 0.0, 0.0, 0.0...</td>\n",
       "      <td>[-856.54926, 0.0, 0.0, 0.0, 0.0, 0.0, 0.0, 0.0...</td>\n",
       "      <td>...</td>\n",
       "      <td>[-613.44135, 154.88875, -7.050858, 20.92263, 4...</td>\n",
       "      <td>[-624.8001, 140.06383, -4.3048263, 23.849339, ...</td>\n",
       "      <td>[-653.3855, 134.92522, -6.1919856, 21.722065, ...</td>\n",
       "      <td>[-679.42395, 128.60602, -0.9002999, 17.172886,...</td>\n",
       "      <td>[-599.3146, 91.30518, -22.083277, 45.242725, -...</td>\n",
       "      <td>[-518.37195, 71.30086, -34.081802, 54.980904, ...</td>\n",
       "      <td>[-567.64935, 1.0329301, 16.818653, 41.666214, ...</td>\n",
       "      <td>[-451.2826, 1.5458846, 10.111712, 42.841774, -...</td>\n",
       "      <td>[-428.6227, -1.0235981, 9.586402, 42.355286, -...</td>\n",
       "      <td>neutral</td>\n",
       "    </tr>\n",
       "  </tbody>\n",
       "</table>\n",
       "<p>5 rows × 217 columns</p>\n",
       "</div>"
      ],
      "text/plain": [
       "                                                      0  \\\n",
       "1287  [-730.6614, 7.27658, 6.32057, 5.869996, 6.2712...   \n",
       "902   [-804.8187, 17.074728, 9.353317, 2.0188625, -1...   \n",
       "2530  [-429.5303, 17.616058, 16.953964, 15.977152, 1...   \n",
       "1827  [-720.0059, 0.3423565, 0.34221566, 0.34197733,...   \n",
       "1300  [-856.54926, 0.0, 0.0, 0.0, 0.0, 0.0, 0.0, 0.0...   \n",
       "\n",
       "                                                      1  \\\n",
       "1287  [-730.91394, 7.069623, 6.432932, 6.182434, 6.4...   \n",
       "902   [-804.2134, 18.276344, 11.391193, 4.842391, 1....   \n",
       "2530  [-427.9433, 19.719688, 18.641863, 16.997135, 1...   \n",
       "1827  [-717.57947, 3.7728705, 3.7695456, 3.7640092, ...   \n",
       "1300  [-856.54926, 0.0, 0.0, 0.0, 0.0, 0.0, 0.0, 0.0...   \n",
       "\n",
       "                                                      2  \\\n",
       "1287  [-729.89056, 8.293904, 7.240379, 6.8426037, 7....   \n",
       "902   [-807.37335, 15.024531, 10.888043, 6.8311415, ...   \n",
       "2530  [-427.93158, 19.679285, 18.436302, 16.535519, ...   \n",
       "1827  [-714.82, 6.9389057, 5.45809, 4.6367292, 5.043...   \n",
       "1300  [-856.54926, 0.0, 0.0, 0.0, 0.0, 0.0, 0.0, 0.0...   \n",
       "\n",
       "                                                      3  \\\n",
       "1287  [-732.5046, 4.8585863, 4.302132, 4.1093955, 4....   \n",
       "902   [-812.0434, 9.5413685, 8.069494, 6.6557326, 6....   \n",
       "2530  [-428.66147, 18.638752, 17.378862, 15.473867, ...   \n",
       "1827  [-714.48083, 7.4673467, 5.974621, 4.8109303, 4...   \n",
       "1300  [-856.54926, 0.0, 0.0, 0.0, 0.0, 0.0, 0.0, 0.0...   \n",
       "\n",
       "                                                      4  \\\n",
       "1287  [-731.8414, 6.085843, 6.0477552, 5.9856224, 5....   \n",
       "902   [-812.2676, 9.596158, 9.007286, 8.436794, 8.20...   \n",
       "2530  [-427.9033, 19.724503, 18.494932, 16.60894, 14...   \n",
       "1827  [-717.45874, 3.5767486, 2.7730303, 2.122686, 1...   \n",
       "1300  [-856.54926, 0.0, 0.0, 0.0, 0.0, 0.0, 0.0, 0.0...   \n",
       "\n",
       "                                                      5  \\\n",
       "1287  [-729.9222, 8.7527895, 8.616952, 8.475161, 8.3...   \n",
       "902   [-811.56177, 10.470103, 9.573171, 8.6714, 8.25...   \n",
       "2530  [-397.0281, 61.992542, 56.72152, 48.56993, 38....   \n",
       "1827  [-712.5449, 8.713757, 4.3995028, 2.0575814, 3....   \n",
       "1300  [-856.54926, 0.0, 0.0, 0.0, 0.0, 0.0, 0.0, 0.0...   \n",
       "\n",
       "                                                      6  \\\n",
       "1287  [-730.8093, 7.0156155, 6.012932, 5.6654806, 6....   \n",
       "902   [-815.3576, 5.465538, 5.4394655, 5.3962803, 5....   \n",
       "2530  [-357.5796, 105.545975, 80.40743, 62.291046, 4...   \n",
       "1827  [-705.56354, 15.993516, 6.3967414, 0.68587506,...   \n",
       "1300  [-856.54926, 0.0, 0.0, 0.0, 0.0, 0.0, 0.0, 0.0...   \n",
       "\n",
       "                                                      7  \\\n",
       "1287  [-732.24756, 5.2254934, 4.646596, 4.3948708, 4...   \n",
       "902   [-818.76086, 0.6611062, 0.66025835, 0.6588439,...   \n",
       "2530  [-325.49008, 133.06018, 82.23761, 56.85208, 36...   \n",
       "1827  [-703.46515, 15.933811, 1.6229641, -4.55645, -...   \n",
       "1300  [-856.54926, 0.0, 0.0, 0.0, 0.0, 0.0, 0.0, 0.0...   \n",
       "\n",
       "                                                      8  \\\n",
       "1287  [-731.8629, 6.0595665, 6.0342617, 5.993132, 5....   \n",
       "902   [-816.13715, 4.368142, 4.357095, 4.338731, 4.3...   \n",
       "2530  [-294.8338, 152.38301, 70.78482, 46.422783, 27...   \n",
       "1827  [-695.4198, 22.039621, -0.62632823, -8.4299, -...   \n",
       "1300  [-856.54926, 0.0, 0.0, 0.0, 0.0, 0.0, 0.0, 0.0...   \n",
       "\n",
       "                                                      9  ...  \\\n",
       "1287  [-731.63153, 6.39003, 6.374017, 6.3476753, 6.3...  ...   \n",
       "902   [-812.80774, 9.064838, 9.018309, 8.941251, 8.8...  ...   \n",
       "2530  [-276.09256, 165.2569, 66.866425, 43.87828, 24...  ...   \n",
       "1827  [-689.5782, 25.197815, -5.1331224, -12.382488,...  ...   \n",
       "1300  [-856.54926, 0.0, 0.0, 0.0, 0.0, 0.0, 0.0, 0.0...  ...   \n",
       "\n",
       "                                                    207  \\\n",
       "1287  [-550.4473, 154.53638, 23.200706, 7.340659, 23...   \n",
       "902   [-678.74255, 79.10971, -25.862888, 10.309597, ...   \n",
       "2530  [0.0, 0.0, 0.0, 0.0, 0.0, 0.0, 0.0, 0.0, 0.0, ...   \n",
       "1827  [-307.9801, 214.92484, -54.787846, -39.995117,...   \n",
       "1300  [-613.44135, 154.88875, -7.050858, 20.92263, 4...   \n",
       "\n",
       "                                                    208  \\\n",
       "1287  [-573.3334, 149.43582, 31.323439, 3.4124632, 2...   \n",
       "902   [-675.20306, 78.28085, -27.871647, 14.45318, 2...   \n",
       "2530  [0.0, 0.0, 0.0, 0.0, 0.0, 0.0, 0.0, 0.0, 0.0, ...   \n",
       "1827  [-300.7164, 215.4837, -57.863007, -41.693516, ...   \n",
       "1300  [-624.8001, 140.06383, -4.3048263, 23.849339, ...   \n",
       "\n",
       "                                                    209  \\\n",
       "1287  [-586.1192, 147.5198, 41.185867, 6.563717, 21....   \n",
       "902   [-677.53094, 75.729515, -29.564022, 12.030697,...   \n",
       "2530  [0.0, 0.0, 0.0, 0.0, 0.0, 0.0, 0.0, 0.0, 0.0, ...   \n",
       "1827  [-300.35025, 217.5409, -57.21474, -42.92625, -...   \n",
       "1300  [-653.3855, 134.92522, -6.1919856, 21.722065, ...   \n",
       "\n",
       "                                                    210  \\\n",
       "1287  [-601.7108, 135.3082, 44.117733, 12.5911255, 2...   \n",
       "902   [-685.1149, 72.61395, -28.109024, 12.170946, 2...   \n",
       "2530  [0.0, 0.0, 0.0, 0.0, 0.0, 0.0, 0.0, 0.0, 0.0, ...   \n",
       "1827  [-306.08398, 220.23218, -55.42051, -47.392014,...   \n",
       "1300  [-679.42395, 128.60602, -0.9002999, 17.172886,...   \n",
       "\n",
       "                                                    211  \\\n",
       "1287  [-508.40555, 99.52403, -0.2326054, 44.967785, ...   \n",
       "902   [-691.0193, 68.8262, -28.487041, 13.710904, 25...   \n",
       "2530  [0.0, 0.0, 0.0, 0.0, 0.0, 0.0, 0.0, 0.0, 0.0, ...   \n",
       "1827  [-308.1607, 220.39844, -55.494057, -53.413, -2...   \n",
       "1300  [-599.3146, 91.30518, -22.083277, 45.242725, -...   \n",
       "\n",
       "                                                    212  \\\n",
       "1287  [-438.8909, 79.82012, -10.484863, 57.2603, -6....   \n",
       "902   [-691.3341, 73.30032, -27.068842, 9.37998, 23....   \n",
       "2530  [0.0, 0.0, 0.0, 0.0, 0.0, 0.0, 0.0, 0.0, 0.0, ...   \n",
       "1827  [-305.86203, 218.56007, -58.705307, -60.732727...   \n",
       "1300  [-518.37195, 71.30086, -34.081802, 54.980904, ...   \n",
       "\n",
       "                                                    213  \\\n",
       "1287  [-489.4351, 147.95505, 14.894755, 32.80531, -2...   \n",
       "902   [-692.02014, 77.28889, -24.456625, 8.646581, 2...   \n",
       "2530  [0.0, 0.0, 0.0, 0.0, 0.0, 0.0, 0.0, 0.0, 0.0, ...   \n",
       "1827  [-319.94656, 90.84253, -94.48926, 7.829197, -4...   \n",
       "1300  [-567.64935, 1.0329301, 16.818653, 41.666214, ...   \n",
       "\n",
       "                                                    214  \\\n",
       "1287  [-471.38766, 177.34694, 24.070812, 27.210762, ...   \n",
       "902   [-689.4305, 79.078156, -26.929874, 4.3789067, ...   \n",
       "2530  [0.0, 0.0, 0.0, 0.0, 0.0, 0.0, 0.0, 0.0, 0.0, ...   \n",
       "1827  [-283.1034, 135.07729, -64.02342, 33.434006, -...   \n",
       "1300  [-451.2826, 1.5458846, 10.111712, 42.841774, -...   \n",
       "\n",
       "                                                    215      label  \n",
       "1287  [-448.81436, 197.5411, 32.545963, 23.976833, -...    neutral  \n",
       "902   [-690.0891, 80.59848, -22.34399, 8.488106, 28....    disgust  \n",
       "2530  [0.0, 0.0, 0.0, 0.0, 0.0, 0.0, 0.0, 0.0, 0.0, ...  surprised  \n",
       "1827  [-237.47972, 151.56424, -47.6994, 33.576466, -...      angry  \n",
       "1300  [-428.6227, -1.0235981, 9.586402, 42.355286, -...    neutral  \n",
       "\n",
       "[5 rows x 217 columns]"
      ]
     },
     "execution_count": 15,
     "metadata": {},
     "output_type": "execute_result"
    }
   ],
   "source": [
    "from sklearn.utils import shuffle\n",
    "rnewdf = shuffle(newdf)\n",
    "rnewdf[:5]"
   ]
  },
  {
   "cell_type": "code",
   "execution_count": 16,
   "metadata": {
    "pycharm": {
     "is_executing": true
    }
   },
   "outputs": [
    {
     "data": {
      "text/plain": [
       "2041"
      ]
     },
     "execution_count": 16,
     "metadata": {},
     "output_type": "execute_result"
    }
   ],
   "source": [
    "newdf1 = np.random.rand(len(rnewdf)) < 0.8\n",
    "train = rnewdf[newdf1]\n",
    "test = rnewdf[~newdf1]\n",
    "len(train)"
   ]
  },
  {
   "cell_type": "code",
   "execution_count": 17,
   "metadata": {
    "pycharm": {
     "is_executing": true
    }
   },
   "outputs": [],
   "source": [
    "train_features = train.iloc[:,:-1]\n",
    "train_labels = train.iloc[:, -1:]\n",
    "test_features = test.iloc[:,:-1]\n",
    "test_labels = test.iloc[:, -1:]"
   ]
  },
  {
   "cell_type": "code",
   "execution_count": 18,
   "metadata": {},
   "outputs": [
    {
     "name": "stdout",
     "output_type": "stream",
     "text": [
      "sad          99\n",
      "happy        97\n",
      "fearful      93\n",
      "angry        78\n",
      "disgust      56\n",
      "neutral      49\n",
      "surprised    43\n",
      "Name: label, dtype: int64\n"
     ]
    },
    {
     "data": {
      "image/png": "[encoded data removed]",
      "text/plain": [
       "<Figure size 1008x504 with 1 Axes>"
      ]
     },
     "metadata": {
      "needs_background": "light"
     },
     "output_type": "display_data"
    }
   ],
   "source": [
    "plot = test_labels.label.value_counts()\n",
    "print(plot)\n",
    "plot_emotion_dist(plot, \"#2962FF\", \"Emotion Distribution\")"
   ]
  },
  {
   "cell_type": "code",
   "execution_count": 19,
   "metadata": {
    "pycharm": {
     "is_executing": true
    }
   },
   "outputs": [
    {
     "data": {
      "text/plain": [
       "(2041, 216, 12, 1)"
      ]
     },
     "execution_count": 19,
     "metadata": {},
     "output_type": "execute_result"
    }
   ],
   "source": [
    "#Reshaping train and test into 4d array\n",
    "X_train = np.array(train_features)\n",
    "X_train_cnn = np.zeros((len(X_train),216,12))\n",
    "for i in range(len(X_train)):\n",
    "    for j in range(216):\n",
    "        for k in range(12):\n",
    "            X_train_cnn[i,j,k] = X_train[i][j][k]\n",
    "            \n",
    "X_train_cnn = X_train_cnn.reshape(len(train_features),216,12,1)            \n",
    "X_train_cnn.shape"
   ]
  },
  {
   "cell_type": "code",
   "execution_count": 20,
   "metadata": {
    "pycharm": {
     "is_executing": true
    }
   },
   "outputs": [],
   "source": [
    "#Normalize X train\n",
    "Max = np.amax(X_train_cnn)\n",
    "Min = np.amin(X_train_cnn)\n",
    "X_train_cnn = (X_train_cnn - Min) / (Max-Min)"
   ]
  },
  {
   "cell_type": "code",
   "execution_count": 21,
   "metadata": {
    "pycharm": {
     "is_executing": true
    }
   },
   "outputs": [
    {
     "data": {
      "text/plain": [
       "(515, 216, 12, 1)"
      ]
     },
     "execution_count": 21,
     "metadata": {},
     "output_type": "execute_result"
    }
   ],
   "source": [
    "X_test = np.array(test_features)\n",
    "X_test_cnn = np.zeros((len(X_test),216,12))\n",
    "for i in range(len(X_test)):\n",
    "    for j in range(216):\n",
    "        for k in range(12):\n",
    "            X_test_cnn[i,j,k] = X_test[i][j][k]\n",
    "X_test_cnn = X_test_cnn.reshape(len(test_features),216,12,1)\n",
    "X_test_cnn.shape"
   ]
  },
  {
   "cell_type": "code",
   "execution_count": 22,
   "metadata": {
    "pycharm": {
     "is_executing": true
    }
   },
   "outputs": [],
   "source": [
    "#Normalize X test\n",
    "Max = np.amax(X_test_cnn)\n",
    "Min = np.amin(X_test_cnn)\n",
    "X_test_cnn = (X_test_cnn - Min) / (Max-Min)"
   ]
  },
  {
   "cell_type": "code",
   "execution_count": 23,
   "metadata": {
    "pycharm": {
     "is_executing": true
    }
   },
   "outputs": [],
   "source": [
    "y_train = np.array(train_labels)\n",
    "y_test = np.array(test_labels)"
   ]
  },
  {
   "cell_type": "code",
   "execution_count": 24,
   "metadata": {},
   "outputs": [
    {
     "data": {
      "text/plain": [
       "array([['angry'],\n",
       "       ['fearful'],\n",
       "       ['surprised'],\n",
       "       ['fearful'],\n",
       "       ['angry'],\n",
       "       ['angry'],\n",
       "       ['happy'],\n",
       "       ['happy'],\n",
       "       ['happy'],\n",
       "       ['angry'],\n",
       "       ['angry'],\n",
       "       ['sad'],\n",
       "       ['sad'],\n",
       "       ['surprised'],\n",
       "       ['disgust'],\n",
       "       ['neutral'],\n",
       "       ['fearful'],\n",
       "       ['surprised'],\n",
       "       ['sad'],\n",
       "       ['neutral'],\n",
       "       ['fearful'],\n",
       "       ['sad'],\n",
       "       ['neutral'],\n",
       "       ['neutral'],\n",
       "       ['neutral'],\n",
       "       ['sad'],\n",
       "       ['surprised'],\n",
       "       ['happy'],\n",
       "       ['happy'],\n",
       "       ['sad'],\n",
       "       ['fearful'],\n",
       "       ['surprised'],\n",
       "       ['fearful'],\n",
       "       ['sad'],\n",
       "       ['angry'],\n",
       "       ['angry'],\n",
       "       ['disgust'],\n",
       "       ['fearful'],\n",
       "       ['sad'],\n",
       "       ['disgust'],\n",
       "       ['sad'],\n",
       "       ['disgust'],\n",
       "       ['sad'],\n",
       "       ['sad'],\n",
       "       ['fearful'],\n",
       "       ['sad'],\n",
       "       ['neutral'],\n",
       "       ['sad'],\n",
       "       ['sad'],\n",
       "       ['fearful'],\n",
       "       ['happy'],\n",
       "       ['happy'],\n",
       "       ['neutral'],\n",
       "       ['happy'],\n",
       "       ['surprised'],\n",
       "       ['happy'],\n",
       "       ['fearful'],\n",
       "       ['surprised'],\n",
       "       ['neutral'],\n",
       "       ['angry'],\n",
       "       ['sad'],\n",
       "       ['surprised'],\n",
       "       ['happy'],\n",
       "       ['fearful'],\n",
       "       ['happy'],\n",
       "       ['happy'],\n",
       "       ['disgust'],\n",
       "       ['neutral'],\n",
       "       ['fearful'],\n",
       "       ['neutral'],\n",
       "       ['fearful'],\n",
       "       ['disgust'],\n",
       "       ['fearful'],\n",
       "       ['fearful'],\n",
       "       ['happy'],\n",
       "       ['surprised'],\n",
       "       ['sad'],\n",
       "       ['happy'],\n",
       "       ['neutral'],\n",
       "       ['sad'],\n",
       "       ['fearful'],\n",
       "       ['happy'],\n",
       "       ['disgust'],\n",
       "       ['fearful'],\n",
       "       ['sad'],\n",
       "       ['sad'],\n",
       "       ['angry'],\n",
       "       ['fearful'],\n",
       "       ['neutral'],\n",
       "       ['angry'],\n",
       "       ['angry'],\n",
       "       ['angry'],\n",
       "       ['sad'],\n",
       "       ['surprised'],\n",
       "       ['happy'],\n",
       "       ['happy'],\n",
       "       ['disgust'],\n",
       "       ['sad'],\n",
       "       ['angry'],\n",
       "       ['sad'],\n",
       "       ['sad'],\n",
       "       ['fearful'],\n",
       "       ['neutral'],\n",
       "       ['neutral'],\n",
       "       ['angry'],\n",
       "       ['happy'],\n",
       "       ['neutral'],\n",
       "       ['disgust'],\n",
       "       ['disgust'],\n",
       "       ['sad'],\n",
       "       ['fearful'],\n",
       "       ['happy'],\n",
       "       ['sad'],\n",
       "       ['neutral'],\n",
       "       ['fearful'],\n",
       "       ['angry'],\n",
       "       ['neutral'],\n",
       "       ['happy'],\n",
       "       ['disgust'],\n",
       "       ['angry'],\n",
       "       ['fearful'],\n",
       "       ['happy'],\n",
       "       ['angry'],\n",
       "       ['sad'],\n",
       "       ['surprised'],\n",
       "       ['neutral'],\n",
       "       ['neutral'],\n",
       "       ['sad'],\n",
       "       ['neutral'],\n",
       "       ['sad'],\n",
       "       ['sad'],\n",
       "       ['happy'],\n",
       "       ['happy'],\n",
       "       ['sad'],\n",
       "       ['surprised'],\n",
       "       ['sad'],\n",
       "       ['happy'],\n",
       "       ['fearful'],\n",
       "       ['angry'],\n",
       "       ['happy'],\n",
       "       ['sad'],\n",
       "       ['fearful'],\n",
       "       ['happy'],\n",
       "       ['fearful'],\n",
       "       ['happy'],\n",
       "       ['disgust'],\n",
       "       ['disgust'],\n",
       "       ['happy'],\n",
       "       ['sad'],\n",
       "       ['angry'],\n",
       "       ['happy'],\n",
       "       ['angry'],\n",
       "       ['angry'],\n",
       "       ['surprised'],\n",
       "       ['sad'],\n",
       "       ['sad'],\n",
       "       ['disgust'],\n",
       "       ['happy'],\n",
       "       ['disgust'],\n",
       "       ['angry'],\n",
       "       ['happy'],\n",
       "       ['happy'],\n",
       "       ['happy'],\n",
       "       ['fearful'],\n",
       "       ['neutral'],\n",
       "       ['sad'],\n",
       "       ['fearful'],\n",
       "       ['angry'],\n",
       "       ['disgust'],\n",
       "       ['sad'],\n",
       "       ['disgust'],\n",
       "       ['fearful'],\n",
       "       ['sad'],\n",
       "       ['disgust'],\n",
       "       ['fearful'],\n",
       "       ['neutral'],\n",
       "       ['sad'],\n",
       "       ['happy'],\n",
       "       ['neutral'],\n",
       "       ['disgust'],\n",
       "       ['disgust'],\n",
       "       ['neutral'],\n",
       "       ['angry'],\n",
       "       ['sad'],\n",
       "       ['surprised'],\n",
       "       ['disgust'],\n",
       "       ['sad'],\n",
       "       ['sad'],\n",
       "       ['angry'],\n",
       "       ['sad'],\n",
       "       ['angry'],\n",
       "       ['sad'],\n",
       "       ['disgust'],\n",
       "       ['fearful'],\n",
       "       ['happy'],\n",
       "       ['angry'],\n",
       "       ['fearful'],\n",
       "       ['happy'],\n",
       "       ['happy'],\n",
       "       ['happy'],\n",
       "       ['happy'],\n",
       "       ['neutral'],\n",
       "       ['happy'],\n",
       "       ['sad'],\n",
       "       ['fearful'],\n",
       "       ['fearful'],\n",
       "       ['disgust'],\n",
       "       ['sad'],\n",
       "       ['sad'],\n",
       "       ['angry'],\n",
       "       ['fearful'],\n",
       "       ['happy'],\n",
       "       ['sad'],\n",
       "       ['neutral'],\n",
       "       ['sad'],\n",
       "       ['fearful'],\n",
       "       ['surprised'],\n",
       "       ['happy'],\n",
       "       ['sad'],\n",
       "       ['disgust'],\n",
       "       ['angry'],\n",
       "       ['surprised'],\n",
       "       ['disgust'],\n",
       "       ['fearful'],\n",
       "       ['happy'],\n",
       "       ['sad'],\n",
       "       ['sad'],\n",
       "       ['happy'],\n",
       "       ['sad'],\n",
       "       ['happy'],\n",
       "       ['sad'],\n",
       "       ['sad'],\n",
       "       ['angry'],\n",
       "       ['disgust'],\n",
       "       ['fearful'],\n",
       "       ['fearful'],\n",
       "       ['happy'],\n",
       "       ['fearful'],\n",
       "       ['disgust'],\n",
       "       ['sad'],\n",
       "       ['fearful'],\n",
       "       ['happy'],\n",
       "       ['surprised'],\n",
       "       ['fearful'],\n",
       "       ['happy'],\n",
       "       ['disgust'],\n",
       "       ['fearful'],\n",
       "       ['fearful'],\n",
       "       ['fearful'],\n",
       "       ['fearful'],\n",
       "       ['happy'],\n",
       "       ['angry'],\n",
       "       ['sad'],\n",
       "       ['fearful'],\n",
       "       ['angry'],\n",
       "       ['neutral'],\n",
       "       ['happy'],\n",
       "       ['neutral'],\n",
       "       ['disgust'],\n",
       "       ['fearful'],\n",
       "       ['fearful'],\n",
       "       ['fearful'],\n",
       "       ['surprised'],\n",
       "       ['angry'],\n",
       "       ['angry'],\n",
       "       ['neutral'],\n",
       "       ['fearful'],\n",
       "       ['happy'],\n",
       "       ['angry'],\n",
       "       ['sad'],\n",
       "       ['disgust'],\n",
       "       ['angry'],\n",
       "       ['fearful'],\n",
       "       ['happy'],\n",
       "       ['happy'],\n",
       "       ['surprised'],\n",
       "       ['sad'],\n",
       "       ['angry'],\n",
       "       ['fearful'],\n",
       "       ['disgust'],\n",
       "       ['angry'],\n",
       "       ['happy'],\n",
       "       ['fearful'],\n",
       "       ['disgust'],\n",
       "       ['angry'],\n",
       "       ['happy'],\n",
       "       ['happy'],\n",
       "       ['happy'],\n",
       "       ['sad'],\n",
       "       ['happy'],\n",
       "       ['disgust'],\n",
       "       ['angry'],\n",
       "       ['fearful'],\n",
       "       ['fearful'],\n",
       "       ['angry'],\n",
       "       ['surprised'],\n",
       "       ['fearful'],\n",
       "       ['happy'],\n",
       "       ['neutral'],\n",
       "       ['happy'],\n",
       "       ['happy'],\n",
       "       ['sad'],\n",
       "       ['surprised'],\n",
       "       ['angry'],\n",
       "       ['happy'],\n",
       "       ['angry'],\n",
       "       ['angry'],\n",
       "       ['angry'],\n",
       "       ['fearful'],\n",
       "       ['sad'],\n",
       "       ['happy'],\n",
       "       ['angry'],\n",
       "       ['sad'],\n",
       "       ['angry'],\n",
       "       ['fearful'],\n",
       "       ['neutral'],\n",
       "       ['happy'],\n",
       "       ['fearful'],\n",
       "       ['disgust'],\n",
       "       ['sad'],\n",
       "       ['happy'],\n",
       "       ['disgust'],\n",
       "       ['angry'],\n",
       "       ['neutral'],\n",
       "       ['happy'],\n",
       "       ['sad'],\n",
       "       ['fearful'],\n",
       "       ['happy'],\n",
       "       ['fearful'],\n",
       "       ['angry'],\n",
       "       ['happy'],\n",
       "       ['disgust'],\n",
       "       ['angry'],\n",
       "       ['angry'],\n",
       "       ['fearful'],\n",
       "       ['happy'],\n",
       "       ['angry'],\n",
       "       ['fearful'],\n",
       "       ['sad'],\n",
       "       ['happy'],\n",
       "       ['surprised'],\n",
       "       ['happy'],\n",
       "       ['fearful'],\n",
       "       ['angry'],\n",
       "       ['neutral'],\n",
       "       ['neutral'],\n",
       "       ['fearful'],\n",
       "       ['angry'],\n",
       "       ['happy'],\n",
       "       ['fearful'],\n",
       "       ['fearful'],\n",
       "       ['disgust'],\n",
       "       ['surprised'],\n",
       "       ['happy'],\n",
       "       ['sad'],\n",
       "       ['disgust'],\n",
       "       ['fearful'],\n",
       "       ['fearful'],\n",
       "       ['sad'],\n",
       "       ['disgust'],\n",
       "       ['sad'],\n",
       "       ['angry'],\n",
       "       ['neutral'],\n",
       "       ['angry'],\n",
       "       ['fearful'],\n",
       "       ['sad'],\n",
       "       ['happy'],\n",
       "       ['disgust'],\n",
       "       ['sad'],\n",
       "       ['disgust'],\n",
       "       ['disgust'],\n",
       "       ['sad'],\n",
       "       ['angry'],\n",
       "       ['fearful'],\n",
       "       ['disgust'],\n",
       "       ['sad'],\n",
       "       ['angry'],\n",
       "       ['neutral'],\n",
       "       ['disgust'],\n",
       "       ['surprised'],\n",
       "       ['surprised'],\n",
       "       ['angry'],\n",
       "       ['surprised'],\n",
       "       ['happy'],\n",
       "       ['fearful'],\n",
       "       ['neutral'],\n",
       "       ['disgust'],\n",
       "       ['happy'],\n",
       "       ['fearful'],\n",
       "       ['neutral'],\n",
       "       ['happy'],\n",
       "       ['fearful'],\n",
       "       ['angry'],\n",
       "       ['sad'],\n",
       "       ['fearful'],\n",
       "       ['sad'],\n",
       "       ['sad'],\n",
       "       ['angry'],\n",
       "       ['angry'],\n",
       "       ['disgust'],\n",
       "       ['angry'],\n",
       "       ['angry'],\n",
       "       ['surprised'],\n",
       "       ['fearful'],\n",
       "       ['sad'],\n",
       "       ['neutral'],\n",
       "       ['happy'],\n",
       "       ['happy'],\n",
       "       ['sad'],\n",
       "       ['happy'],\n",
       "       ['disgust'],\n",
       "       ['happy'],\n",
       "       ['neutral'],\n",
       "       ['angry'],\n",
       "       ['neutral'],\n",
       "       ['disgust'],\n",
       "       ['happy'],\n",
       "       ['surprised'],\n",
       "       ['angry'],\n",
       "       ['disgust'],\n",
       "       ['happy'],\n",
       "       ['fearful'],\n",
       "       ['fearful'],\n",
       "       ['fearful'],\n",
       "       ['sad'],\n",
       "       ['angry'],\n",
       "       ['sad'],\n",
       "       ['disgust'],\n",
       "       ['fearful'],\n",
       "       ['angry'],\n",
       "       ['surprised'],\n",
       "       ['sad'],\n",
       "       ['happy'],\n",
       "       ['surprised'],\n",
       "       ['sad'],\n",
       "       ['sad'],\n",
       "       ['happy'],\n",
       "       ['happy'],\n",
       "       ['fearful'],\n",
       "       ['disgust'],\n",
       "       ['fearful'],\n",
       "       ['angry'],\n",
       "       ['neutral'],\n",
       "       ['sad'],\n",
       "       ['happy'],\n",
       "       ['neutral'],\n",
       "       ['sad'],\n",
       "       ['sad'],\n",
       "       ['sad'],\n",
       "       ['surprised'],\n",
       "       ['surprised'],\n",
       "       ['fearful'],\n",
       "       ['sad'],\n",
       "       ['surprised'],\n",
       "       ['fearful'],\n",
       "       ['fearful'],\n",
       "       ['neutral'],\n",
       "       ['disgust'],\n",
       "       ['sad'],\n",
       "       ['surprised'],\n",
       "       ['disgust'],\n",
       "       ['angry'],\n",
       "       ['happy'],\n",
       "       ['sad'],\n",
       "       ['happy'],\n",
       "       ['angry'],\n",
       "       ['angry'],\n",
       "       ['angry'],\n",
       "       ['angry'],\n",
       "       ['surprised'],\n",
       "       ['fearful'],\n",
       "       ['happy'],\n",
       "       ['happy'],\n",
       "       ['angry'],\n",
       "       ['fearful'],\n",
       "       ['surprised'],\n",
       "       ['angry'],\n",
       "       ['fearful'],\n",
       "       ['sad'],\n",
       "       ['disgust'],\n",
       "       ['sad'],\n",
       "       ['sad'],\n",
       "       ['surprised'],\n",
       "       ['fearful'],\n",
       "       ['sad'],\n",
       "       ['sad'],\n",
       "       ['sad'],\n",
       "       ['neutral'],\n",
       "       ['angry'],\n",
       "       ['fearful'],\n",
       "       ['happy'],\n",
       "       ['sad'],\n",
       "       ['surprised'],\n",
       "       ['happy'],\n",
       "       ['happy'],\n",
       "       ['surprised'],\n",
       "       ['sad'],\n",
       "       ['surprised'],\n",
       "       ['surprised'],\n",
       "       ['sad'],\n",
       "       ['surprised'],\n",
       "       ['happy'],\n",
       "       ['neutral'],\n",
       "       ['surprised'],\n",
       "       ['disgust'],\n",
       "       ['neutral'],\n",
       "       ['neutral'],\n",
       "       ['fearful'],\n",
       "       ['disgust'],\n",
       "       ['angry'],\n",
       "       ['happy'],\n",
       "       ['neutral'],\n",
       "       ['happy'],\n",
       "       ['fearful'],\n",
       "       ['fearful']], dtype=object)"
      ]
     },
     "execution_count": 24,
     "metadata": {},
     "output_type": "execute_result"
    }
   ],
   "source": [
    "y_test"
   ]
  },
  {
   "cell_type": "code",
   "execution_count": 25,
   "metadata": {
    "pycharm": {
     "is_executing": true
    }
   },
   "outputs": [
    {
     "name": "stderr",
     "output_type": "stream",
     "text": [
      "c:\\users\\kalelt'has\\appdata\\local\\programs\\python\\python38\\lib\\site-packages\\sklearn\\utils\\validation.py:73: DataConversionWarning: A column-vector y was passed when a 1d array was expected. Please change the shape of y to (n_samples, ), for example using ravel().\n",
      "  return f(**kwargs)\n"
     ]
    }
   ],
   "source": [
    "#Label encoding the labels\n",
    "from keras.utils import np_utils\n",
    "from sklearn.preprocessing import LabelEncoder\n",
    "\n",
    "lb = LabelEncoder()\n",
    "\n",
    "y_train = np_utils.to_categorical(lb.fit_transform(y_train))\n",
    "y_test = np_utils.to_categorical(lb.fit_transform(y_test))"
   ]
  },
  {
   "cell_type": "code",
   "execution_count": 164,
   "metadata": {
    "pycharm": {
     "is_executing": true
    }
   },
   "outputs": [
    {
     "name": "stdout",
     "output_type": "stream",
     "text": [
      "Model: \"sequential_11\"\n",
      "_________________________________________________________________\n",
      "Layer (type)                 Output Shape              Param #   \n",
      "=================================================================\n",
      "conv2d_18 (Conv2D)           (None, 216, 12, 20)       520       \n",
      "_________________________________________________________________\n",
      "activation_40 (Activation)   (None, 216, 12, 20)       0         \n",
      "_________________________________________________________________\n",
      "dropout_5 (Dropout)          (None, 216, 12, 20)       0         \n",
      "_________________________________________________________________\n",
      "conv2d_19 (Conv2D)           (None, 216, 12, 10)       5010      \n",
      "_________________________________________________________________\n",
      "activation_41 (Activation)   (None, 216, 12, 10)       0         \n",
      "_________________________________________________________________\n",
      "max_pooling2d_12 (MaxPooling (None, 108, 6, 10)        0         \n",
      "_________________________________________________________________\n",
      "dropout_6 (Dropout)          (None, 108, 6, 10)        0         \n",
      "_________________________________________________________________\n",
      "flatten_11 (Flatten)         (None, 6480)              0         \n",
      "_________________________________________________________________\n",
      "dense_22 (Dense)             (None, 1000)              6481000   \n",
      "_________________________________________________________________\n",
      "activation_42 (Activation)   (None, 1000)              0         \n",
      "_________________________________________________________________\n",
      "dropout_7 (Dropout)          (None, 1000)              0         \n",
      "_________________________________________________________________\n",
      "dense_23 (Dense)             (None, 7)                 7007      \n",
      "_________________________________________________________________\n",
      "activation_43 (Activation)   (None, 7)                 0         \n",
      "=================================================================\n",
      "Total params: 6,493,537\n",
      "Trainable params: 6,493,537\n",
      "Non-trainable params: 0\n",
      "_________________________________________________________________\n"
     ]
    }
   ],
   "source": [
    "#Initializing the model\n",
    "model = Sequential()\n",
    "\n",
    "model.add(Conv2D(20, kernel_size=5, padding=\"same\", input_shape=(216, 12 ,1)))\n",
    "model.add(Activation('relu'))\n",
    "model.add(MaxPooling2D(pool_size=(2,2), strides=(2,2)))\n",
    "model.add(Dropout(0.1))\n",
    "\n",
    "model.add(Conv2D(10, kernel_size=5, padding=\"same\"))\n",
    "model.add(Activation('relu'))\n",
    "model.add(MaxPooling2D(pool_size=(2,2), strides=(2,2)))\n",
    "model.add(Dropout(0.1))\n",
    "\n",
    "model.add(Flatten())\n",
    "\n",
    "model.add(Dense(1000))\n",
    "model.add(Activation('relu'))\n",
    "model.add(Dropout(0.1))\n",
    "\n",
    "model.add(Dense(7))\n",
    "model.add(Activation('softmax'))\n",
    "\n",
    "model.summary()\n",
    "\n",
    "\n"
   ]
  },
  {
   "cell_type": "code",
   "execution_count": 165,
   "metadata": {
    "pycharm": {
     "is_executing": true
    }
   },
   "outputs": [],
   "source": [
    "model.compile(loss='binary_crossentropy', optimizer='adam', metrics=['accuracy'])"
   ]
  },
  {
   "cell_type": "code",
   "execution_count": 166,
   "metadata": {
    "pycharm": {
     "is_executing": true
    }
   },
   "outputs": [
    {
     "name": "stdout",
     "output_type": "stream",
     "text": [
      "Epoch 1/105\n",
      "102/102 [==============================] - 30s 292ms/step - loss: 0.4092 - accuracy: 0.1884 - val_loss: 0.3955 - val_accuracy: 0.2220\n",
      "Epoch 2/105\n",
      "102/102 [==============================] - 29s 285ms/step - loss: 0.3804 - accuracy: 0.2709 - val_loss: 0.3917 - val_accuracy: 0.2799\n",
      "Epoch 3/105\n",
      "102/102 [==============================] - 29s 285ms/step - loss: 0.3692 - accuracy: 0.3013 - val_loss: 0.3650 - val_accuracy: 0.2934\n",
      "Epoch 4/105\n",
      "102/102 [==============================] - 29s 285ms/step - loss: 0.3498 - accuracy: 0.3626 - val_loss: 0.3415 - val_accuracy: 0.3842\n",
      "Epoch 5/105\n",
      "102/102 [==============================] - 29s 285ms/step - loss: 0.3367 - accuracy: 0.3876 - val_loss: 0.3650 - val_accuracy: 0.3263\n",
      "Epoch 6/105\n",
      "102/102 [==============================] - 29s 285ms/step - loss: 0.3301 - accuracy: 0.4048 - val_loss: 0.3448 - val_accuracy: 0.3436\n",
      "Epoch 7/105\n",
      "102/102 [==============================] - 29s 286ms/step - loss: 0.3245 - accuracy: 0.4176 - val_loss: 0.3260 - val_accuracy: 0.3958\n",
      "Epoch 8/105\n",
      "102/102 [==============================] - 29s 285ms/step - loss: 0.3149 - accuracy: 0.4485 - val_loss: 0.3253 - val_accuracy: 0.4015\n",
      "Epoch 9/105\n",
      "102/102 [==============================] - 29s 285ms/step - loss: 0.3078 - accuracy: 0.4632 - val_loss: 0.3120 - val_accuracy: 0.4537\n",
      "Epoch 10/105\n",
      "102/102 [==============================] - 29s 285ms/step - loss: 0.3003 - accuracy: 0.4769 - val_loss: 0.3352 - val_accuracy: 0.4112\n",
      "Epoch 11/105\n",
      "102/102 [==============================] - 29s 285ms/step - loss: 0.2963 - accuracy: 0.4814 - val_loss: 0.3033 - val_accuracy: 0.4653\n",
      "Epoch 12/105\n",
      "102/102 [==============================] - 29s 285ms/step - loss: 0.2914 - accuracy: 0.4858 - val_loss: 0.3128 - val_accuracy: 0.4556\n",
      "Epoch 13/105\n",
      "102/102 [==============================] - 29s 287ms/step - loss: 0.2852 - accuracy: 0.5083 - val_loss: 0.3094 - val_accuracy: 0.4479\n",
      "Epoch 14/105\n",
      "102/102 [==============================] - 29s 286ms/step - loss: 0.2752 - accuracy: 0.5280 - val_loss: 0.3016 - val_accuracy: 0.4595\n",
      "Epoch 15/105\n",
      "102/102 [==============================] - 29s 285ms/step - loss: 0.2703 - accuracy: 0.5496 - val_loss: 0.3051 - val_accuracy: 0.4749\n",
      "Epoch 16/105\n",
      "102/102 [==============================] - 29s 285ms/step - loss: 0.2678 - accuracy: 0.5324 - val_loss: 0.3030 - val_accuracy: 0.4749\n",
      "Epoch 17/105\n",
      "102/102 [==============================] - 29s 285ms/step - loss: 0.2672 - accuracy: 0.5363 - val_loss: 0.2902 - val_accuracy: 0.5019\n",
      "Epoch 18/105\n",
      "102/102 [==============================] - 29s 285ms/step - loss: 0.2561 - accuracy: 0.5726 - val_loss: 0.2932 - val_accuracy: 0.4961\n",
      "Epoch 19/105\n",
      "102/102 [==============================] - 29s 286ms/step - loss: 0.2517 - accuracy: 0.5800 - val_loss: 0.2926 - val_accuracy: 0.5077\n",
      "Epoch 20/105\n",
      "102/102 [==============================] - 29s 285ms/step - loss: 0.2485 - accuracy: 0.5726 - val_loss: 0.2830 - val_accuracy: 0.5154\n",
      "Epoch 21/105\n",
      "102/102 [==============================] - 31s 299ms/step - loss: 0.2412 - accuracy: 0.5981 - val_loss: 0.2822 - val_accuracy: 0.5039\n",
      "Epoch 22/105\n",
      "102/102 [==============================] - 30s 295ms/step - loss: 0.2377 - accuracy: 0.6055 - val_loss: 0.2942 - val_accuracy: 0.5058\n",
      "Epoch 23/105\n",
      "102/102 [==============================] - 29s 289ms/step - loss: 0.2290 - accuracy: 0.6050 - val_loss: 0.3202 - val_accuracy: 0.4208\n",
      "Epoch 24/105\n",
      "102/102 [==============================] - 29s 285ms/step - loss: 0.2299 - accuracy: 0.6173 - val_loss: 0.2897 - val_accuracy: 0.5328\n",
      "Epoch 25/105\n",
      "102/102 [==============================] - 29s 284ms/step - loss: 0.2187 - accuracy: 0.6379 - val_loss: 0.3012 - val_accuracy: 0.4961\n",
      "Epoch 26/105\n",
      "102/102 [==============================] - 29s 286ms/step - loss: 0.2195 - accuracy: 0.6364 - val_loss: 0.2829 - val_accuracy: 0.5328\n",
      "Epoch 27/105\n",
      "102/102 [==============================] - 29s 287ms/step - loss: 0.2109 - accuracy: 0.6590 - val_loss: 0.2729 - val_accuracy: 0.5541\n",
      "Epoch 28/105\n",
      "102/102 [==============================] - 29s 286ms/step - loss: 0.2002 - accuracy: 0.6742 - val_loss: 0.3028 - val_accuracy: 0.5347\n",
      "Epoch 29/105\n",
      "102/102 [==============================] - 29s 287ms/step - loss: 0.1971 - accuracy: 0.6791 - val_loss: 0.2910 - val_accuracy: 0.5077\n",
      "Epoch 30/105\n",
      "102/102 [==============================] - 29s 287ms/step - loss: 0.1881 - accuracy: 0.6919 - val_loss: 0.2878 - val_accuracy: 0.5154\n",
      "Epoch 31/105\n",
      "102/102 [==============================] - 29s 287ms/step - loss: 0.1882 - accuracy: 0.7002 - val_loss: 0.2742 - val_accuracy: 0.5444\n",
      "Epoch 32/105\n",
      "102/102 [==============================] - 29s 287ms/step - loss: 0.1794 - accuracy: 0.7095 - val_loss: 0.2948 - val_accuracy: 0.5097\n",
      "Epoch 33/105\n",
      "102/102 [==============================] - 30s 294ms/step - loss: 0.1732 - accuracy: 0.7355 - val_loss: 0.2930 - val_accuracy: 0.5367\n",
      "Epoch 34/105\n",
      "102/102 [==============================] - 29s 288ms/step - loss: 0.1733 - accuracy: 0.7301 - val_loss: 0.2884 - val_accuracy: 0.5541\n",
      "Epoch 35/105\n",
      "102/102 [==============================] - 29s 282ms/step - loss: 0.1653 - accuracy: 0.7370 - val_loss: 0.3029 - val_accuracy: 0.5309\n",
      "Epoch 36/105\n",
      "102/102 [==============================] - 29s 284ms/step - loss: 0.1613 - accuracy: 0.7458 - val_loss: 0.2958 - val_accuracy: 0.5618\n",
      "Epoch 37/105\n",
      "102/102 [==============================] - 31s 303ms/step - loss: 0.1590 - accuracy: 0.7532 - val_loss: 0.2836 - val_accuracy: 0.5598\n",
      "Epoch 38/105\n",
      "102/102 [==============================] - 32s 318ms/step - loss: 0.1501 - accuracy: 0.7679 - val_loss: 0.2925 - val_accuracy: 0.5637\n",
      "Epoch 39/105\n",
      "102/102 [==============================] - 33s 319ms/step - loss: 0.1470 - accuracy: 0.7689 - val_loss: 0.3206 - val_accuracy: 0.5290\n",
      "Epoch 40/105\n",
      "102/102 [==============================] - 32s 316ms/step - loss: 0.1474 - accuracy: 0.7669 - val_loss: 0.2831 - val_accuracy: 0.5714\n",
      "Epoch 41/105\n",
      "102/102 [==============================] - 35s 341ms/step - loss: 0.1335 - accuracy: 0.7920 - val_loss: 0.3001 - val_accuracy: 0.5676\n",
      "Epoch 42/105\n",
      "102/102 [==============================] - 36s 350ms/step - loss: 0.1348 - accuracy: 0.7929 - val_loss: 0.2951 - val_accuracy: 0.5907\n",
      "Epoch 43/105\n",
      "102/102 [==============================] - 39s 384ms/step - loss: 0.1288 - accuracy: 0.8116 - val_loss: 0.3112 - val_accuracy: 0.5695\n",
      "Epoch 44/105\n",
      "102/102 [==============================] - 38s 368ms/step - loss: 0.1133 - accuracy: 0.8292 - val_loss: 0.3278 - val_accuracy: 0.5618\n",
      "Epoch 50/105\n",
      "102/102 [==============================] - 35s 347ms/step - loss: 0.1050 - accuracy: 0.8435 - val_loss: 0.3130 - val_accuracy: 0.5541\n",
      "Epoch 51/105\n",
      "102/102 [==============================] - 36s 355ms/step - loss: 0.1060 - accuracy: 0.8538 - val_loss: 0.3158 - val_accuracy: 0.5676\n",
      "Epoch 52/105\n",
      "102/102 [==============================] - 36s 349ms/step - loss: 0.0954 - accuracy: 0.8567 - val_loss: 0.3238 - val_accuracy: 0.5888\n",
      "Epoch 53/105\n",
      "102/102 [==============================] - 36s 348ms/step - loss: 0.0948 - accuracy: 0.8592 - val_loss: 0.3590 - val_accuracy: 0.5695\n",
      "Epoch 54/105\n",
      "102/102 [==============================] - 36s 354ms/step - loss: 0.0928 - accuracy: 0.8567 - val_loss: 0.3314 - val_accuracy: 0.5695\n",
      "Epoch 55/105\n",
      "102/102 [==============================] - 36s 357ms/step - loss: 0.0899 - accuracy: 0.8739 - val_loss: 0.3329 - val_accuracy: 0.5618\n",
      "Epoch 56/105\n",
      "102/102 [==============================] - 36s 353ms/step - loss: 0.0928 - accuracy: 0.8606 - val_loss: 0.3251 - val_accuracy: 0.5753\n",
      "Epoch 57/105\n",
      "102/102 [==============================] - 36s 355ms/step - loss: 0.0855 - accuracy: 0.8783 - val_loss: 0.3316 - val_accuracy: 0.5772\n",
      "Epoch 58/105\n",
      "102/102 [==============================] - 36s 350ms/step - loss: 0.0877 - accuracy: 0.8729 - val_loss: 0.3582 - val_accuracy: 0.5521\n",
      "Epoch 59/105\n",
      "102/102 [==============================] - 36s 353ms/step - loss: 0.0789 - accuracy: 0.8847 - val_loss: 0.3477 - val_accuracy: 0.5656\n",
      "Epoch 60/105\n",
      "102/102 [==============================] - 36s 354ms/step - loss: 0.0706 - accuracy: 0.9014 - val_loss: 0.3676 - val_accuracy: 0.5656\n",
      "Epoch 61/105\n",
      "102/102 [==============================] - 34s 336ms/step - loss: 0.0755 - accuracy: 0.8930 - val_loss: 0.3698 - val_accuracy: 0.5656\n"
     ]
    },
    {
     "name": "stdout",
     "output_type": "stream",
     "text": [
      "Epoch 62/105\n",
      "102/102 [==============================] - 35s 342ms/step - loss: 0.0746 - accuracy: 0.8989 - val_loss: 0.3479 - val_accuracy: 0.5985\n",
      "Epoch 63/105\n",
      "102/102 [==============================] - 34s 336ms/step - loss: 0.0662 - accuracy: 0.9092 - val_loss: 0.3658 - val_accuracy: 0.6120\n",
      "Epoch 64/105\n",
      "102/102 [==============================] - 35s 340ms/step - loss: 0.0633 - accuracy: 0.9082 - val_loss: 0.3653 - val_accuracy: 0.5714\n",
      "Epoch 65/105\n",
      "102/102 [==============================] - 35s 340ms/step - loss: 0.0773 - accuracy: 0.8921 - val_loss: 0.3576 - val_accuracy: 0.5714\n",
      "Epoch 66/105\n",
      "102/102 [==============================] - 36s 355ms/step - loss: 0.0699 - accuracy: 0.9068 - val_loss: 0.3944 - val_accuracy: 0.5618\n",
      "Epoch 67/105\n",
      "102/102 [==============================] - 37s 362ms/step - loss: 0.0606 - accuracy: 0.9146 - val_loss: 0.3767 - val_accuracy: 0.5946\n",
      "Epoch 68/105\n",
      "102/102 [==============================] - 38s 374ms/step - loss: 0.0578 - accuracy: 0.9161 - val_loss: 0.3904 - val_accuracy: 0.6023\n",
      "Epoch 69/105\n",
      "102/102 [==============================] - 38s 373ms/step - loss: 0.0576 - accuracy: 0.9235 - val_loss: 0.3857 - val_accuracy: 0.5772\n",
      "Epoch 70/105\n",
      "102/102 [==============================] - 37s 360ms/step - loss: 0.0548 - accuracy: 0.9230 - val_loss: 0.3821 - val_accuracy: 0.6100\n",
      "Epoch 73/105\n",
      "102/102 [==============================] - 36s 353ms/step - loss: 0.0568 - accuracy: 0.9205 - val_loss: 0.4282 - val_accuracy: 0.5753\n",
      "Epoch 74/105\n",
      "102/102 [==============================] - 36s 352ms/step - loss: 0.0478 - accuracy: 0.9347 - val_loss: 0.4056 - val_accuracy: 0.5907\n",
      "Epoch 75/105\n",
      "102/102 [==============================] - 34s 329ms/step - loss: 0.0683 - accuracy: 0.9038 - val_loss: 0.4433 - val_accuracy: 0.5714\n",
      "Epoch 76/105\n",
      "102/102 [==============================] - 35s 343ms/step - loss: 0.0561 - accuracy: 0.9181 - val_loss: 0.4328 - val_accuracy: 0.5849\n",
      "Epoch 77/105\n",
      "102/102 [==============================] - 34s 334ms/step - loss: 0.0481 - accuracy: 0.9338 - val_loss: 0.3921 - val_accuracy: 0.6023\n",
      "Epoch 78/105\n",
      "102/102 [==============================] - 30s 298ms/step - loss: 0.0455 - accuracy: 0.9352 - val_loss: 0.3865 - val_accuracy: 0.6197\n",
      "Epoch 79/105\n",
      "102/102 [==============================] - 29s 283ms/step - loss: 0.0442 - accuracy: 0.9470 - val_loss: 0.4248 - val_accuracy: 0.6081\n",
      "Epoch 80/105\n",
      "102/102 [==============================] - 29s 285ms/step - loss: 0.0412 - accuracy: 0.9465 - val_loss: 0.4119 - val_accuracy: 0.6100\n",
      "Epoch 81/105\n",
      "102/102 [==============================] - 27s 269ms/step - loss: 0.0409 - accuracy: 0.9406 - val_loss: 0.4447 - val_accuracy: 0.6100\n",
      "Epoch 82/105\n",
      "102/102 [==============================] - 28s 270ms/step - loss: 0.0439 - accuracy: 0.9426 - val_loss: 0.4387 - val_accuracy: 0.5869\n",
      "Epoch 83/105\n",
      "102/102 [==============================] - 27s 269ms/step - loss: 0.0513 - accuracy: 0.9274 - val_loss: 0.4024 - val_accuracy: 0.6178\n",
      "Epoch 84/105\n",
      "102/102 [==============================] - 28s 272ms/step - loss: 0.0387 - accuracy: 0.9470 - val_loss: 0.4050 - val_accuracy: 0.6274\n",
      "Epoch 85/105\n",
      "102/102 [==============================] - 27s 266ms/step - loss: 0.0385 - accuracy: 0.9544 - val_loss: 0.4177 - val_accuracy: 0.6023\n",
      "Epoch 86/105\n",
      "102/102 [==============================] - 28s 272ms/step - loss: 0.0383 - accuracy: 0.9460 - val_loss: 0.4953 - val_accuracy: 0.5830\n",
      "Epoch 87/105\n",
      "102/102 [==============================] - 28s 272ms/step - loss: 0.0365 - accuracy: 0.9514 - val_loss: 0.4307 - val_accuracy: 0.5927\n",
      "Epoch 88/105\n",
      "102/102 [==============================] - 27s 265ms/step - loss: 0.0365 - accuracy: 0.9529 - val_loss: 0.4189 - val_accuracy: 0.5985\n",
      "Epoch 89/105\n",
      "102/102 [==============================] - 27s 266ms/step - loss: 0.0402 - accuracy: 0.9450 - val_loss: 0.4114 - val_accuracy: 0.6197\n",
      "Epoch 90/105\n",
      "102/102 [==============================] - 28s 276ms/step - loss: 0.0362 - accuracy: 0.9519 - val_loss: 0.4443 - val_accuracy: 0.6197\n",
      "Epoch 91/105\n",
      "102/102 [==============================] - 28s 276ms/step - loss: 0.0404 - accuracy: 0.9411 - val_loss: 0.4090 - val_accuracy: 0.6313\n",
      "Epoch 92/105\n",
      "102/102 [==============================] - 27s 267ms/step - loss: 0.0313 - accuracy: 0.9549 - val_loss: 0.4121 - val_accuracy: 0.6293\n",
      "Epoch 93/105\n",
      "102/102 [==============================] - 27s 265ms/step - loss: 0.0302 - accuracy: 0.9588 - val_loss: 0.4268 - val_accuracy: 0.6255\n",
      "Epoch 94/105\n",
      "102/102 [==============================] - 28s 276ms/step - loss: 0.0344 - accuracy: 0.9534 - val_loss: 0.4326 - val_accuracy: 0.5907\n",
      "Epoch 95/105\n",
      "102/102 [==============================] - 29s 280ms/step - loss: 0.0432 - accuracy: 0.9406 - val_loss: 0.3821 - val_accuracy: 0.6313\n",
      "Epoch 96/105\n",
      "102/102 [==============================] - 29s 282ms/step - loss: 0.0275 - accuracy: 0.9696 - val_loss: 0.4310 - val_accuracy: 0.6178\n",
      "Epoch 97/105\n",
      "102/102 [==============================] - 27s 269ms/step - loss: 0.0354 - accuracy: 0.9563 - val_loss: 0.4761 - val_accuracy: 0.6081\n",
      "Epoch 98/105\n",
      "102/102 [==============================] - 27s 268ms/step - loss: 0.0332 - accuracy: 0.9568 - val_loss: 0.4564 - val_accuracy: 0.6081\n",
      "Epoch 99/105\n",
      "102/102 [==============================] - 29s 283ms/step - loss: 0.0344 - accuracy: 0.9539 - val_loss: 0.4387 - val_accuracy: 0.6120\n",
      "Epoch 100/105\n",
      "102/102 [==============================] - 28s 272ms/step - loss: 0.0326 - accuracy: 0.9568 - val_loss: 0.4261 - val_accuracy: 0.6081\n",
      "Epoch 101/105\n",
      "102/102 [==============================] - 27s 265ms/step - loss: 0.0276 - accuracy: 0.9676 - val_loss: 0.4650 - val_accuracy: 0.5985\n",
      "Epoch 102/105\n",
      "102/102 [==============================] - 27s 267ms/step - loss: 0.0254 - accuracy: 0.9671 - val_loss: 0.4560 - val_accuracy: 0.5985\n",
      "Epoch 103/105\n",
      "102/102 [==============================] - 27s 265ms/step - loss: 0.0328 - accuracy: 0.9598 - val_loss: 0.5321 - val_accuracy: 0.5695\n",
      "Epoch 104/105\n",
      "102/102 [==============================] - 27s 266ms/step - loss: 0.0234 - accuracy: 0.9701 - val_loss: 0.5381 - val_accuracy: 0.5734\n",
      "Epoch 105/105\n",
      "102/102 [==============================] - 27s 266ms/step - loss: 0.0342 - accuracy: 0.9524 - val_loss: 0.4899 - val_accuracy: 0.6023\n"
     ]
    }
   ],
   "source": [
    "cnnhistory = model.fit(X_train_cnn, y_train, batch_size=20, epochs=105, verbose=1, validation_data=(X_test_cnn, y_test))"
   ]
  },
  {
   "cell_type": "code",
   "execution_count": 167,
   "metadata": {
    "pycharm": {
     "is_executing": true
    },
    "scrolled": true
   },
   "outputs": [
    {
     "data": {
      "image/png": "[encoded data removed]",
      "text/plain": [
       "<Figure size 432x288 with 1 Axes>"
      ]
     },
     "metadata": {
      "needs_background": "light"
     },
     "output_type": "display_data"
    }
   ],
   "source": [
    "plt.plot(cnnhistory.history['loss'])\n",
    "plt.plot(cnnhistory.history['val_loss'])\n",
    "plt.title('model loss')\n",
    "plt.ylabel('loss')\n",
    "plt.xlabel('epoch')\n",
    "plt.legend(['train', 'test'], loc='upper left')\n",
    "plt.show()"
   ]
  },
  {
   "cell_type": "code",
   "execution_count": 168,
   "metadata": {
    "pycharm": {
     "is_executing": true
    }
   },
   "outputs": [
    {
     "name": "stdout",
     "output_type": "stream",
     "text": [
      "17/17 [==============================] - 2s 108ms/step - loss: 0.4899 - accuracy: 0.6023\n"
     ]
    }
   ],
   "source": [
    "scores = model.evaluate(X_test_cnn, y_test)"
   ]
  },
  {
   "cell_type": "code",
   "execution_count": 169,
   "metadata": {
    "pycharm": {
     "is_executing": true
    }
   },
   "outputs": [
    {
     "name": "stdout",
     "output_type": "stream",
     "text": [
      "accuracy: 60.23%\n"
     ]
    }
   ],
   "source": [
    "print(\"%s: %.2f%%\" % (model.metrics_names[1], scores[1]*100))"
   ]
  },
  {
   "cell_type": "code",
   "execution_count": 145,
   "metadata": {
    "pycharm": {
     "is_executing": true
    }
   },
   "outputs": [
    {
     "name": "stdout",
     "output_type": "stream",
     "text": [
      "Saved trained model at C:\\Users\\Kalelt'has\\Desktop\\Stage\\ASP\\saved_models\\Emotion_Voice_Detection_Model.h5 \n"
     ]
    }
   ],
   "source": [
    "model_name = 'Emotion_Voice_Detection_Model.h5'\n",
    "save_dir = os.path.join(os.getcwd(), 'saved_models')\n",
    "# Save model and weights\n",
    "if not os.path.isdir(save_dir):\n",
    "    os.makedirs(save_dir)\n",
    "model_path = os.path.join(save_dir, model_name)\n",
    "model.save(model_path)\n",
    "print('Saved trained model at %s ' % model_path)"
   ]
  },
  {
   "cell_type": "code",
   "execution_count": 152,
   "metadata": {},
   "outputs": [],
   "source": [
    "import json\n",
    "model_json = model.to_json()\n",
    "with open(\"model.json\", \"w\") as json_file:\n",
    "    json_file.write(model_json)"
   ]
  },
  {
   "cell_type": "code",
   "execution_count": 26,
   "metadata": {
    "pycharm": {
     "is_executing": false
    }
   },
   "outputs": [
    {
     "name": "stdout",
     "output_type": "stream",
     "text": [
      "Loaded model from disk\n"
     ]
    }
   ],
   "source": [
    "# loading json and creating model\n",
    "from keras.models import model_from_json\n",
    "json_file = open('model.json', 'r')\n",
    "loaded_model_json = json_file.read()\n",
    "json_file.close()\n",
    "loaded_model = model_from_json(loaded_model_json)\n",
    "# load weights into new model\n",
    "loaded_model.load_weights(\"saved_models/Emotion_Voice_Detection_Model.h5\")\n",
    "print(\"Loaded model from disk\")"
   ]
  },
  {
   "cell_type": "code",
   "execution_count": 27,
   "metadata": {
    "pycharm": {
     "is_executing": false
    }
   },
   "outputs": [
    {
     "name": "stdout",
     "output_type": "stream",
     "text": [
      "accuracy: 92.62%\n"
     ]
    }
   ],
   "source": [
    "# evaluate loaded model on test data\n",
    "loaded_model.compile(loss='binary_crossentropy', optimizer='adam', metrics=['accuracy'])\n",
    "score = loaded_model.evaluate(X_test_cnn, y_test, verbose=0)\n",
    "print(\"%s: %.2f%%\" % (loaded_model.metrics_names[1], score[1]*100))"
   ]
  },
  {
   "cell_type": "code",
   "execution_count": 47,
   "metadata": {},
   "outputs": [
    {
     "name": "stdout",
     "output_type": "stream",
     "text": [
      "17/17 [==============================] - 1s 48ms/step\n"
     ]
    },
    {
     "data": {
      "text/html": [
       "<div>\n",
       "<style scoped>\n",
       "    .dataframe tbody tr th:only-of-type {\n",
       "        vertical-align: middle;\n",
       "    }\n",
       "\n",
       "    .dataframe tbody tr th {\n",
       "        vertical-align: top;\n",
       "    }\n",
       "\n",
       "    .dataframe thead th {\n",
       "        text-align: right;\n",
       "    }\n",
       "</style>\n",
       "<table border=\"1\" class=\"dataframe\">\n",
       "  <thead>\n",
       "    <tr style=\"text-align: right;\">\n",
       "      <th></th>\n",
       "      <th>predictedvalues</th>\n",
       "    </tr>\n",
       "    <tr>\n",
       "      <th>actualvalues</th>\n",
       "      <th></th>\n",
       "    </tr>\n",
       "  </thead>\n",
       "  <tbody>\n",
       "    <tr>\n",
       "      <th>angry</th>\n",
       "      <td>92</td>\n",
       "    </tr>\n",
       "    <tr>\n",
       "      <th>disgust</th>\n",
       "      <td>63</td>\n",
       "    </tr>\n",
       "    <tr>\n",
       "      <th>fearful</th>\n",
       "      <td>95</td>\n",
       "    </tr>\n",
       "    <tr>\n",
       "      <th>happy</th>\n",
       "      <td>86</td>\n",
       "    </tr>\n",
       "    <tr>\n",
       "      <th>neutral</th>\n",
       "      <td>62</td>\n",
       "    </tr>\n",
       "    <tr>\n",
       "      <th>sad</th>\n",
       "      <td>82</td>\n",
       "    </tr>\n",
       "    <tr>\n",
       "      <th>surprised</th>\n",
       "      <td>53</td>\n",
       "    </tr>\n",
       "  </tbody>\n",
       "</table>\n",
       "</div>"
      ],
      "text/plain": [
       "              predictedvalues\n",
       "actualvalues                 \n",
       "angry                      92\n",
       "disgust                    63\n",
       "fearful                    95\n",
       "happy                      86\n",
       "neutral                    62\n",
       "sad                        82\n",
       "surprised                  53"
      ]
     },
     "execution_count": 47,
     "metadata": {},
     "output_type": "execute_result"
    }
   ],
   "source": [
    "preds = loaded_model.predict(X_test_cnn, \n",
    "                         batch_size=32, \n",
    "                         verbose=1)\n",
    "preds1=preds.argmax(axis=1)\n",
    "abc = preds1.astype(int).flatten()\n",
    "predictions = (lb.inverse_transform((abc)))\n",
    "preddf = pd.DataFrame({'predictedvalues': predictions})\n",
    "actual=y_test.argmax(axis=1)\n",
    "abc123 = actual.astype(int).flatten()\n",
    "actualvalues = (lb.inverse_transform((abc123)))\n",
    "actualdf = pd.DataFrame({'actualvalues': actualvalues})\n",
    "finaldf = actualdf.join(preddf)\n",
    "finaldf.groupby('actualvalues').count()\n"
   ]
  },
  {
   "cell_type": "code",
   "execution_count": 48,
   "metadata": {},
   "outputs": [
    {
     "data": {
      "text/html": [
       "<div>\n",
       "<style scoped>\n",
       "    .dataframe tbody tr th:only-of-type {\n",
       "        vertical-align: middle;\n",
       "    }\n",
       "\n",
       "    .dataframe tbody tr th {\n",
       "        vertical-align: top;\n",
       "    }\n",
       "\n",
       "    .dataframe thead th {\n",
       "        text-align: right;\n",
       "    }\n",
       "</style>\n",
       "<table border=\"1\" class=\"dataframe\">\n",
       "  <thead>\n",
       "    <tr style=\"text-align: right;\">\n",
       "      <th></th>\n",
       "      <th>actualvalues</th>\n",
       "    </tr>\n",
       "    <tr>\n",
       "      <th>predictedvalues</th>\n",
       "      <th></th>\n",
       "    </tr>\n",
       "  </thead>\n",
       "  <tbody>\n",
       "    <tr>\n",
       "      <th>angry</th>\n",
       "      <td>88</td>\n",
       "    </tr>\n",
       "    <tr>\n",
       "      <th>disgust</th>\n",
       "      <td>61</td>\n",
       "    </tr>\n",
       "    <tr>\n",
       "      <th>fearful</th>\n",
       "      <td>94</td>\n",
       "    </tr>\n",
       "    <tr>\n",
       "      <th>happy</th>\n",
       "      <td>86</td>\n",
       "    </tr>\n",
       "    <tr>\n",
       "      <th>neutral</th>\n",
       "      <td>64</td>\n",
       "    </tr>\n",
       "    <tr>\n",
       "      <th>sad</th>\n",
       "      <td>86</td>\n",
       "    </tr>\n",
       "    <tr>\n",
       "      <th>surprised</th>\n",
       "      <td>54</td>\n",
       "    </tr>\n",
       "  </tbody>\n",
       "</table>\n",
       "</div>"
      ],
      "text/plain": [
       "                 actualvalues\n",
       "predictedvalues              \n",
       "angry                      88\n",
       "disgust                    61\n",
       "fearful                    94\n",
       "happy                      86\n",
       "neutral                    64\n",
       "sad                        86\n",
       "surprised                  54"
      ]
     },
     "execution_count": 48,
     "metadata": {},
     "output_type": "execute_result"
    }
   ],
   "source": [
    "finaldf.groupby('predictedvalues').count()\n"
   ]
  },
  {
   "cell_type": "code",
   "execution_count": 28,
   "metadata": {},
   "outputs": [],
   "source": [
    "data, sampling_rate = librosa.load('C:\\\\Users\\Kalelt\\'has\\Desktop\\Stage\\ASP\\saved_voice\\\\output10.wav')"
   ]
  },
  {
   "cell_type": "code",
   "execution_count": 29,
   "metadata": {},
   "outputs": [
    {
     "data": {
      "text/plain": [
       "<matplotlib.collections.PolyCollection at 0x27fb5b4be50>"
      ]
     },
     "execution_count": 29,
     "metadata": {},
     "output_type": "execute_result"
    },
    {
     "data": {
      "image/png": "[encoded data removed]",
      "text/plain": [
       "<Figure size 1080x360 with 1 Axes>"
      ]
     },
     "metadata": {
      "needs_background": "light"
     },
     "output_type": "display_data"
    }
   ],
   "source": [
    "import os\n",
    "import pandas as pd\n",
    "import librosa\n",
    "import glob \n",
    "\n",
    "plt.figure(figsize=(15, 5))\n",
    "librosa.display.waveplot(data, sr=sampling_rate)"
   ]
  },
  {
   "cell_type": "code",
   "execution_count": 36,
   "metadata": {},
   "outputs": [],
   "source": [
    "#Prepare the dict for the recorded sample\n",
    "my_dict = {}\n",
    "i=0\n",
    "for i in range(216):\n",
    "    my_dict[i] = np.zeros(12)"
   ]
  },
  {
   "cell_type": "code",
   "execution_count": 37,
   "metadata": {},
   "outputs": [],
   "source": [
    "X, sample_rate = librosa.load('C:\\\\Users\\Kalelt\\'has\\Desktop\\Stage\\ASP\\saved_voice\\\\output10.wav', res_type='kaiser_fast',duration=2.5,sr=22050*2,offset=0.5)\n",
    "sample_rate = np.array(sample_rate)\n",
    "mfccs = librosa.feature.mfcc(y=X,sr=sample_rate,n_mfcc=12).T\n",
    "for i in range(len(mfccs)):\n",
    "    my_dict[i] = mfccs[i]"
   ]
  },
  {
   "cell_type": "code",
   "execution_count": 38,
   "metadata": {},
   "outputs": [],
   "source": [
    "df_record = pd.DataFrame.from_dict(my_dict, orient='index')"
   ]
  },
  {
   "cell_type": "code",
   "execution_count": 39,
   "metadata": {},
   "outputs": [
    {
     "data": {
      "text/plain": [
       "(216, 12)"
      ]
     },
     "execution_count": 39,
     "metadata": {},
     "output_type": "execute_result"
    }
   ],
   "source": [
    "X_record = np.array(df_record)\n",
    "X_record.shape"
   ]
  },
  {
   "cell_type": "code",
   "execution_count": 40,
   "metadata": {},
   "outputs": [],
   "source": [
    "# X_record_cnn = np.zeros((1,216,12))\n",
    "# for i in range(216):\n",
    "#     for j in range(12):\n",
    "#         X_record_cnn[0][i][j] = X_record[i,j]"
   ]
  },
  {
   "cell_type": "code",
   "execution_count": 41,
   "metadata": {},
   "outputs": [],
   "source": [
    "X_record = X_record.reshape(1,216,12,1)"
   ]
  },
  {
   "cell_type": "code",
   "execution_count": 42,
   "metadata": {},
   "outputs": [],
   "source": [
    "livepreds = loaded_model.predict(X_record, \n",
    "                         batch_size=32)"
   ]
  },
  {
   "cell_type": "code",
   "execution_count": 43,
   "metadata": {},
   "outputs": [
    {
     "data": {
      "text/plain": [
       "array([[0., 1., 0., 0., 0., 0., 0.]], dtype=float32)"
      ]
     },
     "execution_count": 43,
     "metadata": {},
     "output_type": "execute_result"
    }
   ],
   "source": [
    "livepreds"
   ]
  },
  {
   "cell_type": "code",
   "execution_count": 44,
   "metadata": {},
   "outputs": [
    {
     "data": {
      "text/plain": [
       "array(['disgust'], dtype=object)"
      ]
     },
     "execution_count": 44,
     "metadata": {},
     "output_type": "execute_result"
    }
   ],
   "source": [
    "livepreds1=livepreds.argmax(axis=1)\n",
    "liveabc = livepreds1.astype(int).flatten()\n",
    "livepredictions = (lb.inverse_transform((liveabc)))\n",
    "livepredictions\n"
   ]
  },
  {
   "cell_type": "code",
   "execution_count": null,
   "metadata": {},
   "outputs": [],
   "source": []
  }
 ],
 "metadata": {
  "kernelspec": {
   "display_name": "Python 3",
   "language": "python",
   "name": "python3"
  },
  "language_info": {
   "codemirror_mode": {
    "name": "ipython",
    "version": 3
   },
   "file_extension": ".py",
   "mimetype": "text/x-python",
   "name": "python",
   "nbconvert_exporter": "python",
   "pygments_lexer": "ipython3",
   "version": "3.8.5"
  },
  "pycharm": {
   "stem_cell": {
    "cell_type": "raw",
    "metadata": {
     "collapsed": false
    },
    "source": []
   }
  }
 },
 "nbformat": 4,
 "nbformat_minor": 4
}
