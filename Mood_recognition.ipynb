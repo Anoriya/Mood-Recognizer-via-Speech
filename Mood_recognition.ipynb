{
 "cells": [
  {
   "cell_type": "code",
   "execution_count": null,
   "metadata": {
    "pycharm": {
     "is_executing": true
    }
   },
   "outputs": [],
   "source": [
    "import librosa\n",
    "import librosa.display\n",
    "import numpy as np\n",
    "import matplotlib.pyplot as plt\n",
    "import tensorflow as tf\n",
    "from matplotlib.pyplot import specgram\n",
    "import keras\n",
    "from keras.preprocessing import sequence\n",
    "from keras.models import Sequential\n",
    "from keras.layers import Dense, Embedding\n",
    "from keras.layers import LSTM\n",
    "from keras.preprocessing.text import Tokenizer\n",
    "from keras.preprocessing.sequence import pad_sequences\n",
    "from keras.utils import to_categorical\n",
    "from keras.layers import Input, Flatten, Dropout, Activation\n",
    "from keras.layers import Conv2D, MaxPooling2D, AveragePooling1D\n",
    "from keras.models import Model\n",
    "from keras.callbacks import ModelCheckpoint\n",
    "from sklearn.metrics import confusion_matrix\n",
    "from keras import regularizers\n",
    "import os\n",
    "import pandas as pd"
   ]
  },
  {
   "cell_type": "code",
   "execution_count": 2,
   "metadata": {
    "pycharm": {
     "is_executing": true
    }
   },
   "outputs": [
    {
     "data": {
      "text/plain": [
       "list"
      ]
     },
     "execution_count": 2,
     "metadata": {},
     "output_type": "execute_result"
    }
   ],
   "source": [
    "from sklearn.model_selection import train_test_split\n",
    "mylist= os.listdir('C:\\\\Users\\Kalelt\\'has\\Desktop\\Stage\\Sound Data\\Raw Data')\n",
    "type(mylist)"
   ]
  },
  {
   "cell_type": "code",
   "execution_count": 3,
   "metadata": {
    "pycharm": {
     "is_executing": true
    }
   },
   "outputs": [
    {
     "data": {
      "text/plain": [
       "2932"
      ]
     },
     "execution_count": 3,
     "metadata": {},
     "output_type": "execute_result"
    }
   ],
   "source": [
    "len(mylist)"
   ]
  },
  {
   "cell_type": "code",
   "execution_count": 4,
   "metadata": {
    "pycharm": {
     "is_executing": true
    }
   },
   "outputs": [],
   "source": [
    "feeling_list=[]\n",
    "for item in mylist:\n",
    "    if item[6:-16]=='03':\n",
    "        feeling_list.append('happy')\n",
    "    elif item[6:-16]=='04':\n",
    "        feeling_list.append('sad')\n",
    "    elif item[6:-16]=='05':\n",
    "        feeling_list.append('angry')\n",
    "    elif item[6:-16]=='06':\n",
    "        feeling_list.append('fearful')\n",
    "    elif item[6:-16]=='07':\n",
    "        feeling_list.append('disgust')\n",
    "    elif item[6:-16]=='08':\n",
    "        feeling_list.append('surprised')\n",
    "    elif item[6:-16]=='01':\n",
    "        feeling_list.append('neutral')\n",
    "    elif item[:1]=='a':\n",
    "        feeling_list.append('angry')\n",
    "    elif item[:1]=='f':\n",
    "        feeling_list.append('fearful')\n",
    "    elif item[:1]=='h':\n",
    "        feeling_list.append('happy')\n",
    "    elif item[:1]=='n':\n",
    "        feeling_list.append('neutral')\n",
    "    elif item[:1]=='d':\n",
    "        feeling_list.append('disgust')\n",
    "    elif item[:2]=='su':\n",
    "        feeling_list.append('surprised')\n",
    "    elif item[:2]=='sa':\n",
    "        feeling_list.append('sad')"
   ]
  },
  {
   "cell_type": "code",
   "execution_count": 5,
   "metadata": {
    "pycharm": {
     "is_executing": true
    }
   },
   "outputs": [
    {
     "data": {
      "text/plain": [
       "2556"
      ]
     },
     "execution_count": 5,
     "metadata": {},
     "output_type": "execute_result"
    }
   ],
   "source": [
    "labels = pd.DataFrame(feeling_list)\n",
    "labels = labels.rename(columns={0: 'label'})\n",
    "len(labels)"
   ]
  },
  {
   "cell_type": "code",
   "execution_count": 6,
   "metadata": {
    "pycharm": {
     "is_executing": true
    }
   },
   "outputs": [],
   "source": [
    "import seaborn as sns\n",
    "# Plotting the emotion distribution\n",
    "\n",
    "def plot_emotion_dist(dist, color_code='#C2185B', title=\"Plot\"):\n",
    "    \"\"\"\n",
    "    To plot the data distributioin by class.\n",
    "    Arg:\n",
    "      dist: pandas series of label count. \n",
    "    \"\"\"\n",
    "    tmp_df = pd.DataFrame()\n",
    "    tmp_df['Emotion'] = list(dist.keys())\n",
    "    tmp_df['Count'] = list(dist)\n",
    "    fig, ax = plt.subplots(figsize=(14, 7))\n",
    "    ax = sns.barplot(x=\"Emotion\", y='Count', color=color_code, data=tmp_df)\n",
    "    ax.set_title(title)\n",
    "    ax.set_xticklabels(ax.get_xticklabels(),rotation=45)"
   ]
  },
  {
   "cell_type": "code",
   "execution_count": 7,
   "metadata": {
    "pycharm": {
     "is_executing": true
    }
   },
   "outputs": [
    {
     "name": "stdout",
     "output_type": "stream",
     "text": [
      "fearful      436\n",
      "happy        436\n",
      "angry        436\n",
      "sad          436\n",
      "neutral      308\n",
      "surprised    252\n",
      "disgust      252\n",
      "Name: label, dtype: int64\n"
     ]
    },
    {
     "data": {
      "image/png": "[encoded data removed]",
      "text/plain": [
       "<Figure size 1008x504 with 1 Axes>"
      ]
     },
     "metadata": {
      "needs_background": "light"
     },
     "output_type": "display_data"
    }
   ],
   "source": [
    "plot = labels.label.value_counts()\n",
    "print(plot)\n",
    "plot_emotion_dist(plot, \"#2962FF\", \"Emotion Distribution\")"
   ]
  },
  {
   "cell_type": "code",
   "execution_count": 8,
   "metadata": {
    "pycharm": {
     "is_executing": true
    }
   },
   "outputs": [],
   "source": [
    "#Prepare the dict\n",
    "my_dict = {}\n",
    "i=0\n",
    "for i in range(216):\n",
    "    my_dict[i] = []"
   ]
  },
  {
   "cell_type": "code",
   "execution_count": 9,
   "metadata": {
    "pycharm": {
     "is_executing": true
    }
   },
   "outputs": [],
   "source": [
    "for index,y in enumerate(mylist):\n",
    "    if mylist[index][6:-16]!='02':\n",
    "        X, sample_rate = librosa.load('C:\\\\Users\\Kalelt\\'has\\Desktop\\Stage\\Sound Data\\Raw Data\\\\'+y, res_type='kaiser_fast',duration=2.5,sr=22050*2,offset=0.5)\n",
    "        sample_rate = np.array(sample_rate)\n",
    "        mfccs = librosa.feature.mfcc(y=X,sr=sample_rate,n_mfcc=12).T\n",
    "        for i in range(len(mfccs)):\n",
    "            my_dict[i].append(mfccs[i])"
   ]
  },
  {
   "cell_type": "code",
   "execution_count": 10,
   "metadata": {
    "pycharm": {
     "is_executing": true
    }
   },
   "outputs": [],
   "source": [
    "df = pd.DataFrame.from_dict(my_dict, orient='index').T"
   ]
  },
  {
   "cell_type": "code",
   "execution_count": 11,
   "metadata": {
    "pycharm": {
     "is_executing": true
    }
   },
   "outputs": [],
   "source": [
    "xd = df\n",
    "for i in range(len(df)):\n",
    "    for j in range(216):\n",
    "        if xd.iloc[i,j] is None:\n",
    "            xd.iloc[i,j] = np.zeros(12)"
   ]
  },
  {
   "cell_type": "code",
   "execution_count": 77,
   "metadata": {
    "pycharm": {
     "is_executing": true
    }
   },
   "outputs": [
    {
     "data": {
      "text/plain": [
       "(2556, 217)"
      ]
     },
     "execution_count": 77,
     "metadata": {},
     "output_type": "execute_result"
    }
   ],
   "source": [
    "newdf = pd.concat([xd,labels], axis=1)\n",
    "newdf[:5]"
   ]
  },
  {
   "cell_type": "code",
   "execution_count": 13,
   "metadata": {
    "pycharm": {
     "is_executing": true
    },
    "scrolled": true
   },
   "outputs": [
    {
     "data": {
      "text/html": [
       "<div>\n",
       "<style scoped>\n",
       "    .dataframe tbody tr th:only-of-type {\n",
       "        vertical-align: middle;\n",
       "    }\n",
       "\n",
       "    .dataframe tbody tr th {\n",
       "        vertical-align: top;\n",
       "    }\n",
       "\n",
       "    .dataframe thead th {\n",
       "        text-align: right;\n",
       "    }\n",
       "</style>\n",
       "<table border=\"1\" class=\"dataframe\">\n",
       "  <thead>\n",
       "    <tr style=\"text-align: right;\">\n",
       "      <th></th>\n",
       "      <th>0</th>\n",
       "      <th>1</th>\n",
       "      <th>2</th>\n",
       "      <th>3</th>\n",
       "      <th>4</th>\n",
       "      <th>5</th>\n",
       "      <th>6</th>\n",
       "      <th>7</th>\n",
       "      <th>8</th>\n",
       "      <th>9</th>\n",
       "      <th>...</th>\n",
       "      <th>207</th>\n",
       "      <th>208</th>\n",
       "      <th>209</th>\n",
       "      <th>210</th>\n",
       "      <th>211</th>\n",
       "      <th>212</th>\n",
       "      <th>213</th>\n",
       "      <th>214</th>\n",
       "      <th>215</th>\n",
       "      <th>label</th>\n",
       "    </tr>\n",
       "  </thead>\n",
       "  <tbody>\n",
       "    <tr>\n",
       "      <th>2163</th>\n",
       "      <td>[-499.82315, 53.3069, 43.535885, 31.279427, 20...</td>\n",
       "      <td>[-501.75928, 51.14383, 42.66538, 31.469696, 20...</td>\n",
       "      <td>[-504.63867, 47.44976, 39.90355, 29.721191, 19...</td>\n",
       "      <td>[-500.47977, 52.756966, 43.620506, 31.212143, ...</td>\n",
       "      <td>[-499.8822, 53.54963, 44.36434, 32.129646, 20....</td>\n",
       "      <td>[-502.42056, 49.942085, 40.79904, 28.878315, 1...</td>\n",
       "      <td>[-504.15915, 47.97694, 40.00379, 29.190634, 18...</td>\n",
       "      <td>[-505.74518, 45.99244, 38.734512, 28.915, 18.8...</td>\n",
       "      <td>[-506.34537, 44.948677, 37.16808, 26.69284, 16...</td>\n",
       "      <td>[-504.6684, 47.3078, 39.541374, 29.220196, 19....</td>\n",
       "      <td>...</td>\n",
       "      <td>[-623.2378, 184.96655, 114.3223, 59.51402, 22....</td>\n",
       "      <td>[-632.716, 178.38919, 116.32378, 58.50492, 16....</td>\n",
       "      <td>[-641.71783, 170.5233, 116.20296, 60.630745, 1...</td>\n",
       "      <td>[-641.1941, 172.79413, 119.87223, 62.094387, 1...</td>\n",
       "      <td>[-644.7837, 167.84998, 115.06439, 57.100384, 1...</td>\n",
       "      <td>[-652.9924, 158.4725, 109.90269, 54.9793, 13.1...</td>\n",
       "      <td>[-588.1392, 184.50223, 54.482674, 5.862859, 22...</td>\n",
       "      <td>[-547.2226, 217.75565, 55.391396, 3.3837395, 1...</td>\n",
       "      <td>[-483.81613, 239.0766, 37.12005, 16.722008, 6....</td>\n",
       "      <td>disgust</td>\n",
       "    </tr>\n",
       "    <tr>\n",
       "      <th>2377</th>\n",
       "      <td>[-533.5735, 45.12412, 39.95872, 32.761047, 24....</td>\n",
       "      <td>[-532.046, 47.350304, 42.301353, 35.08718, 26....</td>\n",
       "      <td>[-532.4584, 46.614418, 41.30359, 34.15579, 26....</td>\n",
       "      <td>[-528.86316, 50.96923, 43.836174, 34.663902, 2...</td>\n",
       "      <td>[-530.4737, 48.80708, 41.87343, 32.696644, 23....</td>\n",
       "      <td>[-518.1882, 62.94487, 48.100533, 30.55724, 16....</td>\n",
       "      <td>[-331.01373, 191.8111, -12.488295, -29.928204,...</td>\n",
       "      <td>[-232.56204, 242.68521, -59.52974, -45.40988, ...</td>\n",
       "      <td>[-197.44121, 251.33063, -77.190704, -34.068615...</td>\n",
       "      <td>[-180.63985, 245.97372, -82.51715, -16.060709,...</td>\n",
       "      <td>...</td>\n",
       "      <td>[-437.8632, 180.92929, 77.94978, 21.898811, 8....</td>\n",
       "      <td>[-441.1194, 163.68512, 94.93126, 50.808243, 32...</td>\n",
       "      <td>[-396.31573, 63.82667, -32.11351, 76.15352, 21...</td>\n",
       "      <td>[-511.38303, 64.70065, 35.900436, 10.823419, 2...</td>\n",
       "      <td>[-399.0953, 181.56587, 5.940622, 20.533392, 56...</td>\n",
       "      <td>[-401.62555, 192.0582, 27.103535, 34.757843, 6...</td>\n",
       "      <td>[-352.5397, 194.41306, 15.169859, 36.925163, 7...</td>\n",
       "      <td>[-526.756, 63.80228, 2.0526721, 61.37844, 5.93...</td>\n",
       "      <td>[-347.54974, 236.92787, 32.924717, 7.938621, 1...</td>\n",
       "      <td>neutral</td>\n",
       "    </tr>\n",
       "    <tr>\n",
       "      <th>1838</th>\n",
       "      <td>[-673.0463, 0.0, 0.0, 0.0, 0.0, 0.0, 0.0, 0.0,...</td>\n",
       "      <td>[-673.0463, 0.0, 0.0, 0.0, 0.0, 0.0, 0.0, 0.0,...</td>\n",
       "      <td>[-673.0463, 0.0, 0.0, 0.0, 0.0, 0.0, 0.0, 0.0,...</td>\n",
       "      <td>[-673.0463, 0.0, 0.0, 0.0, 0.0, 0.0, 0.0, 0.0,...</td>\n",
       "      <td>[-673.0463, 0.0, 0.0, 0.0, 0.0, 0.0, 0.0, 0.0,...</td>\n",
       "      <td>[-673.0463, 0.0, 0.0, 0.0, 0.0, 0.0, 0.0, 0.0,...</td>\n",
       "      <td>[-673.0463, 0.0, 0.0, 0.0, 0.0, 0.0, 0.0, 0.0,...</td>\n",
       "      <td>[-647.29584, -30.761276, 16.689568, -0.7552659...</td>\n",
       "      <td>[-625.6985, -51.6166, 19.443789, 8.7887535, -1...</td>\n",
       "      <td>[-629.6596, -15.751991, 17.262547, 13.610334, ...</td>\n",
       "      <td>...</td>\n",
       "      <td>[-327.79108, 17.625046, -46.3371, 63.0961, 2.0...</td>\n",
       "      <td>[-265.22916, -6.6743593, -41.26962, 75.142204,...</td>\n",
       "      <td>[-263.85147, 2.6184912, -29.557281, 77.11604, ...</td>\n",
       "      <td>[-273.60388, 54.708458, -49.94862, 47.946396, ...</td>\n",
       "      <td>[-316.3395, 101.54003, -66.20595, 31.761997, -...</td>\n",
       "      <td>[-342.5454, 105.81831, -58.03195, 17.89098, -1...</td>\n",
       "      <td>[-219.30804, 173.67752, -26.01684, -15.515549,...</td>\n",
       "      <td>[-208.42949, 183.82672, -21.697224, 3.3792627,...</td>\n",
       "      <td>[-181.94077, 189.50677, -20.458355, 15.304192,...</td>\n",
       "      <td>angry</td>\n",
       "    </tr>\n",
       "    <tr>\n",
       "      <th>905</th>\n",
       "      <td>[-691.6485, 0.0, 0.0, 0.0, 0.0, 0.0, 0.0, 0.0,...</td>\n",
       "      <td>[-691.6485, 0.0, 0.0, 0.0, 0.0, 0.0, 0.0, 0.0,...</td>\n",
       "      <td>[-691.6485, 0.0, 0.0, 0.0, 0.0, 0.0, 0.0, 0.0,...</td>\n",
       "      <td>[-691.6485, 0.0, 0.0, 0.0, 0.0, 0.0, 0.0, 0.0,...</td>\n",
       "      <td>[-691.6485, 0.0, 0.0, 0.0, 0.0, 0.0, 0.0, 0.0,...</td>\n",
       "      <td>[-691.6485, 0.0, 0.0, 0.0, 0.0, 0.0, 0.0, 0.0,...</td>\n",
       "      <td>[-691.6485, 0.0, 0.0, 0.0, 0.0, 0.0, 0.0, 0.0,...</td>\n",
       "      <td>[-691.6485, 0.0, 0.0, 0.0, 0.0, 0.0, 0.0, 0.0,...</td>\n",
       "      <td>[-691.6485, 0.0, 0.0, 0.0, 0.0, 0.0, 0.0, 0.0,...</td>\n",
       "      <td>[-691.6485, 0.0, 0.0, 0.0, 0.0, 0.0, 0.0, 0.0,...</td>\n",
       "      <td>...</td>\n",
       "      <td>[-448.0172, 212.82202, 19.627798, -65.1997, -4...</td>\n",
       "      <td>[-476.80542, 198.09756, 29.493046, -60.02099, ...</td>\n",
       "      <td>[-497.61688, 189.40172, 35.038597, -56.470364,...</td>\n",
       "      <td>[-507.58112, 183.06668, 35.215614, -56.408264,...</td>\n",
       "      <td>[-512.69495, 180.25961, 40.307236, -51.53562, ...</td>\n",
       "      <td>[-521.949, 173.52545, 43.94757, -44.875526, -4...</td>\n",
       "      <td>[-522.73315, 156.67891, 26.470253, -39.01335, ...</td>\n",
       "      <td>[-512.35126, 141.07538, 1.8132117, -31.88378, ...</td>\n",
       "      <td>[-508.96945, 124.12434, -18.297943, -29.223396...</td>\n",
       "      <td>disgust</td>\n",
       "    </tr>\n",
       "    <tr>\n",
       "      <th>709</th>\n",
       "      <td>[-884.85455, 0.0, 0.0, 0.0, 0.0, 0.0, 0.0, 0.0...</td>\n",
       "      <td>[-884.85455, 0.0, 0.0, 0.0, 0.0, 0.0, 0.0, 0.0...</td>\n",
       "      <td>[-884.85455, 0.0, 0.0, 0.0, 0.0, 0.0, 0.0, 0.0...</td>\n",
       "      <td>[-884.7458, 0.028143335, -0.14345248, -0.08065...</td>\n",
       "      <td>[-881.63586, 2.6278787, -0.068024404, 0.392917...</td>\n",
       "      <td>[-857.7502, 18.066288, -4.366619, 5.050679, 14...</td>\n",
       "      <td>[-824.0666, 27.979536, -22.479408, 11.556801, ...</td>\n",
       "      <td>[-795.7491, 35.197487, -35.387993, 10.675577, ...</td>\n",
       "      <td>[-769.75977, 33.149826, -45.154915, 16.432384,...</td>\n",
       "      <td>[-747.7935, 35.561592, -50.97127, 23.804787, 1...</td>\n",
       "      <td>...</td>\n",
       "      <td>[-803.34076, 64.42427, 2.6518126, 1.6840645, 1...</td>\n",
       "      <td>[-809.1349, 63.010544, 7.6603646, 1.688818, 15...</td>\n",
       "      <td>[-815.9714, 50.768272, 4.2886486, -1.6202401, ...</td>\n",
       "      <td>[-835.4967, 39.943684, 2.6387258, -2.3285916, ...</td>\n",
       "      <td>[-858.71124, 25.71951, 7.9265103, 4.0975113, 1...</td>\n",
       "      <td>[-857.9519, 30.495735, 17.065508, 10.473278, 1...</td>\n",
       "      <td>[-856.7968, 30.856527, 15.654493, 10.021511, 1...</td>\n",
       "      <td>[-868.2648, 17.837044, 8.1034775, 5.2419567, 9...</td>\n",
       "      <td>[-876.0478, 10.259815, 6.2890434, 3.106665, 1....</td>\n",
       "      <td>fearful</td>\n",
       "    </tr>\n",
       "  </tbody>\n",
       "</table>\n",
       "<p>5 rows × 217 columns</p>\n",
       "</div>"
      ],
      "text/plain": [
       "                                                      0  \\\n",
       "2163  [-499.82315, 53.3069, 43.535885, 31.279427, 20...   \n",
       "2377  [-533.5735, 45.12412, 39.95872, 32.761047, 24....   \n",
       "1838  [-673.0463, 0.0, 0.0, 0.0, 0.0, 0.0, 0.0, 0.0,...   \n",
       "905   [-691.6485, 0.0, 0.0, 0.0, 0.0, 0.0, 0.0, 0.0,...   \n",
       "709   [-884.85455, 0.0, 0.0, 0.0, 0.0, 0.0, 0.0, 0.0...   \n",
       "\n",
       "                                                      1  \\\n",
       "2163  [-501.75928, 51.14383, 42.66538, 31.469696, 20...   \n",
       "2377  [-532.046, 47.350304, 42.301353, 35.08718, 26....   \n",
       "1838  [-673.0463, 0.0, 0.0, 0.0, 0.0, 0.0, 0.0, 0.0,...   \n",
       "905   [-691.6485, 0.0, 0.0, 0.0, 0.0, 0.0, 0.0, 0.0,...   \n",
       "709   [-884.85455, 0.0, 0.0, 0.0, 0.0, 0.0, 0.0, 0.0...   \n",
       "\n",
       "                                                      2  \\\n",
       "2163  [-504.63867, 47.44976, 39.90355, 29.721191, 19...   \n",
       "2377  [-532.4584, 46.614418, 41.30359, 34.15579, 26....   \n",
       "1838  [-673.0463, 0.0, 0.0, 0.0, 0.0, 0.0, 0.0, 0.0,...   \n",
       "905   [-691.6485, 0.0, 0.0, 0.0, 0.0, 0.0, 0.0, 0.0,...   \n",
       "709   [-884.85455, 0.0, 0.0, 0.0, 0.0, 0.0, 0.0, 0.0...   \n",
       "\n",
       "                                                      3  \\\n",
       "2163  [-500.47977, 52.756966, 43.620506, 31.212143, ...   \n",
       "2377  [-528.86316, 50.96923, 43.836174, 34.663902, 2...   \n",
       "1838  [-673.0463, 0.0, 0.0, 0.0, 0.0, 0.0, 0.0, 0.0,...   \n",
       "905   [-691.6485, 0.0, 0.0, 0.0, 0.0, 0.0, 0.0, 0.0,...   \n",
       "709   [-884.7458, 0.028143335, -0.14345248, -0.08065...   \n",
       "\n",
       "                                                      4  \\\n",
       "2163  [-499.8822, 53.54963, 44.36434, 32.129646, 20....   \n",
       "2377  [-530.4737, 48.80708, 41.87343, 32.696644, 23....   \n",
       "1838  [-673.0463, 0.0, 0.0, 0.0, 0.0, 0.0, 0.0, 0.0,...   \n",
       "905   [-691.6485, 0.0, 0.0, 0.0, 0.0, 0.0, 0.0, 0.0,...   \n",
       "709   [-881.63586, 2.6278787, -0.068024404, 0.392917...   \n",
       "\n",
       "                                                      5  \\\n",
       "2163  [-502.42056, 49.942085, 40.79904, 28.878315, 1...   \n",
       "2377  [-518.1882, 62.94487, 48.100533, 30.55724, 16....   \n",
       "1838  [-673.0463, 0.0, 0.0, 0.0, 0.0, 0.0, 0.0, 0.0,...   \n",
       "905   [-691.6485, 0.0, 0.0, 0.0, 0.0, 0.0, 0.0, 0.0,...   \n",
       "709   [-857.7502, 18.066288, -4.366619, 5.050679, 14...   \n",
       "\n",
       "                                                      6  \\\n",
       "2163  [-504.15915, 47.97694, 40.00379, 29.190634, 18...   \n",
       "2377  [-331.01373, 191.8111, -12.488295, -29.928204,...   \n",
       "1838  [-673.0463, 0.0, 0.0, 0.0, 0.0, 0.0, 0.0, 0.0,...   \n",
       "905   [-691.6485, 0.0, 0.0, 0.0, 0.0, 0.0, 0.0, 0.0,...   \n",
       "709   [-824.0666, 27.979536, -22.479408, 11.556801, ...   \n",
       "\n",
       "                                                      7  \\\n",
       "2163  [-505.74518, 45.99244, 38.734512, 28.915, 18.8...   \n",
       "2377  [-232.56204, 242.68521, -59.52974, -45.40988, ...   \n",
       "1838  [-647.29584, -30.761276, 16.689568, -0.7552659...   \n",
       "905   [-691.6485, 0.0, 0.0, 0.0, 0.0, 0.0, 0.0, 0.0,...   \n",
       "709   [-795.7491, 35.197487, -35.387993, 10.675577, ...   \n",
       "\n",
       "                                                      8  \\\n",
       "2163  [-506.34537, 44.948677, 37.16808, 26.69284, 16...   \n",
       "2377  [-197.44121, 251.33063, -77.190704, -34.068615...   \n",
       "1838  [-625.6985, -51.6166, 19.443789, 8.7887535, -1...   \n",
       "905   [-691.6485, 0.0, 0.0, 0.0, 0.0, 0.0, 0.0, 0.0,...   \n",
       "709   [-769.75977, 33.149826, -45.154915, 16.432384,...   \n",
       "\n",
       "                                                      9  ...  \\\n",
       "2163  [-504.6684, 47.3078, 39.541374, 29.220196, 19....  ...   \n",
       "2377  [-180.63985, 245.97372, -82.51715, -16.060709,...  ...   \n",
       "1838  [-629.6596, -15.751991, 17.262547, 13.610334, ...  ...   \n",
       "905   [-691.6485, 0.0, 0.0, 0.0, 0.0, 0.0, 0.0, 0.0,...  ...   \n",
       "709   [-747.7935, 35.561592, -50.97127, 23.804787, 1...  ...   \n",
       "\n",
       "                                                    207  \\\n",
       "2163  [-623.2378, 184.96655, 114.3223, 59.51402, 22....   \n",
       "2377  [-437.8632, 180.92929, 77.94978, 21.898811, 8....   \n",
       "1838  [-327.79108, 17.625046, -46.3371, 63.0961, 2.0...   \n",
       "905   [-448.0172, 212.82202, 19.627798, -65.1997, -4...   \n",
       "709   [-803.34076, 64.42427, 2.6518126, 1.6840645, 1...   \n",
       "\n",
       "                                                    208  \\\n",
       "2163  [-632.716, 178.38919, 116.32378, 58.50492, 16....   \n",
       "2377  [-441.1194, 163.68512, 94.93126, 50.808243, 32...   \n",
       "1838  [-265.22916, -6.6743593, -41.26962, 75.142204,...   \n",
       "905   [-476.80542, 198.09756, 29.493046, -60.02099, ...   \n",
       "709   [-809.1349, 63.010544, 7.6603646, 1.688818, 15...   \n",
       "\n",
       "                                                    209  \\\n",
       "2163  [-641.71783, 170.5233, 116.20296, 60.630745, 1...   \n",
       "2377  [-396.31573, 63.82667, -32.11351, 76.15352, 21...   \n",
       "1838  [-263.85147, 2.6184912, -29.557281, 77.11604, ...   \n",
       "905   [-497.61688, 189.40172, 35.038597, -56.470364,...   \n",
       "709   [-815.9714, 50.768272, 4.2886486, -1.6202401, ...   \n",
       "\n",
       "                                                    210  \\\n",
       "2163  [-641.1941, 172.79413, 119.87223, 62.094387, 1...   \n",
       "2377  [-511.38303, 64.70065, 35.900436, 10.823419, 2...   \n",
       "1838  [-273.60388, 54.708458, -49.94862, 47.946396, ...   \n",
       "905   [-507.58112, 183.06668, 35.215614, -56.408264,...   \n",
       "709   [-835.4967, 39.943684, 2.6387258, -2.3285916, ...   \n",
       "\n",
       "                                                    211  \\\n",
       "2163  [-644.7837, 167.84998, 115.06439, 57.100384, 1...   \n",
       "2377  [-399.0953, 181.56587, 5.940622, 20.533392, 56...   \n",
       "1838  [-316.3395, 101.54003, -66.20595, 31.761997, -...   \n",
       "905   [-512.69495, 180.25961, 40.307236, -51.53562, ...   \n",
       "709   [-858.71124, 25.71951, 7.9265103, 4.0975113, 1...   \n",
       "\n",
       "                                                    212  \\\n",
       "2163  [-652.9924, 158.4725, 109.90269, 54.9793, 13.1...   \n",
       "2377  [-401.62555, 192.0582, 27.103535, 34.757843, 6...   \n",
       "1838  [-342.5454, 105.81831, -58.03195, 17.89098, -1...   \n",
       "905   [-521.949, 173.52545, 43.94757, -44.875526, -4...   \n",
       "709   [-857.9519, 30.495735, 17.065508, 10.473278, 1...   \n",
       "\n",
       "                                                    213  \\\n",
       "2163  [-588.1392, 184.50223, 54.482674, 5.862859, 22...   \n",
       "2377  [-352.5397, 194.41306, 15.169859, 36.925163, 7...   \n",
       "1838  [-219.30804, 173.67752, -26.01684, -15.515549,...   \n",
       "905   [-522.73315, 156.67891, 26.470253, -39.01335, ...   \n",
       "709   [-856.7968, 30.856527, 15.654493, 10.021511, 1...   \n",
       "\n",
       "                                                    214  \\\n",
       "2163  [-547.2226, 217.75565, 55.391396, 3.3837395, 1...   \n",
       "2377  [-526.756, 63.80228, 2.0526721, 61.37844, 5.93...   \n",
       "1838  [-208.42949, 183.82672, -21.697224, 3.3792627,...   \n",
       "905   [-512.35126, 141.07538, 1.8132117, -31.88378, ...   \n",
       "709   [-868.2648, 17.837044, 8.1034775, 5.2419567, 9...   \n",
       "\n",
       "                                                    215    label  \n",
       "2163  [-483.81613, 239.0766, 37.12005, 16.722008, 6....  disgust  \n",
       "2377  [-347.54974, 236.92787, 32.924717, 7.938621, 1...  neutral  \n",
       "1838  [-181.94077, 189.50677, -20.458355, 15.304192,...    angry  \n",
       "905   [-508.96945, 124.12434, -18.297943, -29.223396...  disgust  \n",
       "709   [-876.0478, 10.259815, 6.2890434, 3.106665, 1....  fearful  \n",
       "\n",
       "[5 rows x 217 columns]"
      ]
     },
     "execution_count": 13,
     "metadata": {},
     "output_type": "execute_result"
    }
   ],
   "source": [
    "from sklearn.utils import shuffle\n",
    "rnewdf = shuffle(newdf)\n",
    "rnewdf[:5]"
   ]
  },
  {
   "cell_type": "code",
   "execution_count": 14,
   "metadata": {
    "pycharm": {
     "is_executing": true
    }
   },
   "outputs": [
    {
     "data": {
      "text/plain": [
       "2034"
      ]
     },
     "execution_count": 14,
     "metadata": {},
     "output_type": "execute_result"
    }
   ],
   "source": [
    "newdf1 = np.random.rand(len(rnewdf)) < 0.8\n",
    "train = rnewdf[newdf1]\n",
    "test = rnewdf[~newdf1]\n",
    "len(train)"
   ]
  },
  {
   "cell_type": "code",
   "execution_count": 15,
   "metadata": {
    "pycharm": {
     "is_executing": true
    }
   },
   "outputs": [],
   "source": [
    "train_features = train.iloc[:,:-1]\n",
    "train_labels = train.iloc[:, -1:]\n",
    "test_features = test.iloc[:,:-1]\n",
    "test_labels = test.iloc[:, -1:]"
   ]
  },
  {
   "cell_type": "code",
   "execution_count": 16,
   "metadata": {
    "pycharm": {
     "is_executing": true
    }
   },
   "outputs": [
    {
     "data": {
      "text/plain": [
       "(2034, 216, 12, 1)"
      ]
     },
     "execution_count": 16,
     "metadata": {},
     "output_type": "execute_result"
    }
   ],
   "source": [
    "#Reshaping train and test into 4d array\n",
    "X_train = np.array(train_features)\n",
    "X_train_cnn = np.zeros((len(X_train),216,12))\n",
    "for i in range(len(X_train)):\n",
    "    for j in range(216):\n",
    "        for k in range(12):\n",
    "            X_train_cnn[i,j,k] = X_train[i][j][k]\n",
    "            \n",
    "X_train_cnn = X_train_cnn.reshape(len(train_features),216,12,1)            \n",
    "X_train_cnn.shape"
   ]
  },
  {
   "cell_type": "code",
   "execution_count": 17,
   "metadata": {
    "pycharm": {
     "is_executing": true
    }
   },
   "outputs": [
    {
     "data": {
      "text/plain": [
       "array([[[[0.4020883 ],\n",
       "         [0.82117385],\n",
       "         [0.81743314],\n",
       "         ...,\n",
       "         [0.78749864],\n",
       "         [0.78654063],\n",
       "         [0.78693063]],\n",
       "\n",
       "        [[0.40319447],\n",
       "         [0.82278603],\n",
       "         [0.81912964],\n",
       "         ...,\n",
       "         [0.7881777 ],\n",
       "         [0.78770491],\n",
       "         [0.7885066 ]],\n",
       "\n",
       "        [[0.40289585],\n",
       "         [0.82225311],\n",
       "         [0.81840707],\n",
       "         ...,\n",
       "         [0.79153906],\n",
       "         [0.7908474 ],\n",
       "         [0.79135844]],\n",
       "\n",
       "        ...,\n",
       "\n",
       "        [[0.5331907 ],\n",
       "         [0.92928703],\n",
       "         [0.79948135],\n",
       "         ...,\n",
       "         [0.79203757],\n",
       "         [0.77852522],\n",
       "         [0.7937648 ]],\n",
       "\n",
       "        [[0.40702545],\n",
       "         [0.83470034],\n",
       "         [0.78998205],\n",
       "         ...,\n",
       "         [0.80966377],\n",
       "         [0.79573023],\n",
       "         [0.78544132]],\n",
       "\n",
       "        [[0.53680436],\n",
       "         [0.96007573],\n",
       "         [0.8123392 ],\n",
       "         ...,\n",
       "         [0.77663836],\n",
       "         [0.77751248],\n",
       "         [0.78911394]]],\n",
       "\n",
       "\n",
       "       [[[0.30108381],\n",
       "         [0.78849553],\n",
       "         [0.78849553],\n",
       "         ...,\n",
       "         [0.78849553],\n",
       "         [0.78849553],\n",
       "         [0.78849553]],\n",
       "\n",
       "        [[0.30108381],\n",
       "         [0.78849553],\n",
       "         [0.78849553],\n",
       "         ...,\n",
       "         [0.78849553],\n",
       "         [0.78849553],\n",
       "         [0.78849553]],\n",
       "\n",
       "        [[0.30108381],\n",
       "         [0.78849553],\n",
       "         [0.78849553],\n",
       "         ...,\n",
       "         [0.78849553],\n",
       "         [0.78849553],\n",
       "         [0.78849553]],\n",
       "\n",
       "        ...,\n",
       "\n",
       "        [[0.62967539],\n",
       "         [0.91427062],\n",
       "         [0.76965446],\n",
       "         ...,\n",
       "         [0.74267334],\n",
       "         [0.77650748],\n",
       "         [0.81149088]],\n",
       "\n",
       "        [[0.63755351],\n",
       "         [0.92162054],\n",
       "         [0.77278267],\n",
       "         ...,\n",
       "         [0.7536909 ],\n",
       "         [0.78210666],\n",
       "         [0.80907952]],\n",
       "\n",
       "        [[0.65673631],\n",
       "         [0.92573396],\n",
       "         [0.77367985],\n",
       "         ...,\n",
       "         [0.7637825 ],\n",
       "         [0.78664736],\n",
       "         [0.79309165]]],\n",
       "\n",
       "\n",
       "       [[[0.28761235],\n",
       "         [0.78849553],\n",
       "         [0.78849553],\n",
       "         ...,\n",
       "         [0.78849553],\n",
       "         [0.78849553],\n",
       "         [0.78849553]],\n",
       "\n",
       "        [[0.28761235],\n",
       "         [0.78849553],\n",
       "         [0.78849553],\n",
       "         ...,\n",
       "         [0.78849553],\n",
       "         [0.78849553],\n",
       "         [0.78849553]],\n",
       "\n",
       "        [[0.28761235],\n",
       "         [0.78849553],\n",
       "         [0.78849553],\n",
       "         ...,\n",
       "         [0.78849553],\n",
       "         [0.78849553],\n",
       "         [0.78849553]],\n",
       "\n",
       "        ...,\n",
       "\n",
       "        [[0.40993873],\n",
       "         [0.90196044],\n",
       "         [0.80766496],\n",
       "         ...,\n",
       "         [0.77006006],\n",
       "         [0.78950606],\n",
       "         [0.79751271]],\n",
       "\n",
       "        [[0.41745717],\n",
       "         [0.89066055],\n",
       "         [0.78980864],\n",
       "         ...,\n",
       "         [0.7656149 ],\n",
       "         [0.79447471],\n",
       "         [0.80286153]],\n",
       "\n",
       "        [[0.41990623],\n",
       "         [0.87838482],\n",
       "         [0.77524439],\n",
       "         ...,\n",
       "         [0.77121003],\n",
       "         [0.8035556 ],\n",
       "         [0.8078303 ]]],\n",
       "\n",
       "\n",
       "       ...,\n",
       "\n",
       "\n",
       "       [[[0.54343759],\n",
       "         [0.87965756],\n",
       "         [0.84999544],\n",
       "         ...,\n",
       "         [0.7892457 ],\n",
       "         [0.79042314],\n",
       "         [0.79093401]],\n",
       "\n",
       "        [[0.54667173],\n",
       "         [0.87458041],\n",
       "         [0.84370017],\n",
       "         ...,\n",
       "         [0.78953928],\n",
       "         [0.79373879],\n",
       "         [0.78832813]],\n",
       "\n",
       "        [[0.61167477],\n",
       "         [0.90220657],\n",
       "         [0.8150036 ],\n",
       "         ...,\n",
       "         [0.79902103],\n",
       "         [0.78899306],\n",
       "         [0.78162198]],\n",
       "\n",
       "        ...,\n",
       "\n",
       "        [[0.2879325 ],\n",
       "         [0.81056518],\n",
       "         [0.80955054],\n",
       "         ...,\n",
       "         [0.79275649],\n",
       "         [0.7906278 ],\n",
       "         [0.78889482]],\n",
       "\n",
       "        [[0.28734432],\n",
       "         [0.80972553],\n",
       "         [0.80868988],\n",
       "         ...,\n",
       "         [0.79216106],\n",
       "         [0.79022725],\n",
       "         [0.78872682]],\n",
       "\n",
       "        [[0.28235187],\n",
       "         [0.80277458],\n",
       "         [0.80206281],\n",
       "         ...,\n",
       "         [0.79166667],\n",
       "         [0.79065144],\n",
       "         [0.78993351]]],\n",
       "\n",
       "\n",
       "       [[[0.30159438],\n",
       "         [0.79203106],\n",
       "         [0.79202341],\n",
       "         ...,\n",
       "         [0.79183062],\n",
       "         [0.79178407],\n",
       "         [0.79173309]],\n",
       "\n",
       "        [[0.30150907],\n",
       "         [0.791911  ],\n",
       "         [0.79190495],\n",
       "         ...,\n",
       "         [0.79175213],\n",
       "         [0.79171516],\n",
       "         [0.79167464]],\n",
       "\n",
       "        [[0.30092942],\n",
       "         [0.79109221],\n",
       "         [0.79108904],\n",
       "         ...,\n",
       "         [0.7910093 ],\n",
       "         [0.79099003],\n",
       "         [0.79096893]],\n",
       "\n",
       "        ...,\n",
       "\n",
       "        [[0.52535058],\n",
       "         [0.91800075],\n",
       "         [0.73202321],\n",
       "         ...,\n",
       "         [0.76849929],\n",
       "         [0.76792448],\n",
       "         [0.77130876]],\n",
       "\n",
       "        [[0.53964597],\n",
       "         [0.9289551 ],\n",
       "         [0.74087747],\n",
       "         ...,\n",
       "         [0.7674642 ],\n",
       "         [0.76778591],\n",
       "         [0.77491655]],\n",
       "\n",
       "        [[0.56418797],\n",
       "         [0.93378998],\n",
       "         [0.75297128],\n",
       "         ...,\n",
       "         [0.76473663],\n",
       "         [0.76685244],\n",
       "         [0.77170824]]],\n",
       "\n",
       "\n",
       "       [[[0.20546088],\n",
       "         [0.78849553],\n",
       "         [0.78849553],\n",
       "         ...,\n",
       "         [0.78849553],\n",
       "         [0.78849553],\n",
       "         [0.78849553]],\n",
       "\n",
       "        [[0.20546088],\n",
       "         [0.78849553],\n",
       "         [0.78849553],\n",
       "         ...,\n",
       "         [0.78849553],\n",
       "         [0.78849553],\n",
       "         [0.78849553]],\n",
       "\n",
       "        [[0.20681228],\n",
       "         [0.78682521],\n",
       "         [0.78950479],\n",
       "         ...,\n",
       "         [0.78877481],\n",
       "         [0.78913202],\n",
       "         [0.78711803]],\n",
       "\n",
       "        ...,\n",
       "\n",
       "        [[0.46627503],\n",
       "         [0.93150052],\n",
       "         [0.746388  ],\n",
       "         ...,\n",
       "         [0.76172629],\n",
       "         [0.77329548],\n",
       "         [0.79201381]],\n",
       "\n",
       "        [[0.47675106],\n",
       "         [0.93779818],\n",
       "         [0.75084276],\n",
       "         ...,\n",
       "         [0.76642519],\n",
       "         [0.77390915],\n",
       "         [0.79631098]],\n",
       "\n",
       "        [[0.4949771 ],\n",
       "         [0.94212682],\n",
       "         [0.75843896],\n",
       "         ...,\n",
       "         [0.76887361],\n",
       "         [0.7738528 ],\n",
       "         [0.79333735]]]])"
      ]
     },
     "execution_count": 17,
     "metadata": {},
     "output_type": "execute_result"
    }
   ],
   "source": [
    "#Normalize X train\n",
    "Max = np.amax(X_train_cnn)\n",
    "Min = np.amin(X_train_cnn)\n",
    "X_train_cnn = (X_train_cnn - Min) / (Max-Min)\n",
    "X_train_cnn"
   ]
  },
  {
   "cell_type": "code",
   "execution_count": 349,
   "metadata": {
    "pycharm": {
     "is_executing": true
    }
   },
   "outputs": [
    {
     "data": {
      "text/plain": [
       "(522, 216, 12, 1)"
      ]
     },
     "execution_count": 349,
     "metadata": {},
     "output_type": "execute_result"
    }
   ],
   "source": [
    "X_test = np.array(test_features)\n",
    "X_test_cnn = np.zeros((len(X_test),216,12))\n",
    "for i in range(len(X_test)):\n",
    "    for j in range(216):\n",
    "        for k in range(12):\n",
    "            X_test_cnn[i,j,k] = X_test[i][j][k]\n",
    "X_test_cnn = X_test_cnn.reshape(len(test_features),216,12,1)\n",
    "X_test_cnn.shape"
   ]
  },
  {
   "cell_type": "code",
   "execution_count": 350,
   "metadata": {
    "pycharm": {
     "is_executing": true
    }
   },
   "outputs": [],
   "source": [
    "#Normalize X test\n",
    "Max = np.amax(X_test_cnn)\n",
    "Min = np.amin(X_test_cnn)\n",
    "X_test_cnn = (X_test_cnn - Min) / (Max-Min)"
   ]
  },
  {
   "cell_type": "code",
   "execution_count": 20,
   "metadata": {
    "pycharm": {
     "is_executing": true
    }
   },
   "outputs": [],
   "source": [
    "y_train = np.array(train_labels)\n",
    "y_test = np.array(test_labels)"
   ]
  },
  {
   "cell_type": "code",
   "execution_count": 21,
   "metadata": {
    "pycharm": {
     "is_executing": true
    }
   },
   "outputs": [
    {
     "name": "stderr",
     "output_type": "stream",
     "text": [
      "c:\\users\\kalelt'has\\appdata\\local\\programs\\python\\python38\\lib\\site-packages\\sklearn\\utils\\validation.py:73: DataConversionWarning: A column-vector y was passed when a 1d array was expected. Please change the shape of y to (n_samples, ), for example using ravel().\n",
      "  return f(**kwargs)\n"
     ]
    }
   ],
   "source": [
    "#Label encoding the labels\n",
    "from keras.utils import np_utils\n",
    "from sklearn.preprocessing import LabelEncoder\n",
    "\n",
    "lb = LabelEncoder()\n",
    "\n",
    "y_train = np_utils.to_categorical(lb.fit_transform(y_train))\n",
    "y_test = np_utils.to_categorical(lb.fit_transform(y_test))"
   ]
  },
  {
   "cell_type": "code",
   "execution_count": 22,
   "metadata": {
    "pycharm": {
     "is_executing": true
    }
   },
   "outputs": [
    {
     "name": "stdout",
     "output_type": "stream",
     "text": [
      "Model: \"sequential\"\n",
      "_________________________________________________________________\n",
      "Layer (type)                 Output Shape              Param #   \n",
      "=================================================================\n",
      "conv2d (Conv2D)              (None, 216, 12, 20)       520       \n",
      "_________________________________________________________________\n",
      "activation (Activation)      (None, 216, 12, 20)       0         \n",
      "_________________________________________________________________\n",
      "max_pooling2d (MaxPooling2D) (None, 108, 6, 20)        0         \n",
      "_________________________________________________________________\n",
      "flatten (Flatten)            (None, 12960)             0         \n",
      "_________________________________________________________________\n",
      "dense (Dense)                (None, 1000)              12961000  \n",
      "_________________________________________________________________\n",
      "activation_1 (Activation)    (None, 1000)              0         \n",
      "_________________________________________________________________\n",
      "dense_1 (Dense)              (None, 7)                 7007      \n",
      "_________________________________________________________________\n",
      "activation_2 (Activation)    (None, 7)                 0         \n",
      "=================================================================\n",
      "Total params: 12,968,527\n",
      "Trainable params: 12,968,527\n",
      "Non-trainable params: 0\n",
      "_________________________________________________________________\n"
     ]
    }
   ],
   "source": [
    "#Initializing the model\n",
    "model = Sequential()\n",
    "\n",
    "model.add(Conv2D(20, kernel_size=5, padding=\"same\", input_shape=(216, 12 ,1)))\n",
    "model.add(Activation('relu'))\n",
    "model.add(MaxPooling2D(pool_size=(2,2), strides=(2,2)))\n",
    "model.add(Flatten())\n",
    "\n",
    "model.add(Dense(1000))\n",
    "model.add(Activation('relu'))\n",
    "\n",
    "model.add(Dense(7))\n",
    "model.add(Activation('softmax'))\n",
    "\n",
    "model.summary()\n",
    "\n",
    "\n"
   ]
  },
  {
   "cell_type": "code",
   "execution_count": 23,
   "metadata": {
    "pycharm": {
     "is_executing": true
    }
   },
   "outputs": [],
   "source": [
    "model.compile(loss='binary_crossentropy', optimizer='adam', metrics=['accuracy'])"
   ]
  },
  {
   "cell_type": "code",
   "execution_count": 24,
   "metadata": {
    "pycharm": {
     "is_executing": true
    }
   },
   "outputs": [
    {
     "name": "stdout",
     "output_type": "stream",
     "text": [
      "Epoch 1/105\n",
      "82/82 [==============================] - 10s 119ms/step - loss: 0.4685 - accuracy: 0.1684 - val_loss: 0.4083 - val_accuracy: 0.1671\n",
      "Epoch 2/105\n",
      "82/82 [==============================] - 9s 114ms/step - loss: 0.4047 - accuracy: 0.1856 - val_loss: 0.4012 - val_accuracy: 0.2629\n",
      "Epoch 3/105\n",
      "82/82 [==============================] - 9s 112ms/step - loss: 0.3936 - accuracy: 0.2526 - val_loss: 0.3903 - val_accuracy: 0.2408\n",
      "Epoch 4/105\n",
      "82/82 [==============================] - 9s 112ms/step - loss: 0.3809 - accuracy: 0.2747 - val_loss: 0.3740 - val_accuracy: 0.2703\n",
      "Epoch 5/105\n",
      "82/82 [==============================] - 10s 117ms/step - loss: 0.3777 - accuracy: 0.2895 - val_loss: 0.3688 - val_accuracy: 0.3292\n",
      "Epoch 6/105\n",
      "82/82 [==============================] - 9s 109ms/step - loss: 0.3701 - accuracy: 0.3098 - val_loss: 0.3687 - val_accuracy: 0.3022\n",
      "Epoch 7/105\n",
      "82/82 [==============================] - 9s 109ms/step - loss: 0.3666 - accuracy: 0.3344 - val_loss: 0.3652 - val_accuracy: 0.3563\n",
      "Epoch 8/105\n",
      "82/82 [==============================] - 9s 108ms/step - loss: 0.3652 - accuracy: 0.3374 - val_loss: 0.3594 - val_accuracy: 0.3489\n",
      "Epoch 9/105\n",
      "82/82 [==============================] - 9s 113ms/step - loss: 0.3604 - accuracy: 0.3503 - val_loss: 0.3657 - val_accuracy: 0.3170\n",
      "Epoch 10/105\n",
      "82/82 [==============================] - 9s 115ms/step - loss: 0.3573 - accuracy: 0.3344 - val_loss: 0.3558 - val_accuracy: 0.3514\n",
      "Epoch 11/105\n",
      "82/82 [==============================] - 10s 126ms/step - loss: 0.3560 - accuracy: 0.3577 - val_loss: 0.3531 - val_accuracy: 0.3808\n",
      "Epoch 12/105\n",
      "82/82 [==============================] - 10s 121ms/step - loss: 0.3516 - accuracy: 0.3657 - val_loss: 0.3522 - val_accuracy: 0.3661\n",
      "Epoch 13/105\n",
      "82/82 [==============================] - 10s 123ms/step - loss: 0.3494 - accuracy: 0.3700 - val_loss: 0.3605 - val_accuracy: 0.3194\n",
      "Epoch 14/105\n",
      "82/82 [==============================] - 9s 112ms/step - loss: 0.3444 - accuracy: 0.4075 - val_loss: 0.3519 - val_accuracy: 0.3956\n",
      "Epoch 15/105\n",
      "82/82 [==============================] - 9s 113ms/step - loss: 0.3380 - accuracy: 0.4050 - val_loss: 0.3421 - val_accuracy: 0.4054\n",
      "Epoch 16/105\n",
      "82/82 [==============================] - 9s 109ms/step - loss: 0.3348 - accuracy: 0.4143 - val_loss: 0.3346 - val_accuracy: 0.4128\n",
      "Epoch 17/105\n",
      "82/82 [==============================] - 9s 108ms/step - loss: 0.3293 - accuracy: 0.4370 - val_loss: 0.3336 - val_accuracy: 0.4054\n",
      "Epoch 18/105\n",
      "82/82 [==============================] - 9s 108ms/step - loss: 0.3262 - accuracy: 0.4401 - val_loss: 0.3353 - val_accuracy: 0.4054\n",
      "Epoch 19/105\n",
      "82/82 [==============================] - 9s 108ms/step - loss: 0.3204 - accuracy: 0.4493 - val_loss: 0.3289 - val_accuracy: 0.4079\n",
      "Epoch 20/105\n",
      "82/82 [==============================] - 9s 111ms/step - loss: 0.3179 - accuracy: 0.4499 - val_loss: 0.3272 - val_accuracy: 0.4324\n",
      "Epoch 21/105\n",
      "82/82 [==============================] - 9s 113ms/step - loss: 0.3152 - accuracy: 0.4647 - val_loss: 0.3258 - val_accuracy: 0.4472\n",
      "Epoch 22/105\n",
      "82/82 [==============================] - 9s 112ms/step - loss: 0.3111 - accuracy: 0.4739 - val_loss: 0.3381 - val_accuracy: 0.4152\n",
      "Epoch 23/105\n",
      "82/82 [==============================] - 9s 111ms/step - loss: 0.3071 - accuracy: 0.4825 - val_loss: 0.3344 - val_accuracy: 0.4079\n",
      "Epoch 24/105\n",
      "82/82 [==============================] - 9s 108ms/step - loss: 0.3085 - accuracy: 0.4708 - val_loss: 0.3144 - val_accuracy: 0.4300\n",
      "Epoch 25/105\n",
      "82/82 [==============================] - 10s 117ms/step - loss: 0.2982 - accuracy: 0.5009 - val_loss: 0.3157 - val_accuracy: 0.4447\n",
      "Epoch 26/105\n",
      "82/82 [==============================] - 9s 113ms/step - loss: 0.2961 - accuracy: 0.5040 - val_loss: 0.3225 - val_accuracy: 0.4545\n",
      "Epoch 27/105\n",
      "82/82 [==============================] - 9s 108ms/step - loss: 0.2941 - accuracy: 0.5101 - val_loss: 0.3172 - val_accuracy: 0.4447\n",
      "Epoch 28/105\n",
      "82/82 [==============================] - 9s 110ms/step - loss: 0.2897 - accuracy: 0.5255 - val_loss: 0.3163 - val_accuracy: 0.4545\n",
      "Epoch 29/105\n",
      "82/82 [==============================] - 10s 118ms/step - loss: 0.2852 - accuracy: 0.5335 - val_loss: 0.3089 - val_accuracy: 0.4398\n",
      "Epoch 30/105\n",
      "82/82 [==============================] - 10s 120ms/step - loss: 0.2796 - accuracy: 0.5403 - val_loss: 0.3091 - val_accuracy: 0.4767\n",
      "Epoch 31/105\n",
      "82/82 [==============================] - 9s 115ms/step - loss: 0.2750 - accuracy: 0.5464 - val_loss: 0.2997 - val_accuracy: 0.5012\n",
      "Epoch 32/105\n",
      "82/82 [==============================] - 10s 118ms/step - loss: 0.2727 - accuracy: 0.5489 - val_loss: 0.3146 - val_accuracy: 0.4791\n",
      "Epoch 33/105\n",
      "82/82 [==============================] - 11s 129ms/step - loss: 0.2688 - accuracy: 0.5507 - val_loss: 0.3123 - val_accuracy: 0.4767\n",
      "Epoch 34/105\n",
      "82/82 [==============================] - 9s 113ms/step - loss: 0.2655 - accuracy: 0.5562 - val_loss: 0.2992 - val_accuracy: 0.4914\n",
      "Epoch 35/105\n",
      "82/82 [==============================] - 9s 113ms/step - loss: 0.2596 - accuracy: 0.5734 - val_loss: 0.3083 - val_accuracy: 0.4472\n",
      "Epoch 36/105\n",
      "82/82 [==============================] - 10s 118ms/step - loss: 0.2571 - accuracy: 0.5839 - val_loss: 0.3022 - val_accuracy: 0.4840\n",
      "Epoch 37/105\n",
      "82/82 [==============================] - 9s 116ms/step - loss: 0.2538 - accuracy: 0.5876 - val_loss: 0.3014 - val_accuracy: 0.4889\n",
      "Epoch 38/105\n",
      "82/82 [==============================] - 9s 113ms/step - loss: 0.2522 - accuracy: 0.5833 - val_loss: 0.3077 - val_accuracy: 0.4373\n",
      "Epoch 39/105\n",
      "82/82 [==============================] - 9s 111ms/step - loss: 0.2516 - accuracy: 0.5907 - val_loss: 0.2953 - val_accuracy: 0.4939\n",
      "Epoch 40/105\n",
      "82/82 [==============================] - 9s 113ms/step - loss: 0.2407 - accuracy: 0.6122 - val_loss: 0.2954 - val_accuracy: 0.4914\n",
      "Epoch 41/105\n",
      "82/82 [==============================] - 9s 114ms/step - loss: 0.2403 - accuracy: 0.6146 - val_loss: 0.2989 - val_accuracy: 0.4742\n",
      "Epoch 42/105\n",
      "82/82 [==============================] - 9s 112ms/step - loss: 0.2358 - accuracy: 0.6275 - val_loss: 0.3016 - val_accuracy: 0.4889\n",
      "Epoch 43/105\n",
      "82/82 [==============================] - 9s 114ms/step - loss: 0.2329 - accuracy: 0.6189 - val_loss: 0.2949 - val_accuracy: 0.5111\n",
      "Epoch 44/105\n",
      "82/82 [==============================] - 9s 114ms/step - loss: 0.2291 - accuracy: 0.6368 - val_loss: 0.2986 - val_accuracy: 0.4939\n",
      "Epoch 45/105\n",
      "82/82 [==============================] - 9s 110ms/step - loss: 0.2280 - accuracy: 0.6318 - val_loss: 0.2979 - val_accuracy: 0.4963\n",
      "Epoch 46/105\n",
      "82/82 [==============================] - 9s 114ms/step - loss: 0.2255 - accuracy: 0.6337 - val_loss: 0.3049 - val_accuracy: 0.4816\n",
      "Epoch 47/105\n",
      "82/82 [==============================] - 9s 112ms/step - loss: 0.2220 - accuracy: 0.6454 - val_loss: 0.3014 - val_accuracy: 0.4889\n",
      "Epoch 48/105\n",
      "82/82 [==============================] - 9s 113ms/step - loss: 0.2155 - accuracy: 0.6497 - val_loss: 0.2974 - val_accuracy: 0.5111\n",
      "Epoch 49/105\n",
      "82/82 [==============================] - 9s 112ms/step - loss: 0.2143 - accuracy: 0.6644 - val_loss: 0.3033 - val_accuracy: 0.4939\n",
      "Epoch 50/105\n",
      "82/82 [==============================] - 9s 115ms/step - loss: 0.2108 - accuracy: 0.6632 - val_loss: 0.3132 - val_accuracy: 0.4963\n",
      "Epoch 51/105\n",
      "82/82 [==============================] - 9s 114ms/step - loss: 0.2116 - accuracy: 0.6736 - val_loss: 0.3020 - val_accuracy: 0.5184\n",
      "Epoch 52/105\n",
      "82/82 [==============================] - 9s 111ms/step - loss: 0.2054 - accuracy: 0.6669 - val_loss: 0.2948 - val_accuracy: 0.5283\n",
      "Epoch 53/105\n",
      "82/82 [==============================] - 9s 114ms/step - loss: 0.2051 - accuracy: 0.6785 - val_loss: 0.2895 - val_accuracy: 0.4963\n",
      "Epoch 54/105\n",
      "82/82 [==============================] - 10s 126ms/step - loss: 0.1991 - accuracy: 0.6878 - val_loss: 0.2920 - val_accuracy: 0.5307\n",
      "Epoch 55/105\n",
      "82/82 [==============================] - 9s 114ms/step - loss: 0.1971 - accuracy: 0.6908 - val_loss: 0.2874 - val_accuracy: 0.5209\n",
      "Epoch 56/105\n",
      "82/82 [==============================] - 11s 129ms/step - loss: 0.1928 - accuracy: 0.6951 - val_loss: 0.2992 - val_accuracy: 0.5012\n",
      "Epoch 57/105\n",
      "82/82 [==============================] - 11s 134ms/step - loss: 0.1929 - accuracy: 0.6976 - val_loss: 0.3058 - val_accuracy: 0.5012\n"
     ]
    },
    {
     "name": "stdout",
     "output_type": "stream",
     "text": [
      "Epoch 58/105\n",
      "82/82 [==============================] - 9s 112ms/step - loss: 0.1869 - accuracy: 0.7277 - val_loss: 0.3079 - val_accuracy: 0.5258\n",
      "Epoch 59/105\n",
      "82/82 [==============================] - 9s 113ms/step - loss: 0.1852 - accuracy: 0.7136 - val_loss: 0.2991 - val_accuracy: 0.5209\n",
      "Epoch 60/105\n",
      "82/82 [==============================] - 10s 120ms/step - loss: 0.1802 - accuracy: 0.7345 - val_loss: 0.2895 - val_accuracy: 0.5184\n",
      "Epoch 61/105\n",
      "82/82 [==============================] - 9s 112ms/step - loss: 0.1755 - accuracy: 0.7412 - val_loss: 0.2907 - val_accuracy: 0.5307\n",
      "Epoch 62/105\n",
      "82/82 [==============================] - 9s 113ms/step - loss: 0.1739 - accuracy: 0.7425 - val_loss: 0.2996 - val_accuracy: 0.5086\n",
      "Epoch 63/105\n",
      "82/82 [==============================] - 10s 117ms/step - loss: 0.1722 - accuracy: 0.7462 - val_loss: 0.2910 - val_accuracy: 0.5307\n",
      "Epoch 64/105\n",
      "82/82 [==============================] - 9s 114ms/step - loss: 0.1699 - accuracy: 0.7400 - val_loss: 0.2990 - val_accuracy: 0.5184\n",
      "Epoch 65/105\n",
      "82/82 [==============================] - 9s 116ms/step - loss: 0.1668 - accuracy: 0.7523 - val_loss: 0.3014 - val_accuracy: 0.5283\n",
      "Epoch 66/105\n",
      "82/82 [==============================] - 10s 118ms/step - loss: 0.1647 - accuracy: 0.7523 - val_loss: 0.3089 - val_accuracy: 0.5307\n",
      "Epoch 67/105\n",
      "82/82 [==============================] - 10s 117ms/step - loss: 0.1621 - accuracy: 0.7640 - val_loss: 0.2946 - val_accuracy: 0.5160\n",
      "Epoch 68/105\n",
      "82/82 [==============================] - 9s 112ms/step - loss: 0.1584 - accuracy: 0.7658 - val_loss: 0.2944 - val_accuracy: 0.5332\n",
      "Epoch 69/105\n",
      "82/82 [==============================] - 9s 110ms/step - loss: 0.1523 - accuracy: 0.7720 - val_loss: 0.2987 - val_accuracy: 0.5307\n",
      "Epoch 70/105\n",
      "82/82 [==============================] - 9s 114ms/step - loss: 0.1576 - accuracy: 0.7695 - val_loss: 0.3025 - val_accuracy: 0.5332\n",
      "Epoch 71/105\n",
      "82/82 [==============================] - 9s 112ms/step - loss: 0.1533 - accuracy: 0.7818 - val_loss: 0.3111 - val_accuracy: 0.5111\n",
      "Epoch 72/105\n",
      "82/82 [==============================] - 9s 112ms/step - loss: 0.1487 - accuracy: 0.7886 - val_loss: 0.2897 - val_accuracy: 0.5577\n",
      "Epoch 73/105\n",
      "82/82 [==============================] - 9s 114ms/step - loss: 0.1473 - accuracy: 0.7837 - val_loss: 0.2910 - val_accuracy: 0.5430\n",
      "Epoch 74/105\n",
      "82/82 [==============================] - 9s 112ms/step - loss: 0.1450 - accuracy: 0.7916 - val_loss: 0.3024 - val_accuracy: 0.5405\n",
      "Epoch 75/105\n",
      "82/82 [==============================] - 9s 116ms/step - loss: 0.1402 - accuracy: 0.8107 - val_loss: 0.2889 - val_accuracy: 0.5627\n",
      "Epoch 76/105\n",
      "82/82 [==============================] - 10s 121ms/step - loss: 0.1399 - accuracy: 0.8144 - val_loss: 0.2916 - val_accuracy: 0.5602\n",
      "Epoch 77/105\n",
      "82/82 [==============================] - 10s 119ms/step - loss: 0.1384 - accuracy: 0.8021 - val_loss: 0.3051 - val_accuracy: 0.5528\n",
      "Epoch 78/105\n",
      "82/82 [==============================] - 11s 133ms/step - loss: 0.1356 - accuracy: 0.8107 - val_loss: 0.3063 - val_accuracy: 0.5627\n",
      "Epoch 79/105\n",
      "82/82 [==============================] - 12s 143ms/step - loss: 0.1311 - accuracy: 0.8273 - val_loss: 0.2998 - val_accuracy: 0.5307\n",
      "Epoch 80/105\n",
      "82/82 [==============================] - 11s 131ms/step - loss: 0.1304 - accuracy: 0.8119 - val_loss: 0.2957 - val_accuracy: 0.5627\n",
      "Epoch 81/105\n",
      "82/82 [==============================] - 10s 117ms/step - loss: 0.1306 - accuracy: 0.8162 - val_loss: 0.2934 - val_accuracy: 0.5700\n",
      "Epoch 82/105\n",
      "82/82 [==============================] - 9s 115ms/step - loss: 0.1247 - accuracy: 0.8310 - val_loss: 0.3042 - val_accuracy: 0.5356\n",
      "Epoch 83/105\n",
      "82/82 [==============================] - 9s 111ms/step - loss: 0.1265 - accuracy: 0.8291 - val_loss: 0.3061 - val_accuracy: 0.5430\n",
      "Epoch 84/105\n",
      "82/82 [==============================] - 11s 129ms/step - loss: 0.1245 - accuracy: 0.8316 - val_loss: 0.3041 - val_accuracy: 0.5332\n",
      "Epoch 85/105\n",
      "82/82 [==============================] - 12s 141ms/step - loss: 0.1190 - accuracy: 0.8402 - val_loss: 0.3012 - val_accuracy: 0.5700\n",
      "Epoch 86/105\n",
      "82/82 [==============================] - 9s 113ms/step - loss: 0.1183 - accuracy: 0.8420 - val_loss: 0.3022 - val_accuracy: 0.5504\n",
      "Epoch 87/105\n",
      "82/82 [==============================] - 9s 108ms/step - loss: 0.1100 - accuracy: 0.8617 - val_loss: 0.3057 - val_accuracy: 0.5577\n",
      "Epoch 88/105\n",
      "82/82 [==============================] - 9s 108ms/step - loss: 0.1138 - accuracy: 0.8500 - val_loss: 0.3073 - val_accuracy: 0.5676\n",
      "Epoch 89/105\n",
      "82/82 [==============================] - 9s 108ms/step - loss: 0.1084 - accuracy: 0.8531 - val_loss: 0.3043 - val_accuracy: 0.5553\n",
      "Epoch 90/105\n",
      "82/82 [==============================] - 9s 108ms/step - loss: 0.1129 - accuracy: 0.8396 - val_loss: 0.3319 - val_accuracy: 0.5479\n",
      "Epoch 91/105\n",
      "82/82 [==============================] - 9s 109ms/step - loss: 0.1069 - accuracy: 0.8605 - val_loss: 0.3357 - val_accuracy: 0.5381\n",
      "Epoch 92/105\n",
      "82/82 [==============================] - 10s 119ms/step - loss: 0.1009 - accuracy: 0.8758 - val_loss: 0.3148 - val_accuracy: 0.5700\n",
      "Epoch 93/105\n",
      "82/82 [==============================] - 9s 112ms/step - loss: 0.0976 - accuracy: 0.8783 - val_loss: 0.3214 - val_accuracy: 0.5553\n",
      "Epoch 94/105\n",
      "82/82 [==============================] - 9s 114ms/step - loss: 0.0943 - accuracy: 0.8771 - val_loss: 0.3170 - val_accuracy: 0.5676\n",
      "Epoch 95/105\n",
      "82/82 [==============================] - 9s 109ms/step - loss: 0.1004 - accuracy: 0.8697 - val_loss: 0.3112 - val_accuracy: 0.5479\n",
      "Epoch 96/105\n",
      "82/82 [==============================] - 9s 110ms/step - loss: 0.0946 - accuracy: 0.8801 - val_loss: 0.3138 - val_accuracy: 0.5823\n",
      "Epoch 97/105\n",
      "82/82 [==============================] - 9s 110ms/step - loss: 0.0948 - accuracy: 0.8783 - val_loss: 0.3452 - val_accuracy: 0.5258\n",
      "Epoch 98/105\n",
      "82/82 [==============================] - 10s 119ms/step - loss: 0.0926 - accuracy: 0.8795 - val_loss: 0.3446 - val_accuracy: 0.5184\n",
      "Epoch 99/105\n",
      "82/82 [==============================] - 9s 108ms/step - loss: 0.0870 - accuracy: 0.8863 - val_loss: 0.3060 - val_accuracy: 0.5725\n",
      "Epoch 100/105\n",
      "82/82 [==============================] - 9s 110ms/step - loss: 0.0858 - accuracy: 0.8955 - val_loss: 0.3310 - val_accuracy: 0.5479\n",
      "Epoch 101/105\n",
      "82/82 [==============================] - 9s 113ms/step - loss: 0.0899 - accuracy: 0.8826 - val_loss: 0.3482 - val_accuracy: 0.5332\n",
      "Epoch 102/105\n",
      "82/82 [==============================] - 10s 116ms/step - loss: 0.0817 - accuracy: 0.9053 - val_loss: 0.3275 - val_accuracy: 0.5577\n",
      "Epoch 103/105\n",
      "82/82 [==============================] - 9s 112ms/step - loss: 0.0776 - accuracy: 0.9041 - val_loss: 0.3277 - val_accuracy: 0.5725\n",
      "Epoch 104/105\n",
      "82/82 [==============================] - 9s 111ms/step - loss: 0.0779 - accuracy: 0.9053 - val_loss: 0.3348 - val_accuracy: 0.5627\n",
      "Epoch 105/105\n",
      "82/82 [==============================] - 9s 110ms/step - loss: 0.0780 - accuracy: 0.9078 - val_loss: 0.3324 - val_accuracy: 0.5627\n"
     ]
    }
   ],
   "source": [
    "cnnhistory = model.fit(X_train_cnn, y_train, batch_size=20, epochs=105, verbose=1, validation_split=0.2)"
   ]
  },
  {
   "cell_type": "code",
   "execution_count": 25,
   "metadata": {
    "pycharm": {
     "is_executing": true
    }
   },
   "outputs": [
    {
     "data": {
      "image/png": "[encoded data removed]",
      "text/plain": [
       "<Figure size 432x288 with 1 Axes>"
      ]
     },
     "metadata": {
      "needs_background": "light"
     },
     "output_type": "display_data"
    }
   ],
   "source": [
    "plt.plot(cnnhistory.history['loss'])\n",
    "plt.plot(cnnhistory.history['val_loss'])\n",
    "plt.title('model loss')\n",
    "plt.ylabel('loss')\n",
    "plt.xlabel('epoch')\n",
    "plt.legend(['train', 'test'], loc='upper left')\n",
    "plt.show()"
   ]
  },
  {
   "cell_type": "code",
   "execution_count": 26,
   "metadata": {
    "pycharm": {
     "is_executing": true
    }
   },
   "outputs": [
    {
     "name": "stdout",
     "output_type": "stream",
     "text": [
      "17/17 [==============================] - 0s 26ms/step - loss: 0.3364 - accuracy: 0.5805\n"
     ]
    }
   ],
   "source": [
    "scores = model.evaluate(X_test_cnn, y_test)"
   ]
  },
  {
   "cell_type": "code",
   "execution_count": 27,
   "metadata": {
    "pycharm": {
     "is_executing": true
    }
   },
   "outputs": [
    {
     "name": "stdout",
     "output_type": "stream",
     "text": [
      "accuracy: 58.05%\n"
     ]
    }
   ],
   "source": [
    "print(\"%s: %.2f%%\" % (model.metrics_names[1], scores[1]*100))"
   ]
  },
  {
   "cell_type": "code",
   "execution_count": 28,
   "metadata": {
    "pycharm": {
     "is_executing": true
    }
   },
   "outputs": [
    {
     "name": "stdout",
     "output_type": "stream",
     "text": [
      "Saved trained model at C:\\Users\\Kalelt'has\\Desktop\\Stage\\ASP\\saved_models\\Emotion_Voice_Detection_Model.h5 \n"
     ]
    }
   ],
   "source": [
    "model_name = 'Emotion_Voice_Detection_Model.h5'\n",
    "save_dir = os.path.join(os.getcwd(), 'saved_models')\n",
    "# Save model and weights\n",
    "if not os.path.isdir(save_dir):\n",
    "    os.makedirs(save_dir)\n",
    "model_path = os.path.join(save_dir, model_name)\n",
    "model.save(model_path)\n",
    "print('Saved trained model at %s ' % model_path)"
   ]
  },
  {
   "cell_type": "code",
   "execution_count": 29,
   "metadata": {},
   "outputs": [],
   "source": [
    "import json\n",
    "model_json = model.to_json()\n",
    "with open(\"model.json\", \"w\") as json_file:\n",
    "    json_file.write(model_json)"
   ]
  },
  {
   "cell_type": "code",
   "execution_count": 305,
   "metadata": {},
   "outputs": [
    {
     "name": "stdout",
     "output_type": "stream",
     "text": [
      "Loaded model from disk\n"
     ]
    }
   ],
   "source": [
    "# loading json and creating model\n",
    "from keras.models import model_from_json\n",
    "json_file = open('model.json', 'r')\n",
    "loaded_model_json = json_file.read()\n",
    "json_file.close()\n",
    "loaded_model = model_from_json(loaded_model_json)\n",
    "# load weights into new model\n",
    "loaded_model.load_weights(\"saved_models/Emotion_Voice_Detection_Model.h5\")\n",
    "print(\"Loaded model from disk\")"
   ]
  },
  {
   "cell_type": "code",
   "execution_count": 351,
   "metadata": {},
   "outputs": [
    {
     "name": "stdout",
     "output_type": "stream",
     "text": [
      "accuracy: 58.05%\n"
     ]
    }
   ],
   "source": [
    "# evaluate loaded model on test data\n",
    "loaded_model.compile(loss='binary_crossentropy', optimizer='adam', metrics=['accuracy'])\n",
    "score = loaded_model.evaluate(X_test_cnn, y_test, verbose=0)\n",
    "print(\"%s: %.2f%%\" % (loaded_model.metrics_names[1], score[1]*100))"
   ]
  },
  {
   "cell_type": "code",
   "execution_count": 353,
   "metadata": {},
   "outputs": [
    {
     "name": "stdout",
     "output_type": "stream",
     "text": [
      "17/17 [==============================] - 1s 31ms/step\n"
     ]
    },
    {
     "data": {
      "text/html": [
       "<div>\n",
       "<style scoped>\n",
       "    .dataframe tbody tr th:only-of-type {\n",
       "        vertical-align: middle;\n",
       "    }\n",
       "\n",
       "    .dataframe tbody tr th {\n",
       "        vertical-align: top;\n",
       "    }\n",
       "\n",
       "    .dataframe thead th {\n",
       "        text-align: right;\n",
       "    }\n",
       "</style>\n",
       "<table border=\"1\" class=\"dataframe\">\n",
       "  <thead>\n",
       "    <tr style=\"text-align: right;\">\n",
       "      <th></th>\n",
       "      <th>predictedvalues</th>\n",
       "    </tr>\n",
       "    <tr>\n",
       "      <th>actualvalues</th>\n",
       "      <th></th>\n",
       "    </tr>\n",
       "  </thead>\n",
       "  <tbody>\n",
       "    <tr>\n",
       "      <th>angry</th>\n",
       "      <td>88</td>\n",
       "    </tr>\n",
       "    <tr>\n",
       "      <th>disgust</th>\n",
       "      <td>45</td>\n",
       "    </tr>\n",
       "    <tr>\n",
       "      <th>fearful</th>\n",
       "      <td>94</td>\n",
       "    </tr>\n",
       "    <tr>\n",
       "      <th>happy</th>\n",
       "      <td>92</td>\n",
       "    </tr>\n",
       "    <tr>\n",
       "      <th>neutral</th>\n",
       "      <td>72</td>\n",
       "    </tr>\n",
       "    <tr>\n",
       "      <th>sad</th>\n",
       "      <td>77</td>\n",
       "    </tr>\n",
       "    <tr>\n",
       "      <th>surprised</th>\n",
       "      <td>54</td>\n",
       "    </tr>\n",
       "  </tbody>\n",
       "</table>\n",
       "</div>"
      ],
      "text/plain": [
       "              predictedvalues\n",
       "actualvalues                 \n",
       "angry                      88\n",
       "disgust                    45\n",
       "fearful                    94\n",
       "happy                      92\n",
       "neutral                    72\n",
       "sad                        77\n",
       "surprised                  54"
      ]
     },
     "execution_count": 353,
     "metadata": {},
     "output_type": "execute_result"
    }
   ],
   "source": [
    "preds = loaded_model.predict(X_test_cnn, \n",
    "                         batch_size=32, \n",
    "                         verbose=1)\n",
    "preds1=preds.argmax(axis=1)\n",
    "abc = preds1.astype(int).flatten()\n",
    "predictions = (lb.inverse_transform((abc)))\n",
    "preddf = pd.DataFrame({'predictedvalues': predictions})\n",
    "actual=y_test.argmax(axis=1)\n",
    "abc123 = actual.astype(int).flatten()\n",
    "actualvalues = (lb.inverse_transform((abc123)))\n",
    "actualdf = pd.DataFrame({'actualvalues': actualvalues})\n",
    "finaldf = actualdf.join(preddf)\n",
    "finaldf.groupby('actualvalues').count()\n"
   ]
  },
  {
   "cell_type": "code",
   "execution_count": 354,
   "metadata": {},
   "outputs": [
    {
     "data": {
      "text/html": [
       "<div>\n",
       "<style scoped>\n",
       "    .dataframe tbody tr th:only-of-type {\n",
       "        vertical-align: middle;\n",
       "    }\n",
       "\n",
       "    .dataframe tbody tr th {\n",
       "        vertical-align: top;\n",
       "    }\n",
       "\n",
       "    .dataframe thead th {\n",
       "        text-align: right;\n",
       "    }\n",
       "</style>\n",
       "<table border=\"1\" class=\"dataframe\">\n",
       "  <thead>\n",
       "    <tr style=\"text-align: right;\">\n",
       "      <th></th>\n",
       "      <th>actualvalues</th>\n",
       "    </tr>\n",
       "    <tr>\n",
       "      <th>predictedvalues</th>\n",
       "      <th></th>\n",
       "    </tr>\n",
       "  </thead>\n",
       "  <tbody>\n",
       "    <tr>\n",
       "      <th>angry</th>\n",
       "      <td>97</td>\n",
       "    </tr>\n",
       "    <tr>\n",
       "      <th>disgust</th>\n",
       "      <td>45</td>\n",
       "    </tr>\n",
       "    <tr>\n",
       "      <th>fearful</th>\n",
       "      <td>86</td>\n",
       "    </tr>\n",
       "    <tr>\n",
       "      <th>happy</th>\n",
       "      <td>83</td>\n",
       "    </tr>\n",
       "    <tr>\n",
       "      <th>neutral</th>\n",
       "      <td>95</td>\n",
       "    </tr>\n",
       "    <tr>\n",
       "      <th>sad</th>\n",
       "      <td>82</td>\n",
       "    </tr>\n",
       "    <tr>\n",
       "      <th>surprised</th>\n",
       "      <td>34</td>\n",
       "    </tr>\n",
       "  </tbody>\n",
       "</table>\n",
       "</div>"
      ],
      "text/plain": [
       "                 actualvalues\n",
       "predictedvalues              \n",
       "angry                      97\n",
       "disgust                    45\n",
       "fearful                    86\n",
       "happy                      83\n",
       "neutral                    95\n",
       "sad                        82\n",
       "surprised                  34"
      ]
     },
     "execution_count": 354,
     "metadata": {},
     "output_type": "execute_result"
    }
   ],
   "source": [
    "finaldf.groupby('predictedvalues').count()\n"
   ]
  },
  {
   "cell_type": "code",
   "execution_count": 391,
   "metadata": {},
   "outputs": [],
   "source": [
    "data, sampling_rate = librosa.load('C:\\\\Users\\Kalelt\\'has\\Desktop\\Stage\\ASP\\saved_voice\\\\Raw Mark Henry Theme Song.wav')"
   ]
  },
  {
   "cell_type": "code",
   "execution_count": 392,
   "metadata": {},
   "outputs": [
    {
     "data": {
      "text/plain": [
       "<matplotlib.collections.PolyCollection at 0x22e4241e9d0>"
      ]
     },
     "execution_count": 392,
     "metadata": {},
     "output_type": "execute_result"
    },
    {
     "data": {
      "image/png": "[encoded data removed]",
      "text/plain": [
       "<Figure size 1080x360 with 1 Axes>"
      ]
     },
     "metadata": {
      "needs_background": "light"
     },
     "output_type": "display_data"
    }
   ],
   "source": [
    "import os\n",
    "import pandas as pd\n",
    "import librosa\n",
    "import glob \n",
    "\n",
    "plt.figure(figsize=(15, 5))\n",
    "librosa.display.waveplot(data, sr=sampling_rate)"
   ]
  },
  {
   "cell_type": "code",
   "execution_count": 393,
   "metadata": {},
   "outputs": [],
   "source": [
    "#Prepare the dict for the recorded sample\n",
    "my_dict = {}\n",
    "i=0\n",
    "for i in range(216):\n",
    "    my_dict[i] = np.zeros(12)"
   ]
  },
  {
   "cell_type": "code",
   "execution_count": 394,
   "metadata": {},
   "outputs": [],
   "source": [
    "X, sample_rate = librosa.load('C:\\\\Users\\Kalelt\\'has\\Desktop\\Stage\\ASP\\saved_voice\\\\Raw Mark Henry Theme Song.wav', res_type='kaiser_fast',duration=2.5,sr=22050*2,offset=0.5)\n",
    "sample_rate = np.array(sample_rate)\n",
    "mfccs = librosa.feature.mfcc(y=X,sr=sample_rate,n_mfcc=12).T\n",
    "for i in range(len(mfccs)):\n",
    "    my_dict[i] = mfccs[i]"
   ]
  },
  {
   "cell_type": "code",
   "execution_count": 395,
   "metadata": {},
   "outputs": [],
   "source": [
    "df_record = pd.DataFrame.from_dict(my_dict, orient='index')"
   ]
  },
  {
   "cell_type": "code",
   "execution_count": 396,
   "metadata": {},
   "outputs": [
    {
     "data": {
      "text/plain": [
       "(216, 12)"
      ]
     },
     "execution_count": 396,
     "metadata": {},
     "output_type": "execute_result"
    }
   ],
   "source": [
    "X_record = np.array(df_record)\n",
    "X_record.shape"
   ]
  },
  {
   "cell_type": "code",
   "execution_count": 397,
   "metadata": {},
   "outputs": [],
   "source": [
    "# X_record_cnn = np.zeros((1,216,12))\n",
    "# for i in range(216):\n",
    "#     for j in range(12):\n",
    "#         X_record_cnn[0][i][j] = X_record[i,j]"
   ]
  },
  {
   "cell_type": "code",
   "execution_count": 398,
   "metadata": {},
   "outputs": [],
   "source": [
    "X_record = X_record.reshape(1,216,12,1)"
   ]
  },
  {
   "cell_type": "code",
   "execution_count": 399,
   "metadata": {},
   "outputs": [],
   "source": [
    "livepreds = loaded_model.predict(X_record, \n",
    "                         batch_size=32)"
   ]
  },
  {
   "cell_type": "code",
   "execution_count": 400,
   "metadata": {},
   "outputs": [
    {
     "data": {
      "text/plain": [
       "array([[0., 1., 0., 0., 0., 0., 0.]], dtype=float32)"
      ]
     },
     "execution_count": 400,
     "metadata": {},
     "output_type": "execute_result"
    }
   ],
   "source": [
    "livepreds"
   ]
  },
  {
   "cell_type": "code",
   "execution_count": 401,
   "metadata": {},
   "outputs": [
    {
     "data": {
      "text/plain": [
       "array(['disgust'], dtype=object)"
      ]
     },
     "execution_count": 401,
     "metadata": {},
     "output_type": "execute_result"
    }
   ],
   "source": [
    "livepreds1=livepreds.argmax(axis=1)\n",
    "liveabc = livepreds1.astype(int).flatten()\n",
    "livepredictions = (lb.inverse_transform((liveabc)))\n",
    "livepredictions\n"
   ]
  },
  {
   "cell_type": "code",
   "execution_count": null,
   "metadata": {},
   "outputs": [],
   "source": []
  }
 ],
 "metadata": {
  "kernelspec": {
   "display_name": "Python 3",
   "language": "python",
   "name": "python3"
  },
  "language_info": {
   "codemirror_mode": {
    "name": "ipython",
    "version": 3
   },
   "file_extension": ".py",
   "mimetype": "text/x-python",
   "name": "python",
   "nbconvert_exporter": "python",
   "pygments_lexer": "ipython3",
   "version": "3.8.5"
  },
  "pycharm": {
   "stem_cell": {
    "cell_type": "raw",
    "metadata": {
     "collapsed": false
    },
    "source": []
   }
  }
 },
 "nbformat": 4,
 "nbformat_minor": 4
}
